{
 "cells": [
  {
   "cell_type": "code",
   "execution_count": 2,
   "metadata": {
    "collapsed": true
   },
   "outputs": [],
   "source": [
    "#!/usr/bin/env python\n",
    "# -*- coding: utf-8 -*-\n",
    "\n",
    "import numpy as np\n",
    "import matplotlib.pyplot as plt\n",
    "\n",
    "def lkf(T, Y, U, mu0, Sigma0, A, B, C, Q, R):\n",
    "    '''Linear Kalman Filter\n",
    "    \n",
    "    - 状態方程式\n",
    "        x = A * x_ + B * u + w, w ~ N(0,Q)\n",
    "    - 観測方程式\n",
    "        y = C * x + v, v ~ N(0,R)\n",
    "    \n",
    "    Parameters\n",
    "    ==========\n",
    "    - T : ステップ数\n",
    "    - Y : 観測列\n",
    "    - U : 入力列\n",
    "    - mu0 : 初期状態推定値\n",
    "    - Sigma0 : 初期誤差共分散行列\n",
    "    - A, B, C, Q, R : カルマンフィルタの係数 \n",
    "    \n",
    "    Returns\n",
    "    =======\n",
    "    - M : 状態推定値列\n",
    "    '''\n",
    "\n",
    "    mu = mu0 # 初期状態推定値\n",
    "    Sigma = Sigma0 # 初期誤差共分散行列\n",
    "\n",
    "    M = [mu] # 状態推定値列\n",
    "\n",
    "    for i in range(T):\n",
    "        # 推定\n",
    "        mu_ = A * mu + B * U[i]\n",
    "        Sigma_ = Q + A * Sigma * A.T\n",
    "\n",
    "        # 更新\n",
    "        yi = Y[i+1] - C * mu_\n",
    "        S = C * Sigma_ * C.T + R\n",
    "        K = Sigma_ * C.T * S.I\n",
    "        mu = mu_ + K * yi\n",
    "        Sigma = Sigma_ - K * C * Sigma_\n",
    "        M.append(mu)\n",
    "\n",
    "    return M"
   ]
  },
  {
   "cell_type": "code",
   "execution_count": 25,
   "metadata": {
    "collapsed": true
   },
   "outputs": [],
   "source": [
    "# 状態方程式\n",
    "# x = A * x_ + B * u + w, w ~ N(0,Q)\n",
    "A = np.mat([[1,0], [0,1]])\n",
    "B = np.mat([[1,0], [0,1]])\n",
    "Q = np.mat([[1,0], [0,1]])\n",
    "# 観測方程式\n",
    "# y = C * x + v, v ~ N(0,R)\n",
    "C = np.mat([[1,0], [0,1]])\n",
    "R = np.mat([[2,0], [0,2]])\n",
    "\n",
    "# 観測のテストデータの生成\n",
    "T = 20 # 観測数\n",
    "x = np.mat([[0],[0]]) # 初期位置\n",
    "X = [x] # 状態列\n",
    "Y = [x] # 観測列\n",
    "u = np.mat([[2],[2]]) # 入力（一定）\n",
    "U = [u] # 入力列\n",
    "for i in range(T):\n",
    "    x = A * x + B * u + np.random.multivariate_normal([0, 0], Q, 1).T\n",
    "    X.append(x)\n",
    "    y = C * x + np.random.multivariate_normal([0, 0], R, 1).T\n",
    "    Y.append(y)\n",
    "    U.append(u)\n",
    "    "
   ]
  },
  {
   "cell_type": "code",
   "execution_count": 26,
   "metadata": {
    "collapsed": true
   },
   "outputs": [],
   "source": [
    "# LKF\n",
    "mu0 = np.mat([[0],[0]]) # 初期状態推定値\n",
    "Sigma0 = np.mat([[0,0],[0,0]]) # 初期誤差共分散行列\n",
    "\n",
    "M = lkf(T, Y, U, mu0, Sigma0, A, B, C, Q, R)\n",
    "mu = mu0 # 初期状態推定値\n",
    "Sigma = Sigma0 # 初期誤差共分散行列\n",
    "\n",
    "M = [mu] # 状態推定値列\n",
    "\n",
    "for i in range(T):\n",
    "    # 推定\n",
    "    mu_ = A * mu + B * U[i]\n",
    "    Sigma_ = Q + A * Sigma * A.T\n",
    "\n",
    "    # 更新\n",
    "    yi = Y[i+1] - C * mu_\n",
    "    S = C * Sigma_ * C.T + R\n",
    "    K = Sigma_ * C.T * S.I\n",
    "    mu = mu_ + K * yi\n",
    "    Sigma = Sigma_ - K * C * Sigma_\n",
    "    M.append(mu)"
   ]
  },
  {
   "cell_type": "code",
   "execution_count": 28,
   "metadata": {
    "collapsed": false
   },
   "outputs": [
    {
     "data": {
      "text/plain": [
       "(2, 1)"
      ]
     },
     "execution_count": 28,
     "metadata": {},
     "output_type": "execute_result"
    }
   ],
   "source": [
    "mu0.shape"
   ]
  },
  {
   "cell_type": "code",
   "execution_count": 24,
   "metadata": {
    "collapsed": false
   },
   "outputs": [
    {
     "data": {
      "image/png": "[encoded data removed]",
      "text/plain": [
       "<matplotlib.figure.Figure at 0x7f37d5b1bc10>"
      ]
     },
     "metadata": {},
     "output_type": "display_data"
    }
   ],
   "source": [
    "# 描画\n",
    "a, b = np.array(np.concatenate(X,axis=1))\n",
    "plt.plot(a,b,'rs-', label='state')\n",
    "a, b = np.array(np.concatenate(Y,axis=1))\n",
    "plt.plot(a,b,'g^-', label='observation')\n",
    "a, b = np.array(np.concatenate(M,axis=1))\n",
    "plt.plot(a,b,'bo-', label='filtered')\n",
    "plt.axis('equal')\n",
    "plt.legend()\n",
    "plt.show()"
   ]
  },
  {
   "cell_type": "code",
   "execution_count": null,
   "metadata": {
    "collapsed": true
   },
   "outputs": [],
   "source": []
  }
 ],
 "metadata": {
  "kernelspec": {
   "display_name": "Python 2",
   "language": "python",
   "name": "python2"
  },
  "language_info": {
   "codemirror_mode": {
    "name": "ipython",
    "version": 2
   },
   "file_extension": ".py",
   "mimetype": "text/x-python",
   "name": "python",
   "nbconvert_exporter": "python",
   "pygments_lexer": "ipython2",
   "version": "2.7.13"
  }
 },
 "nbformat": 4,
 "nbformat_minor": 2
}
