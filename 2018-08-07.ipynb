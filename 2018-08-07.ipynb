{
 "cells": [
  {
   "cell_type": "code",
   "execution_count": 1,
   "metadata": {
    "collapsed": false
   },
   "outputs": [],
   "source": [
    "from util import *\n",
    "import os, shutil\n",
    "import pandas as pd\n",
    "\n",
    "from opmap.videoData import VideoData\n",
    "from opmap.vmemMap import VmemMap\n",
    "from opmap.phaseMap import PhaseMap\n",
    "from opmap.phaseVarianceMap import PhaseVarianceMap\n",
    "from elecpy.elecpySession import ElecpySession\n",
    "\n",
    "%matplotlib inline"
   ]
  },
  {
   "cell_type": "code",
   "execution_count": 3,
   "metadata": {
    "collapsed": false
   },
   "outputs": [
    {
     "name": "stdout",
     "output_type": "stream",
     "text": [
      "/mnt/recordings/AnalysisResult/Tomii/2018-08-07/\n"
     ]
    }
   ],
   "source": [
    "src_dir = '/mnt/recordings/SimulationResult/'\n",
    "save_dir = '/mnt/recordings/AnalysisResult/Tomii/2018-08-07/'\n",
    "print(save_dir)\n",
    "if not os.path.exists(save_dir) : os.mkdir(save_dir)"
   ]
  },
  {
   "cell_type": "code",
   "execution_count": 2,
   "metadata": {
    "collapsed": false
   },
   "outputs": [],
   "source": [
    "def analyzeSession(sess, save_dir=None):\n",
    "    cam = VideoData(*sess.data['vmem'].shape)\n",
    "    cam.data = - sess.data['vmem']\n",
    "    v = VmemMap(cam);del(cam)\n",
    "    p = PhaseMap(v, width = v.data.shape[2]); \n",
    "    p.data = - p.data\n",
    "    pv = PhaseVarianceMap(p, size=3)\n",
    "    \n",
    "    if save_dir is not None:\n",
    "        v.saveImage( os.path.join(save_dir, 'vmem'))\n",
    "        p.saveImage( os.path.join(save_dir, 'pmap'))\n",
    "        pv.saveImage( os.path.join(save_dir, 'pvmap'))\n",
    "\n",
    "    sess.data['phase'] = p.data\n",
    "    sess.data['pv'] = pv.data"
   ]
  },
  {
   "cell_type": "markdown",
   "metadata": {},
   "source": [
    "## Check whole dynamics"
   ]
  },
  {
   "cell_type": "code",
   "execution_count": 74,
   "metadata": {
    "collapsed": false
   },
   "outputs": [
    {
     "data": {
      "text/html": [
       "<div>\n",
       "<table border=\"1\" class=\"dataframe\">\n",
       "  <thead>\n",
       "    <tr style=\"text-align: right;\">\n",
       "      <th></th>\n",
       "      <th>sim_id</th>\n",
       "      <th>gna</th>\n",
       "      <th>description</th>\n",
       "    </tr>\n",
       "  </thead>\n",
       "  <tbody>\n",
       "    <tr>\n",
       "      <th>0</th>\n",
       "      <td>20180806-1</td>\n",
       "      <td>16.0</td>\n",
       "      <td>default</td>\n",
       "    </tr>\n",
       "    <tr>\n",
       "      <th>1</th>\n",
       "      <td>20180806-2</td>\n",
       "      <td>8.0</td>\n",
       "      <td>sodium channel block</td>\n",
       "    </tr>\n",
       "    <tr>\n",
       "      <th>2</th>\n",
       "      <td>20180806-3</td>\n",
       "      <td>8.0</td>\n",
       "      <td>sodium channel block &lt;= 20180806-2</td>\n",
       "    </tr>\n",
       "    <tr>\n",
       "      <th>3</th>\n",
       "      <td>20180809-1</td>\n",
       "      <td>16.0</td>\n",
       "      <td>APD prolongation (0.7)</td>\n",
       "    </tr>\n",
       "    <tr>\n",
       "      <th>4</th>\n",
       "      <td>20180809-2</td>\n",
       "      <td>16.0</td>\n",
       "      <td>APD prolongation (0.9)</td>\n",
       "    </tr>\n",
       "    <tr>\n",
       "      <th>5</th>\n",
       "      <td>20180809-3</td>\n",
       "      <td>16.0</td>\n",
       "      <td>APD prolongation (0.8)</td>\n",
       "    </tr>\n",
       "    <tr>\n",
       "      <th>6</th>\n",
       "      <td>20180809-4</td>\n",
       "      <td>16.0</td>\n",
       "      <td>APD prolongation (0.75)</td>\n",
       "    </tr>\n",
       "    <tr>\n",
       "      <th>7</th>\n",
       "      <td>20180809-5</td>\n",
       "      <td>16.0</td>\n",
       "      <td>APD prolongation (0.72)</td>\n",
       "    </tr>\n",
       "    <tr>\n",
       "      <th>8</th>\n",
       "      <td>20180809-6</td>\n",
       "      <td>16.0</td>\n",
       "      <td>APD prolongation (0.71)</td>\n",
       "    </tr>\n",
       "    <tr>\n",
       "      <th>9</th>\n",
       "      <td>20180815-1</td>\n",
       "      <td>3.2</td>\n",
       "      <td>sodium channel block</td>\n",
       "    </tr>\n",
       "    <tr>\n",
       "      <th>10</th>\n",
       "      <td>20180815-2</td>\n",
       "      <td>2.4</td>\n",
       "      <td>sodium channel block</td>\n",
       "    </tr>\n",
       "    <tr>\n",
       "      <th>11</th>\n",
       "      <td>20180815-3</td>\n",
       "      <td>2.0</td>\n",
       "      <td>sodium channel block</td>\n",
       "    </tr>\n",
       "    <tr>\n",
       "      <th>12</th>\n",
       "      <td>20180815-4</td>\n",
       "      <td>1.6</td>\n",
       "      <td>sodium channel block</td>\n",
       "    </tr>\n",
       "    <tr>\n",
       "      <th>13</th>\n",
       "      <td>20180816-1</td>\n",
       "      <td>4.0</td>\n",
       "      <td>sodium channel block &lt;= 20180806-3</td>\n",
       "    </tr>\n",
       "    <tr>\n",
       "      <th>14</th>\n",
       "      <td>20180816-2</td>\n",
       "      <td>4.0</td>\n",
       "      <td>sodium channel block &lt;= 20180816-1</td>\n",
       "    </tr>\n",
       "    <tr>\n",
       "      <th>15</th>\n",
       "      <td>20180816-3</td>\n",
       "      <td>4.0</td>\n",
       "      <td>sodium channel block &amp; ltype channel ca modifi...</td>\n",
       "    </tr>\n",
       "    <tr>\n",
       "      <th>16</th>\n",
       "      <td>20180816-4</td>\n",
       "      <td>4.0</td>\n",
       "      <td>sodium channel block &amp; ltype channel ca modifi...</td>\n",
       "    </tr>\n",
       "    <tr>\n",
       "      <th>17</th>\n",
       "      <td>20180816-5</td>\n",
       "      <td>4.0</td>\n",
       "      <td>sodium channel block &amp; ltype channel ca modifi...</td>\n",
       "    </tr>\n",
       "    <tr>\n",
       "      <th>18</th>\n",
       "      <td>20180816-6</td>\n",
       "      <td>12.0</td>\n",
       "      <td>sodium channel block &amp; brugada</td>\n",
       "    </tr>\n",
       "    <tr>\n",
       "      <th>19</th>\n",
       "      <td>20180817-1</td>\n",
       "      <td>20.0</td>\n",
       "      <td>APD prolongation (0.71) &amp; sodium channel acce...</td>\n",
       "    </tr>\n",
       "    <tr>\n",
       "      <th>20</th>\n",
       "      <td>20180817-2</td>\n",
       "      <td>20.0</td>\n",
       "      <td>APD prolongation (0.71) &amp; sodium channel acce...</td>\n",
       "    </tr>\n",
       "    <tr>\n",
       "      <th>21</th>\n",
       "      <td>20180817-3</td>\n",
       "      <td>20.0</td>\n",
       "      <td>APD prolongation (0.71) &amp; sodium channel acce...</td>\n",
       "    </tr>\n",
       "    <tr>\n",
       "      <th>22</th>\n",
       "      <td>20180817-4</td>\n",
       "      <td>20.0</td>\n",
       "      <td>APD prolongation (0.71) &amp; sodium channel acce...</td>\n",
       "    </tr>\n",
       "    <tr>\n",
       "      <th>23</th>\n",
       "      <td>20180817-5</td>\n",
       "      <td>20.0</td>\n",
       "      <td>APD prolongation (0.71) &amp; sodium channel acce...</td>\n",
       "    </tr>\n",
       "    <tr>\n",
       "      <th>24</th>\n",
       "      <td>20180817-6</td>\n",
       "      <td>20.0</td>\n",
       "      <td>APD prolongation (0.71) &amp; sodium channel acce...</td>\n",
       "    </tr>\n",
       "  </tbody>\n",
       "</table>\n",
       "</div>"
      ],
      "text/plain": [
       "        sim_id   gna                                        description\n",
       "0   20180806-1  16.0                                            default\n",
       "1   20180806-2   8.0                               sodium channel block\n",
       "2   20180806-3   8.0                 sodium channel block <= 20180806-2\n",
       "3   20180809-1  16.0                             APD prolongation (0.7)\n",
       "4   20180809-2  16.0                             APD prolongation (0.9)\n",
       "5   20180809-3  16.0                             APD prolongation (0.8)\n",
       "6   20180809-4  16.0                            APD prolongation (0.75)\n",
       "7   20180809-5  16.0                            APD prolongation (0.72)\n",
       "8   20180809-6  16.0                            APD prolongation (0.71)\n",
       "9   20180815-1   3.2                               sodium channel block\n",
       "10  20180815-2   2.4                               sodium channel block\n",
       "11  20180815-3   2.0                               sodium channel block\n",
       "12  20180815-4   1.6                               sodium channel block\n",
       "13  20180816-1   4.0                 sodium channel block <= 20180806-3\n",
       "14  20180816-2   4.0                 sodium channel block <= 20180816-1\n",
       "15  20180816-3   4.0  sodium channel block & ltype channel ca modifi...\n",
       "16  20180816-4   4.0  sodium channel block & ltype channel ca modifi...\n",
       "17  20180816-5   4.0  sodium channel block & ltype channel ca modifi...\n",
       "18  20180816-6  12.0                     sodium channel block & brugada\n",
       "19  20180817-1  20.0   APD prolongation (0.71) & sodium channel acce...\n",
       "20  20180817-2  20.0   APD prolongation (0.71) & sodium channel acce...\n",
       "21  20180817-3  20.0   APD prolongation (0.71) & sodium channel acce...\n",
       "22  20180817-4  20.0   APD prolongation (0.71) & sodium channel acce...\n",
       "23  20180817-5  20.0   APD prolongation (0.71) & sodium channel acce...\n",
       "24  20180817-6  20.0   APD prolongation (0.71) & sodium channel acce..."
      ]
     },
     "execution_count": 74,
     "metadata": {},
     "output_type": "execute_result"
    }
   ],
   "source": [
    "df = pd.read_csv('data.lr.whole.csv')\n",
    "df"
   ]
  },
  {
   "cell_type": "code",
   "execution_count": 75,
   "metadata": {
    "collapsed": false
   },
   "outputs": [
    {
     "name": "stdout",
     "output_type": "stream",
     "text": [
      "/mnt/recordings/AnalysisResult/Tomii/2018-08-07/20180817-6\n"
     ]
    },
    {
     "data": {
      "image/png": "[encoded data removed]",
      "text/plain": [
       "<matplotlib.figure.Figure at 0x7f2cb6e22a50>"
      ]
     },
     "metadata": {},
     "output_type": "display_data"
    }
   ],
   "source": [
    "for i, row in df.iterrows():\n",
    "    \n",
    "    if i not in [24]: continue\n",
    "    \n",
    "    dst_dir = os.path.join(save_dir, '{0}'.format(row['sim_id']))\n",
    "    print(dst_dir)\n",
    "    #if os.path.exists(dst_dir) : shutil.rmtree(dst_dir)\n",
    "    if not os.path.exists(dst_dir) : os.makedirs(dst_dir)\n",
    "        \n",
    "    sess = ElecpySession( \n",
    "        os.path.join(src_dir, row.sim_id),\n",
    "        keys= {'vmem'}#, 'phie'}#, 'cell/m', 'cell/h', 'cell/j', 'cell/xina'}\n",
    "    )\n",
    "    \n",
    "    analyzeSession(sess, save_dir=dst_dir)\n",
    "    \n",
    "    plt.imshow(np.sum(sess.data['pv'][100:-100,:,:] > 0.3, axis=0), cmap='gray')\n",
    "    plt.savefig(os.path.join(dst_dir, 'traj.png'))\n",
    "    "
   ]
  }
 ],
 "metadata": {
  "kernelspec": {
   "display_name": "Python 2",
   "language": "python",
   "name": "python2"
  },
  "language_info": {
   "codemirror_mode": {
    "name": "ipython",
    "version": 2
   },
   "file_extension": ".py",
   "mimetype": "text/x-python",
   "name": "python",
   "nbconvert_exporter": "python",
   "pygments_lexer": "ipython2",
   "version": "2.7.13"
  }
 },
 "nbformat": 4,
 "nbformat_minor": 2
}
