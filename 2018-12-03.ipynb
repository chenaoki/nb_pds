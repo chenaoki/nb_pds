{
 "cells": [
  {
   "cell_type": "code",
   "execution_count": 2,
   "metadata": {
    "collapsed": true
   },
   "outputs": [],
   "source": [
    "#from util import *\n",
    "import os, shutil\n",
    "import pandas as pd\n",
    "\n",
    "from opmap.cmap import bipolar\n",
    "from opmap.videoData import VideoData\n",
    "from opmap.vmemMap import VmemMap\n",
    "from opmap.phaseMap import PhaseMap\n",
    "from opmap.phaseMapHilbert import PhaseMapHilbert\n",
    "from opmap.phaseMapFTDT import PhaseMapFTDT\n",
    "from opmap.phaseVarianceMap import PhaseVarianceMap\n",
    "from opmap.phaseMapEvent import PhaseMapEvent\n",
    "from opmap.f_pixel import f_pixel_diff_thre\n",
    "from opmap.util import phaseComplement\n",
    "\n",
    "import sys\n",
    "sys.path.append(\"./simulation/\")\n",
    "from elecpy.elecpySession import ElecpySession\n",
    "\n",
    "import numpy as np\n",
    "import matplotlib.pyplot as plt\n",
    "import matplotlib.collections as mcoll\n",
    "import matplotlib.path as mpath\n",
    "import matplotlib.patches as patches\n",
    "from mpl_toolkits.mplot3d import Axes3D\n",
    "from mpl_toolkits.mplot3d import art3d\n",
    "from matplotlib import cm\n",
    "import copy\n",
    "\n",
    "%matplotlib inline\n"
   ]
  },
  {
   "cell_type": "code",
   "execution_count": 3,
   "metadata": {
    "collapsed": false
   },
   "outputs": [
    {
     "name": "stdout",
     "output_type": "stream",
     "text": [
      "/mnt/Omer/Project/01.PhaseDiscontinuity/AnalysisResults/2018-12-03/\n"
     ]
    }
   ],
   "source": [
    "src_dir = '/mnt/Omer/Project/01.PhaseDiscontinuity/SimulationResults/'\n",
    "save_dir = '/mnt/Omer/Project/01.PhaseDiscontinuity/AnalysisResults/2018-12-03/'\n",
    "print(save_dir)\n",
    "if not os.path.exists(save_dir) : os.mkdir(save_dir)"
   ]
  },
  {
   "cell_type": "code",
   "execution_count": 7,
   "metadata": {
    "collapsed": false
   },
   "outputs": [],
   "source": [
    "def analyzeSession(sess, save_dir=None):\n",
    "    \n",
    "    vmem = VideoData(*sess.data['vmem'].shape)\n",
    "    vmem.data = sess.data['vmem']\n",
    "    vmem.cmap = bipolar(neutral=0, lutsize=1024)\n",
    "    vmem.vmin = sess.data['vmem'].min()\n",
    "    vmem.vmax = sess.data['vmem'].max()\n",
    "    \n",
    "    p_diff = PhaseMapEvent(vmem, width = vmem.data.shape[2], f_event=f_pixel_diff_thre, diff_thre = 5, inter_min = 5)\n",
    "\n",
    "    p_ftdt = PhaseMapFTDT(vmem, width = vmem.data.shape[2], v_mean = -60.0, dt = 10);\n",
    "    #p_ftdt.draw_phase_portrait(pos_x=150,pos_y=150)\n",
    "    #return\n",
    "    \n",
    "    p_hilbert = PhaseMapHilbert(vmem, width = vmem.data.shape[2], sigma_xy=1, sigma_t=1);\n",
    "\n",
    "    pv_diff    = PhaseVarianceMap(p_diff, size=3)\n",
    "    pv_ftdt    = PhaseVarianceMap(p_ftdt, size=3)\n",
    "    pv_hilbert = PhaseVarianceMap(p_hilbert, size=3)\n",
    "    \n",
    "    sess.data['p_diff'] = p_diff.data\n",
    "    sess.data['p_ftdt'] = p_ftdt.data\n",
    "    sess.data['p_hilbert'] = p_hilbert.data\n",
    "    \n",
    "    sess.data['pv_diff'] = pv_diff.data\n",
    "    sess.data['pv_ftdt'] = pv_ftdt.data\n",
    "    sess.data['pv_hilbert'] = pv_hilbert.data\n",
    "    \n",
    "    sess.data['hilbert_mean'] = p_hilbert.Vmean\n",
    "    \n",
    "    if save_dir is not None:\n",
    "        vmem.saveImage( os.path.join(save_dir, 'vmem'))\n",
    "        p_diff.saveImage( os.path.join(save_dir, 'p_diff'))\n",
    "        p_ftdt.saveImage( os.path.join(save_dir, 'p_ftdt'))\n",
    "        p_hilbert.saveImage( os.path.join(save_dir, 'p_hilbert'))\n",
    "        pv_diff.saveImage( os.path.join(save_dir, 'pv_diff'))\n",
    "        pv_ftdt.saveImage( os.path.join(save_dir, 'pv_ftdt'))\n",
    "        pv_hilbert.saveImage( os.path.join(save_dir, 'pv_hilbert'))\n",
    "        \n"
   ]
  },
  {
   "cell_type": "code",
   "execution_count": 5,
   "metadata": {
    "collapsed": false
   },
   "outputs": [
    {
     "data": {
      "image/png": "[encoded data removed]",
      "text/plain": [
       "<matplotlib.figure.Figure at 0x7fe2bb825b90>"
      ]
     },
     "metadata": {},
     "output_type": "display_data"
    }
   ],
   "source": [
    "def plot_phase(times, phase_trans, **kwargs):\n",
    "    arr = np.where(np.abs(phase_trans[1:]-phase_trans[:-1]) > np.pi)[0]\n",
    "    terms = np.concatenate([np.array([0]), arr+1, np.array([len(phase_trans)])])\n",
    "    for i, start in enumerate(terms[:-1]):\n",
    "        end = terms[i+1]\n",
    "        plt.plot( times[start:end], phase_trans[start:end], **kwargs)\n",
    "\n",
    "P = phaseComplement( np.arange(100)*(0.02*np.pi))\n",
    "plt.plot(np.arange(len(P)), P, c='k', linestyle='dotted')\n",
    "plot_phase(np.arange(len(P)), P, c='k', linestyle='solid')\n",
    "    "
   ]
  },
  {
   "cell_type": "markdown",
   "metadata": {},
   "source": [
    "## Check whole dynamics"
   ]
  },
  {
   "cell_type": "code",
   "execution_count": 6,
   "metadata": {
    "collapsed": false
   },
   "outputs": [
    {
     "data": {
      "text/html": [
       "<div>\n",
       "<table border=\"1\" class=\"dataframe\">\n",
       "  <thead>\n",
       "    <tr style=\"text-align: right;\">\n",
       "      <th></th>\n",
       "      <th>sim_id</th>\n",
       "      <th>gna</th>\n",
       "      <th>gkr</th>\n",
       "      <th>gks</th>\n",
       "      <th>description</th>\n",
       "    </tr>\n",
       "  </thead>\n",
       "  <tbody>\n",
       "    <tr>\n",
       "      <th>0</th>\n",
       "      <td>20180823-1</td>\n",
       "      <td>12.0</td>\n",
       "      <td>0.0125</td>\n",
       "      <td>0.13860</td>\n",
       "      <td>pinning &lt;&lt;&lt; 20171128-1</td>\n",
       "    </tr>\n",
       "    <tr>\n",
       "      <th>1</th>\n",
       "      <td>20180625-1</td>\n",
       "      <td>15.6</td>\n",
       "      <td>0.0088</td>\n",
       "      <td>0.09702</td>\n",
       "      <td>APD prolongation &lt;&lt;&lt; 20171128-1</td>\n",
       "    </tr>\n",
       "    <tr>\n",
       "      <th>2</th>\n",
       "      <td>20180616-1</td>\n",
       "      <td>10.0</td>\n",
       "      <td>0.0125</td>\n",
       "      <td>0.13860</td>\n",
       "      <td>vortex shedding &lt;&lt;&lt; 20171128-1</td>\n",
       "    </tr>\n",
       "  </tbody>\n",
       "</table>\n",
       "</div>"
      ],
      "text/plain": [
       "       sim_id   gna     gkr      gks                      description\n",
       "0  20180823-1  12.0  0.0125  0.13860           pinning <<< 20171128-1\n",
       "1  20180625-1  15.6  0.0088  0.09702  APD prolongation <<< 20171128-1\n",
       "2  20180616-1  10.0  0.0125  0.13860   vortex shedding <<< 20171128-1"
      ]
     },
     "execution_count": 6,
     "metadata": {},
     "output_type": "execute_result"
    }
   ],
   "source": [
    "df = pd.read_csv('data.whole.csv')\n",
    "df"
   ]
  },
  {
   "cell_type": "code",
   "execution_count": 15,
   "metadata": {
    "collapsed": false,
    "scrolled": false
   },
   "outputs": [
    {
     "name": "stdout",
     "output_type": "stream",
     "text": [
      "/mnt/Omer/Project/01.PhaseDiscontinuity/AnalysisResults/2018-12-03/20180616-1\n",
      "/mnt/Omer/Project/01.PhaseDiscontinuity/SimulationResults/20180616-1\n"
     ]
    }
   ],
   "source": [
    "\n",
    "for i, row in df.iterrows():\n",
    "    \n",
    "    if i not in [2]: continue\n",
    "    \n",
    "    dst_dir = os.path.join(save_dir, '{0}'.format(row['sim_id']))\n",
    "    print(dst_dir)\n",
    "    #if os.path.exists(dst_dir) : shutil.rmtree(dst_dir)\n",
    "    if not os.path.exists(dst_dir) : os.makedirs(dst_dir)\n",
    "        \n",
    "    print(os.path.join(src_dir, row.sim_id))\n",
    "    sess = ElecpySession( os.path.join(src_dir, row.sim_id), keys=['vmem'])\n",
    "    \n",
    "    analyzeSession(sess)#, save_dir=dst_dir)\n",
    "    # analyzeSession(sess)\n",
    "    continue\n",
    "    \n",
    "    plt.imshow(np.sum(sess.data['pv'][100:-100,:,:] > 0.3, axis=0), cmap='gray')\n",
    "    plt.savefig(os.path.join(dst_dir, 'traj.png'))\n",
    "    "
   ]
  },
  {
   "cell_type": "markdown",
   "metadata": {},
   "source": [
    "### Plot different phase types"
   ]
  },
  {
   "cell_type": "code",
   "execution_count": 16,
   "metadata": {
    "collapsed": false
   },
   "outputs": [
    {
     "data": {
      "text/plain": [
       "<matplotlib.figure.Figure at 0x7fe2aa233790>"
      ]
     },
     "metadata": {},
     "output_type": "display_data"
    },
    {
     "data": {
      "image/png": "[encoded data removed]",
      "text/plain": [
       "<matplotlib.figure.Figure at 0x7fe2aa2338d0>"
      ]
     },
     "metadata": {},
     "output_type": "display_data"
    }
   ],
   "source": [
    "# 20180823-1 (A)\n",
    "# points = [(100, 100), (115, 100)]#, (103,100)]#,  (110, 100)]\n",
    "# f_start, f_end = (50,150)\n",
    "# times = np.arange(f_start, f_end) - 75 #offset \n",
    "# linestyles = ['dotted', 'solid']\n",
    "\n",
    "# 20180616-1 (B)\n",
    "points = [(97, 100),(100, 100), (103,100)]#,  (110, 100)]\n",
    "f_start, f_end = (300,500)\n",
    "times = np.arange(f_start, f_end) - 360 #offset \n",
    "linestyles = ['dotted', 'dashed', 'solid']\n",
    "\n",
    "# 20180625-1 (C)\n",
    "# points = [(103, 130),(106, 130),(109, 130)]\n",
    "# f_start, f_end = (75,225)\n",
    "# times = np.arange(f_start, f_end) - 120\n",
    "# linestyles = ['dotted', 'dashed', 'solid']\n",
    "\n",
    "# 20180625-1 (D)\n",
    "# points = [(100, 180),(103, 180),(106, 180),]\n",
    "# f_start, f_end = (150,270)\n",
    "# times = np.arange(f_start, f_end) - 235 #offset \n",
    "# linestyles = ['dotted', 'dashed', 'solid']\n",
    "\n",
    "plt.subplots_adjust(wspace=0.4, hspace=1.2)\n",
    "\n",
    "col = 'k'\n",
    "markers = ['o' for p in points]\n",
    "point_names = 'abc'\n",
    "\n",
    "plt.figure(figsize=(5,10))\n",
    "\n",
    "plt.subplot(311);\n",
    "for i, (py, px) in enumerate(points): \n",
    "    plt.plot( times, sess.data['vmem'][f_start:f_end,py,px], \n",
    "             c=col, linestyle=linestyles[i], label=point_names[i]);\n",
    "    plt.plot( times, sess.data['hilbert_mean'][f_start:f_end,py,px],\n",
    "             c=col, linestyle=linestyles[i], linewidth=0.5);\n",
    "\n",
    "\n",
    "plt.title('Vm')\n",
    "plt.legend(loc='upper right')\n",
    "\n",
    "plt.subplot(312); \n",
    "for i, (py, px) in enumerate(points): \n",
    "    # plt.plot( sess.data['p_diff'][f_start:f_end,py,px],\n",
    "    plot_phase( times, sess.data['p_diff'][f_start:f_end,py,px],\n",
    "              c=col, linestyle=linestyles[i])#, label=point_names[i]);\n",
    "plt.title('event-based phase')\n",
    "plt.legend(loc='upper right')\n",
    "\n",
    "#plt.subplot(413); plt.plot( sess.data['p_ftdt'][f_start:f_end,py,px] )\n",
    "plt.subplot(313); \n",
    "for i, (py, px) in enumerate(points): \n",
    "    #plt.plot( sess.data['p_hilbert'][f_start:f_end,py,px],\n",
    "    plot_phase( times, sess.data['p_hilbert'][f_start:f_end,py,px],\n",
    "              c=col, linestyle=linestyles[i])#, label=point_names[i]);\n",
    "plt.title('value-based phase')\n",
    "plt.legend(loc='upper right')\n"
   ]
  },
  {
   "cell_type": "code",
   "execution_count": 68,
   "metadata": {
    "collapsed": false
   },
   "outputs": [
    {
     "data": {
      "text/plain": [
       "(12.718268951953021, -88.358914112495654)"
      ]
     },
     "execution_count": 68,
     "metadata": {},
     "output_type": "execute_result"
    }
   ],
   "source": [
    "sess.data['vmem'].max(), sess.data['vmem'].min()"
   ]
  },
  {
   "cell_type": "markdown",
   "metadata": {},
   "source": [
    "## Check region detail"
   ]
  },
  {
   "cell_type": "code",
   "execution_count": 7,
   "metadata": {
    "collapsed": true
   },
   "outputs": [],
   "source": [
    "from opmap.util import phaseComplement"
   ]
  },
  {
   "cell_type": "code",
   "execution_count": 8,
   "metadata": {
    "collapsed": true
   },
   "outputs": [],
   "source": [
    "thre_phase_integ = np.pi*1.0"
   ]
  },
  {
   "cell_type": "code",
   "execution_count": 27,
   "metadata": {
    "collapsed": true
   },
   "outputs": [],
   "source": [
    "### Vmem(raw) ###\n",
    "def save_vmem(sess):\n",
    "    \n",
    "    path = os.path.join(dst_dir,'vmem_raw')\n",
    "    if not os.path.exists(path) : os.mkdir(path)\n",
    "    vmin = sess.data['vmem'].min()\n",
    "    vmax = sess.data['vmem'].max()\n",
    "    for f, vmem in enumerate(sess.data['vmem']):\n",
    "        plt.imsave(\n",
    "            os.path.join(path, '{0:0>4}.png'.format(f)), \n",
    "            vmem, \n",
    "            cmap=bipolar(neutral=0, lutsize=1024),\n",
    "            vmin=vmin, vmax=vmax)"
   ]
  },
  {
   "cell_type": "code",
   "execution_count": 28,
   "metadata": {
    "collapsed": true
   },
   "outputs": [],
   "source": [
    "### 3D phase plot ###\n",
    "def plot_phase_3d(sess, phase_type):\n",
    "    \n",
    "    cut_thre = 2*np.pi*0.75\n",
    "    p = sess.data[phase_type]\n",
    "    \n",
    "    for view_angle in range(4):\n",
    "\n",
    "        path = os.path.join(dst_dir,'{0}/psurf_{1}'.format(phase_type, view_angle))\n",
    "        print(path)\n",
    "        if not os.path.exists(path) : os.mkdir(path); \n",
    "\n",
    "        for frame in range(row.f_max-row.f_min):\n",
    "\n",
    "            plt.clf()\n",
    "    \n",
    "            fig = plt.figure(figsize=(15,10))\n",
    "            ax = fig.add_subplot(111, projection='3d')\n",
    "            ax.set_zlim3d(-np.pi, np.pi)\n",
    "\n",
    "            _, size_h, size_w = p.shape\n",
    "\n",
    "            y = np.arange(size_h)\n",
    "            x = np.arange(size_w)\n",
    "            X, Y = np.meshgrid(x, y)\n",
    "            Z = p[frame, ::-1, :]\n",
    "\n",
    "            if view_angle is 1: Z = Z.T[:,::-1]\n",
    "            if view_angle is 2: Z = Z[::-1,::-1]\n",
    "            if view_angle is 3: Z = Z.T[::-1,:]\n",
    "\n",
    "            wire = ax.plot_wireframe(X, Y, Z)\n",
    "\n",
    "            nx, ny, _  = np.shape(wire._segments3d)\n",
    "            wire_x = np.array(wire._segments3d)[:, :, 0].ravel()\n",
    "            wire_y = np.array(wire._segments3d)[:, :, 1].ravel()\n",
    "            wire_z = np.array(wire._segments3d)[:, :, 2].ravel()\n",
    "            wire.remove()\n",
    "\n",
    "            # create data for a LineCollection\n",
    "            wire_x1 = np.vstack([wire_x, np.roll(wire_x, 1)])\n",
    "            wire_y1 = np.vstack([wire_y, np.roll(wire_y, 1)])\n",
    "            wire_z1 = np.vstack([wire_z, np.roll(wire_z, 1)])\n",
    "\n",
    "            to_delete = np.arange(0, nx*ny, ny)\n",
    "            wire_x1 = np.delete(wire_x1, to_delete, axis=1)\n",
    "            wire_y1 = np.delete(wire_y1, to_delete, axis=1)\n",
    "            wire_z1 = np.delete(wire_z1, to_delete, axis=1)\n",
    "            scalars = np.delete(wire_z, to_delete)\n",
    "\n",
    "            segs = np.array([list(zip(xl, yl, zl)) for xl, yl, zl in \\\n",
    "                         zip(wire_x1.T, wire_y1.T, wire_z1.T)])\n",
    "\n",
    "            # delete false phase discontinuity\n",
    "            to_delete = np.where( np.array([ abs( seg[0][2] - seg[1][2]) for seg in segs ]) > cut_thre)[0]\n",
    "            segs = np.delete( segs, to_delete, axis=0)\n",
    "            scalars = np.delete( scalars, to_delete)\n",
    "\n",
    "            # Plots the wireframe by a  a line3DCollection\n",
    "            my_wire = art3d.Line3DCollection(segs, cmap=\"jet\")\n",
    "            my_wire.set_array(scalars)\n",
    "            my_wire.set_clim(vmin=-np.pi, vmax=np.pi)\n",
    "            ax.add_collection(my_wire)\n",
    "\n",
    "            plt.colorbar(my_wire)\n",
    "            plt.savefig(os.path.join(path, '{0:0>6}.png'.format(frame)))"
   ]
  },
  {
   "cell_type": "code",
   "execution_count": 29,
   "metadata": {
    "collapsed": false
   },
   "outputs": [],
   "source": [
    "\n",
    "### integral of time differential ###\n",
    "def plot_phase_integral(sess, phase_type):\n",
    "    \n",
    "    path = os.path.join(dst_dir,'{0}'.format(phase_type))\n",
    "    print(path)\n",
    "    if not os.path.exists(path) : os.mkdir(path); \n",
    "\n",
    "    p = sess.data[phase_type]\n",
    "    v = sess.data['vmem']\n",
    "    pdiff = copy.deepcopy(p)\n",
    "    for f in range(len(pdiff)):\n",
    "        if f == 0: \n",
    "            pdiff[f,:,:] = 0\n",
    "        else:\n",
    "            pdiff[f,:,:] = p[f,:,:] - p[f-1,:,:]\n",
    "    pdiff = phaseComplement(pdiff)\n",
    "    pinteg = abs(np.sum(pdiff, axis=0))\n",
    "\n",
    "    plt.clf()\n",
    "    plt.imshow(pinteg, vmin=0, cmap='gray') # vmax=2*np.pi, \n",
    "    plt.colorbar()\n",
    "    plt.savefig(os.path.join(path, 'pinteg.png'))\n",
    "    \n",
    "    \n",
    "    ## plot vmem of pos/neg areas\n",
    "    pos_y, pos_x = np.where(pinteg > thre_phase_integ)\n",
    "    neg_y, neg_x = np.where(pinteg <= thre_phase_integ)\n",
    "    \n",
    "    plt.clf()\n",
    "    plt.subplot(2,2,1)\n",
    "    for y, x in zip(neg_y, neg_x):\n",
    "        if x == p.shape[2]//2:\n",
    "            plt.plot(v[:,y,x], 'b')\n",
    "            plt.ylim([v.min(), 20])\n",
    "    plt.subplot(2,2,2)\n",
    "    for y, x in zip(neg_y, neg_x):\n",
    "        if x == p.shape[2]//2:\n",
    "            plt.plot(p[:,y,x], 'b')\n",
    "            plt.ylim([-np.pi, np.pi])\n",
    "    plt.subplot(2,2,3)\n",
    "    for y, x in zip(pos_y, pos_x):\n",
    "        if x == p.shape[2]//2:\n",
    "            plt.plot(v[:,y,x], 'r')\n",
    "            plt.ylim([v.min(), 20])\n",
    "    plt.subplot(2,2,4)\n",
    "    for y, x in zip(pos_y, pos_x):\n",
    "        if x == p.shape[2]//2:\n",
    "            plt.plot(p[:,y,x], 'r')\n",
    "            plt.ylim([-np.pi, np.pi])\n",
    "    plt.savefig(os.path.join(path, 'border_plot.png'))\n",
    "    plt.close()\n",
    "\n"
   ]
  },
  {
   "cell_type": "code",
   "execution_count": 30,
   "metadata": {
    "collapsed": true
   },
   "outputs": [],
   "source": [
    "### phase graph (circular plot) ###\n",
    "def plot_circular_phase(sess, phase_type, thre_phase_integ):\n",
    "    path = os.path.join(dst_dir,'border_plot')\n",
    "    if not os.path.exists(path) : os.mkdir(path)\n",
    "        \n",
    "    \n",
    "    for f in range(len(p)):\n",
    "\n",
    "        plt.figure(figsize=(5,5))\n",
    "        plt.clf()\n",
    "\n",
    "        phases = np.arange(0,2*np.pi,np.pi/1024)\n",
    "        plt.scatter( np.cos(phases), np.sin(phases), c='k', s=.02)\n",
    "\n",
    "        A = np.arange(-1.2, 1.2, 0.01)\n",
    "        plt.scatter( A, np.zeros_like(A), c='k', s=.02)\n",
    "        plt.scatter( np.zeros_like(A), A, c='k', s=.02)\n",
    "\n",
    "        pos_y, pos_x = np.where(pinteg > thre_phase_integ)\n",
    "        for y, x in zip(pos_y, pos_x):\n",
    "            if x == p.shape[2]//2:\n",
    "                phases = p[f,y,x]\n",
    "                plt.scatter( np.cos(phases), np.sin(phases), c='r', s=10)\n",
    "\n",
    "        neg_y, neg_x = np.where(pinteg <= thre_phase_integ)\n",
    "        for y, x in zip(neg_y, neg_x):\n",
    "            if x == p.shape[2]//2:\n",
    "                phases = p[f,y,x]\n",
    "                plt.scatter( np.cos(phases), np.sin(phases), c='b', s=10)\n",
    "\n",
    "        plt.axis('equal')\n",
    "        plt.axis([-1.2, 1.2, -1.2, 1.2])\n",
    "        plt.savefig(os.path.join(path, '{0:0>6}.png'.format(f)))\n",
    "        plt.close()"
   ]
  },
  {
   "cell_type": "code",
   "execution_count": 31,
   "metadata": {
    "collapsed": true
   },
   "outputs": [],
   "source": [
    "### spatial phase polarity ###\n",
    "def plot_phase_polarity(sess, phase_type):\n",
    "    \n",
    "    path = os.path.join(dst_dir,'{0}/polarity'.format(phase_type))\n",
    "    print(path)\n",
    "    if not os.path.exists(path) : os.mkdir(path)\n",
    "\n",
    "    p = sess.data[phase_type]\n",
    "    H = p.shape[1]\n",
    "    W = p.shape[2]\n",
    "    pdiff_x = np.zeros(( H  , W-1))\n",
    "    pdiff_y = np.zeros(( H-1, W  ))\n",
    "    plt.clf()\n",
    "\n",
    "    for f in range(len(p)):\n",
    "\n",
    "        plt.clf()\n",
    "        fig, ax = plt.subplots(figsize=(10,10))\n",
    "        plt.axis('equal')\n",
    "        ax = plt.gca()\n",
    "        plt.axis([0, H, 0, W])\n",
    "        ax.tick_params(labelbottom=\"off\", labelleft=\"off\")\n",
    "        ax.tick_params(bottom=\"off\", left=\"off\")\n",
    "        ax.tick_params(top=\"off\", right=\"off\")\n",
    "        ax.axis(\"off\")\n",
    "        #plt.style.use('dark_background')\n",
    "\n",
    "        #plt.subplot(121)\n",
    "        #plt.imshow(p[f], cmap='jet', vmin=-np.pi, vmax=np.pi)\n",
    "        #plt.subplot(122)\n",
    "        cm = bipolar(neutral=0, lutsize=1024)\n",
    "        pdiff_y = p[f,1:,:] - p[f,:-1,:]\n",
    "        pdiff_x = p[f,:,1:] - p[f,:,:-1]\n",
    "\n",
    "        plt.plot( [0,0,W,W,0], [0,H,H,0,0], linewidth=5, color='black')\n",
    "\n",
    "        for j in range(W-1):\n",
    "\n",
    "            x = np.ones(H+1)*(j+1)\n",
    "            y = np.arange(H+1)\n",
    "\n",
    "            points = np.array([x, y]).T.reshape(-1, 1, 2)\n",
    "            segments = np.concatenate([points[:-1], points[1:]], axis=1)\n",
    "\n",
    "            lc = mcoll.LineCollection(\n",
    "                segments, array=-np.cos(pdiff_x[::-1,j]), \n",
    "                cmap=plt.cm.coolwarm, \n",
    "                norm=plt.Normalize(-1.25, 1.0),\n",
    "                linewidth=5, alpha=1.0)\n",
    "            ax.add_collection(lc)\n",
    "\n",
    "        for i in range(H-1):\n",
    "\n",
    "            y = np.ones(W+1)*(i+1)\n",
    "            x = np.arange(W+1)\n",
    "\n",
    "            points = np.array([x, y]).T.reshape(-1, 1, 2)\n",
    "            segments = np.concatenate([points[:-1], points[1:]], axis=1)\n",
    "\n",
    "            lc = mcoll.LineCollection(\n",
    "                segments, \n",
    "                array=-np.cos(pdiff_y[-1-i,:]), \n",
    "                cmap=plt.cm.coolwarm, \n",
    "                norm=plt.Normalize(-1.25, 1.0),\n",
    "                linewidth=5, alpha=1.0)\n",
    "            ax.add_collection(lc)    \n",
    "\n",
    "        plt.savefig(\n",
    "            os.path.join(path, '{0:0>6}.png'.format(f)),\n",
    "            transparent=True, \n",
    "            bbox_inches='tight'\n",
    "        )\n",
    "        plt.close()\n"
   ]
  },
  {
   "cell_type": "code",
   "execution_count": 32,
   "metadata": {
    "collapsed": false,
    "scrolled": true
   },
   "outputs": [],
   "source": [
    "### Trajectory ###\n",
    "import math\n",
    "\n",
    "def plot_pv_traj(sess, phase_type):\n",
    "    \n",
    "    pv_type = phase_type.replace('_', 'v_')\n",
    "    \n",
    "    path = os.path.join(dst_dir,'{0}'.format(phase_type))\n",
    "    print(path)\n",
    "    if not os.path.exists(path) : os.mkdir(path)\n",
    "\n",
    "    pv_thre= 1 - math.sqrt( -math.log(0.05) / ( 3**2) )\n",
    "\n",
    "    plt.clf()\n",
    "    plt.imshow( ( np.sum((sess.data[pv_type]>pv_thre)*1, axis=0) > 0)*1, cmap='gray')\n",
    "    plt.colorbar()\n",
    "    plt.savefig(os.path.join(path, 'traj.png'))\n"
   ]
  },
  {
   "cell_type": "markdown",
   "metadata": {},
   "source": [
    "### main"
   ]
  },
  {
   "cell_type": "code",
   "execution_count": 33,
   "metadata": {
    "collapsed": false
   },
   "outputs": [
    {
     "data": {
      "text/html": [
       "<div>\n",
       "<table border=\"1\" class=\"dataframe\">\n",
       "  <thead>\n",
       "    <tr style=\"text-align: right;\">\n",
       "      <th></th>\n",
       "      <th>sim_id</th>\n",
       "      <th>x_min</th>\n",
       "      <th>x_max</th>\n",
       "      <th>y_min</th>\n",
       "      <th>y_max</th>\n",
       "      <th>f_min</th>\n",
       "      <th>f_max</th>\n",
       "      <th>result_id</th>\n",
       "      <th>description</th>\n",
       "    </tr>\n",
       "  </thead>\n",
       "  <tbody>\n",
       "    <tr>\n",
       "      <th>0</th>\n",
       "      <td>20180823-1</td>\n",
       "      <td>80</td>\n",
       "      <td>120</td>\n",
       "      <td>80</td>\n",
       "      <td>120</td>\n",
       "      <td>70</td>\n",
       "      <td>110</td>\n",
       "      <td>A</td>\n",
       "      <td>pinning</td>\n",
       "    </tr>\n",
       "    <tr>\n",
       "      <th>1</th>\n",
       "      <td>20180625-1</td>\n",
       "      <td>110</td>\n",
       "      <td>150</td>\n",
       "      <td>80</td>\n",
       "      <td>120</td>\n",
       "      <td>120</td>\n",
       "      <td>160</td>\n",
       "      <td>C</td>\n",
       "      <td>meandering</td>\n",
       "    </tr>\n",
       "    <tr>\n",
       "      <th>2</th>\n",
       "      <td>20180625-1</td>\n",
       "      <td>160</td>\n",
       "      <td>200</td>\n",
       "      <td>80</td>\n",
       "      <td>120</td>\n",
       "      <td>225</td>\n",
       "      <td>265</td>\n",
       "      <td>D</td>\n",
       "      <td>spiral stop</td>\n",
       "    </tr>\n",
       "    <tr>\n",
       "      <th>3</th>\n",
       "      <td>20180616-1</td>\n",
       "      <td>80</td>\n",
       "      <td>120</td>\n",
       "      <td>80</td>\n",
       "      <td>120</td>\n",
       "      <td>360</td>\n",
       "      <td>400</td>\n",
       "      <td>B</td>\n",
       "      <td>over the trajectory of vortex shedding</td>\n",
       "    </tr>\n",
       "  </tbody>\n",
       "</table>\n",
       "</div>"
      ],
      "text/plain": [
       "       sim_id  x_min  x_max  y_min  y_max  f_min  f_max  result_id  \\\n",
       "0  20180823-1     80    120     80    120     70    110          A   \n",
       "1  20180625-1    110    150     80    120    120    160          C   \n",
       "2  20180625-1    160    200     80    120    225    265          D   \n",
       "3  20180616-1     80    120     80    120    360    400          B   \n",
       "\n",
       "                               description  \n",
       "0                                  pinning  \n",
       "1                               meandering  \n",
       "2                             spiral stop   \n",
       "3   over the trajectory of vortex shedding  "
      ]
     },
     "execution_count": 33,
     "metadata": {},
     "output_type": "execute_result"
    }
   ],
   "source": [
    "df = pd.read_csv('data.roi.csv')\n",
    "df"
   ]
  },
  {
   "cell_type": "code",
   "execution_count": 35,
   "metadata": {
    "collapsed": false
   },
   "outputs": [
    {
     "name": "stdout",
     "output_type": "stream",
     "text": [
      "/mnt/Omer/Project/01.PhaseDiscontinuity/AnalysisResults/2018-12-03/20180625-1/x110-150_y80-120_f120-160\n",
      "('cell/xina', 501, 501)\n",
      "/mnt/Omer/Project/01.PhaseDiscontinuity/AnalysisResults/2018-12-03/20180625-1/x110-150_y80-120_f120-160/p_diff\n",
      "/mnt/Omer/Project/01.PhaseDiscontinuity/AnalysisResults/2018-12-03/20180625-1/x110-150_y80-120_f120-160/p_diff\n",
      "/mnt/Omer/Project/01.PhaseDiscontinuity/AnalysisResults/2018-12-03/20180625-1/x110-150_y80-120_f120-160/p_diff/polarity\n",
      "/mnt/Omer/Project/01.PhaseDiscontinuity/AnalysisResults/2018-12-03/20180625-1/x110-150_y80-120_f120-160/p_diff\n",
      "/mnt/Omer/Project/01.PhaseDiscontinuity/AnalysisResults/2018-12-03/20180625-1/x110-150_y80-120_f120-160/p_ftdt\n",
      "/mnt/Omer/Project/01.PhaseDiscontinuity/AnalysisResults/2018-12-03/20180625-1/x110-150_y80-120_f120-160/p_ftdt\n",
      "/mnt/Omer/Project/01.PhaseDiscontinuity/AnalysisResults/2018-12-03/20180625-1/x110-150_y80-120_f120-160/p_ftdt/polarity\n",
      "/mnt/Omer/Project/01.PhaseDiscontinuity/AnalysisResults/2018-12-03/20180625-1/x110-150_y80-120_f120-160/p_ftdt\n",
      "/mnt/Omer/Project/01.PhaseDiscontinuity/AnalysisResults/2018-12-03/20180625-1/x110-150_y80-120_f120-160/p_hilbert\n",
      "/mnt/Omer/Project/01.PhaseDiscontinuity/AnalysisResults/2018-12-03/20180625-1/x110-150_y80-120_f120-160/p_hilbert\n",
      "/mnt/Omer/Project/01.PhaseDiscontinuity/AnalysisResults/2018-12-03/20180625-1/x110-150_y80-120_f120-160/p_hilbert/polarity\n",
      "/mnt/Omer/Project/01.PhaseDiscontinuity/AnalysisResults/2018-12-03/20180625-1/x110-150_y80-120_f120-160/p_hilbert\n",
      "/mnt/Omer/Project/01.PhaseDiscontinuity/AnalysisResults/2018-12-03/20180625-1/x160-200_y80-120_f225-265\n",
      "('cell/xina', 501, 501)\n",
      "/mnt/Omer/Project/01.PhaseDiscontinuity/AnalysisResults/2018-12-03/20180625-1/x160-200_y80-120_f225-265/p_diff\n",
      "/mnt/Omer/Project/01.PhaseDiscontinuity/AnalysisResults/2018-12-03/20180625-1/x160-200_y80-120_f225-265/p_diff\n",
      "/mnt/Omer/Project/01.PhaseDiscontinuity/AnalysisResults/2018-12-03/20180625-1/x160-200_y80-120_f225-265/p_diff/polarity\n",
      "/mnt/Omer/Project/01.PhaseDiscontinuity/AnalysisResults/2018-12-03/20180625-1/x160-200_y80-120_f225-265/p_diff\n",
      "/mnt/Omer/Project/01.PhaseDiscontinuity/AnalysisResults/2018-12-03/20180625-1/x160-200_y80-120_f225-265/p_ftdt\n",
      "/mnt/Omer/Project/01.PhaseDiscontinuity/AnalysisResults/2018-12-03/20180625-1/x160-200_y80-120_f225-265/p_ftdt\n",
      "/mnt/Omer/Project/01.PhaseDiscontinuity/AnalysisResults/2018-12-03/20180625-1/x160-200_y80-120_f225-265/p_ftdt/polarity\n",
      "/mnt/Omer/Project/01.PhaseDiscontinuity/AnalysisResults/2018-12-03/20180625-1/x160-200_y80-120_f225-265/p_ftdt\n",
      "/mnt/Omer/Project/01.PhaseDiscontinuity/AnalysisResults/2018-12-03/20180625-1/x160-200_y80-120_f225-265/p_hilbert\n",
      "/mnt/Omer/Project/01.PhaseDiscontinuity/AnalysisResults/2018-12-03/20180625-1/x160-200_y80-120_f225-265/p_hilbert\n",
      "/mnt/Omer/Project/01.PhaseDiscontinuity/AnalysisResults/2018-12-03/20180625-1/x160-200_y80-120_f225-265/p_hilbert/polarity\n",
      "/mnt/Omer/Project/01.PhaseDiscontinuity/AnalysisResults/2018-12-03/20180625-1/x160-200_y80-120_f225-265/p_hilbert\n",
      "/mnt/Omer/Project/01.PhaseDiscontinuity/AnalysisResults/2018-12-03/20180616-1/x80-120_y80-120_f360-400\n",
      "('cell/xina', 1001, 1001)\n",
      "/mnt/Omer/Project/01.PhaseDiscontinuity/AnalysisResults/2018-12-03/20180616-1/x80-120_y80-120_f360-400/p_diff\n",
      "/mnt/Omer/Project/01.PhaseDiscontinuity/AnalysisResults/2018-12-03/20180616-1/x80-120_y80-120_f360-400/p_diff\n",
      "/mnt/Omer/Project/01.PhaseDiscontinuity/AnalysisResults/2018-12-03/20180616-1/x80-120_y80-120_f360-400/p_diff/polarity\n",
      "/mnt/Omer/Project/01.PhaseDiscontinuity/AnalysisResults/2018-12-03/20180616-1/x80-120_y80-120_f360-400/p_diff\n",
      "/mnt/Omer/Project/01.PhaseDiscontinuity/AnalysisResults/2018-12-03/20180616-1/x80-120_y80-120_f360-400/p_ftdt\n",
      "/mnt/Omer/Project/01.PhaseDiscontinuity/AnalysisResults/2018-12-03/20180616-1/x80-120_y80-120_f360-400/p_ftdt\n",
      "/mnt/Omer/Project/01.PhaseDiscontinuity/AnalysisResults/2018-12-03/20180616-1/x80-120_y80-120_f360-400/p_ftdt/polarity\n",
      "/mnt/Omer/Project/01.PhaseDiscontinuity/AnalysisResults/2018-12-03/20180616-1/x80-120_y80-120_f360-400/p_ftdt\n",
      "/mnt/Omer/Project/01.PhaseDiscontinuity/AnalysisResults/2018-12-03/20180616-1/x80-120_y80-120_f360-400/p_hilbert\n",
      "/mnt/Omer/Project/01.PhaseDiscontinuity/AnalysisResults/2018-12-03/20180616-1/x80-120_y80-120_f360-400/p_hilbert\n",
      "/mnt/Omer/Project/01.PhaseDiscontinuity/AnalysisResults/2018-12-03/20180616-1/x80-120_y80-120_f360-400/p_hilbert/polarity\n",
      "/mnt/Omer/Project/01.PhaseDiscontinuity/AnalysisResults/2018-12-03/20180616-1/x80-120_y80-120_f360-400/p_hilbert\n"
     ]
    },
    {
     "data": {
      "image/png": "[encoded data removed]",
      "text/plain": [
       "<matplotlib.figure.Figure at 0x7f8ff89f4b50>"
      ]
     },
     "metadata": {},
     "output_type": "display_data"
    }
   ],
   "source": [
    "for i, row in df.iterrows():\n",
    "    \n",
    "    if i  in [0]: continue\n",
    "    \n",
    "    dst_dir = os.path.join(save_dir, '{0}'.format(row['sim_id']))\n",
    "    dst_dir = os.path.join(dst_dir, 'x{0}-{1}_y{2}-{3}_f{4}-{5}'.format(\n",
    "        row.x_min,row.x_max,\n",
    "        row.y_min,row.y_max,\n",
    "        row.f_min,row.f_max,\n",
    "    ))\n",
    "    print(dst_dir)\n",
    "    #if os.path.exists(dst_dir) : shutil.rmtree(dst_dir)\n",
    "    if not os.path.exists(dst_dir) : os.makedirs(dst_dir)\n",
    "        \n",
    "    \n",
    "    sess = ElecpySession(os.path.join(src_dir, row.sim_id), keys=['vmem', 'cell/xina'])\n",
    "    sess.setRange(\n",
    "        x_min = row.x_min,\n",
    "        x_max = row.x_max,\n",
    "        y_min = row.y_min,\n",
    "        y_max = row.y_max\n",
    "    )\n",
    "    \n",
    "    analyzeSession(sess, save_dir=dst_dir)\n",
    "    \n",
    "    sess.setRange(\n",
    "        f_min = row.f_min,\n",
    "        f_max = row.f_max,\n",
    "    )\n",
    "    \n",
    "    #save_vmem(sess); continue\n",
    "    \n",
    "    phase_types = ['p_diff', 'p_ftdt', 'p_hilbert']#, \n",
    "    for phase_type in phase_types:\n",
    "        path = os.path.join(dst_dir,'{0}'.format(phase_type))\n",
    "        print(path)\n",
    "        if not os.path.exists(path) : os.mkdir(path)\n",
    "        \n",
    "        #plot_phase_3d(sess, phase_type)\n",
    "        plot_phase_integral(sess, phase_type)\n",
    "        plot_phase_polarity(sess,phase_type)\n",
    "        plot_pv_traj(sess, phase_type)"
   ]
  },
  {
   "cell_type": "markdown",
   "metadata": {},
   "source": [
    "## Total sodium current"
   ]
  },
  {
   "cell_type": "code",
   "execution_count": null,
   "metadata": {
    "collapsed": false
   },
   "outputs": [],
   "source": [
    "df = pd.read_csv('data.roi-Ina.csv')\n",
    "df"
   ]
  },
  {
   "cell_type": "code",
   "execution_count": null,
   "metadata": {
    "collapsed": false
   },
   "outputs": [],
   "source": [
    "for i, row in df.iterrows():\n",
    "    \n",
    "    dst_dir = os.path.join(save_dir, '{0}'.format(row['sim_id']))\n",
    "    dst_dir = os.path.join(dst_dir, 'x{0}-{1}_y{2}-{3}_f{4}-{5}'.format(\n",
    "        row.x_min,row.x_max,\n",
    "        row.y_min,row.y_max,\n",
    "        row.f_min,row.f_max,\n",
    "    ))\n",
    "    print(dst_dir)\n",
    "    #if os.path.exists(dst_dir) : shutil.rmtree(dst_dir)\n",
    "    if not os.path.exists(dst_dir) : os.makedirs(dst_dir)\n",
    "        \n",
    "    \n",
    "    sess = ElecpySession(\"/mnt/recordings/SimulationResult/\"+row.sim_id, keys=['vmem', 'cell/xina'])\n",
    "    sess.setRange(\n",
    "        x_min = row.x_min,\n",
    "        x_max = row.x_max,\n",
    "        y_min = row.y_min,\n",
    "        y_max = row.y_max,\n",
    "        f_min = row.f_min,\n",
    "        f_max = row.f_max,\n",
    "    )\n",
    "\n",
    "    \n",
    "    ### Sodium current integral ###\n",
    "    \n",
    "    xina = abs(np.sum(sess.data[\"cell/xina\"], axis=0))\n",
    "    plt.clf()\n",
    "    plt.imshow(xina, cmap='gray')\n",
    "    plt.colorbar()\n",
    "    plt.savefig(os.path.join(dst_dir, 'xina.png'))\n",
    "    "
   ]
  },
  {
   "cell_type": "markdown",
   "metadata": {},
   "source": [
    "## Shift speed analysis"
   ]
  },
  {
   "cell_type": "code",
   "execution_count": null,
   "metadata": {
    "collapsed": true
   },
   "outputs": [],
   "source": [
    "r = 5"
   ]
  },
  {
   "cell_type": "code",
   "execution_count": null,
   "metadata": {
    "collapsed": false
   },
   "outputs": [],
   "source": [
    "df = pd.read_csv('data.roi-speed.csv')\n",
    "df"
   ]
  },
  {
   "cell_type": "code",
   "execution_count": null,
   "metadata": {
    "collapsed": false,
    "scrolled": false
   },
   "outputs": [],
   "source": [
    "def lkf2d(Y):\n",
    "\n",
    "    A = np.eye(4)\n",
    "    A[0,2] = 1.\n",
    "    A[1,3] = 1.\n",
    "    B = np.eye(4)\n",
    "    Q = np.eye(4)\n",
    "    C = np.eye(4)\n",
    "    R = np.eye(4)*2.0\n",
    "    C = np.eye(4)\n",
    "    R = np.eye(4)\n",
    "\n",
    "    Sigma = np.zeros((4,4))\n",
    "    mu = Y[0]\n",
    "    M = [mu]\n",
    "\n",
    "    for i in range(1,len(Y),1):\n",
    "\n",
    "        # 推定\n",
    "        mu_ = np.dot(A, mu) #+ np.dot(B, U[i])\n",
    "        Sigma_ = Q + np.dot(np.dot(A , Sigma) , A.T)\n",
    "\n",
    "        # 更新\n",
    "        yi = Y[i][:,np.newaxis] - np.dot(C , mu_)\n",
    "        S = np.dot(np.dot(C , Sigma_), C.T) + R\n",
    "        K = np.dot(np.dot(Sigma_ , C.T) , np.linalg.inv(S))\n",
    "        mu = mu_ + np.dot( K , yi )\n",
    "        Sigma = Sigma_ - np.dot( np.dot(K , C) , Sigma_)\n",
    "        M.append(mu[:,0])\n",
    "\n",
    "    M = np.array(M)\n",
    "    return M\n"
   ]
  },
  {
   "cell_type": "code",
   "execution_count": null,
   "metadata": {
    "collapsed": false
   },
   "outputs": [],
   "source": [
    "for i, row in df.iterrows():\n",
    "    \n",
    "    if not i in [4]: continue\n",
    "        \n",
    "    dst_dir = os.path.join(save_dir, '{0}'.format(row['sim_id']))\n",
    "    dst_dir = os.path.join(dst_dir, 'x{0}-{1}_y{2}-{3}_f{4}-{5}'.format(\n",
    "        row.x_min,row.x_max,\n",
    "        row.y_min,row.y_max,\n",
    "        row.f_min,row.f_max,\n",
    "    ))\n",
    "    print(dst_dir)\n",
    "    #if os.path.exists(dst_dir) : shutil.rmtree(dst_dir)\n",
    "    if not os.path.exists(dst_dir) : os.makedirs(dst_dir)\n",
    "\n",
    "\n",
    "    sess = ElecpySession(\"/mnt/recordings/SimulationResult/\"+row.sim_id, keys=['vmem', 'cell/xina'])\n",
    "    sess.setRange(\n",
    "        x_min = row.x_min,\n",
    "        x_max = row.x_max,\n",
    "        y_min = row.y_min,\n",
    "        y_max = row.y_max\n",
    "    )\n",
    "\n",
    "    analyzeSession(sess)\n",
    "    sess.setRange(\n",
    "        f_min = row.f_min,\n",
    "        f_max = row.f_max,\n",
    "    )"
   ]
  },
  {
   "cell_type": "code",
   "execution_count": null,
   "metadata": {
    "collapsed": false
   },
   "outputs": [],
   "source": [
    "pv=sess.data['pv']\n",
    "p = sess.data['phase']\n",
    "L,H,W=pv.shape\n",
    "\n",
    "traj = np.array([ np.unravel_index(im.argmax(), im.shape) for im in pv])\n",
    "tran = traj[1:,:] - traj[:-1,:]\n",
    "#speed = np.linalg.norm((tran[1:,:] + tran[:-1,:])/2., axis=1)\n",
    "\n",
    "Y = np.concatenate( (traj[:-1,:], tran ), axis=1)\n",
    "M = lkf2d(Y)\n",
    "speed = np.linalg.norm( M[:,2:], axis=1)\n",
    "\n",
    "\n",
    "## bipolarity on center\n",
    "path = os.path.join(dst_dir,'polarity_center')\n",
    "path_t = os.path.join(dst_dir,'trajectory')\n",
    "if not os.path.exists(path) : os.mkdir(path)\n",
    "if not os.path.exists(path_t) : os.mkdir(path_t)\n",
    "out = []\n",
    "for f, im in enumerate(pv):\n",
    "\n",
    "    gy, gx = traj[f,:]\n",
    "    #print((gx, gy))\n",
    "\n",
    "    if (gy-r) < 0 or (gx-r) < 0 or (gy+r) > H or (gx+r) > W or f <= 0 or f >= len(pv)-1: continue\n",
    "\n",
    "    pdiff_x = (p[f,:,gx-r+1:gx+r] - p[f,:,gx-r:gx+r-1])[gy-r:gy+r,:]\n",
    "    pdiff_y = (p[f,gy-r+1:gy+r,:] - p[f,gy-r:gy+r-1,:])[:,gx-r:gx+r]\n",
    "\n",
    "    ## mean bipolarity\n",
    "    thre = -np.cos(np.pi-.8*np.pi)\n",
    "    pdiff = np.concatenate( (pdiff_x.flatten(),pdiff_y.flatten()), axis=0)\n",
    "    B = -np.cos(pdiff)\n",
    "    l = np.mean( B )\n",
    "    out.append( [speed[f-1], l ])\n",
    "    \n",
    "    ## plot trajecory\n",
    "    plt.clf()\n",
    "    fig, ax = plt.subplots(figsize=(10,10))\n",
    "    plt.axis('equal')\n",
    "    ax = plt.gca()\n",
    "    plt.axis([0, H, 0, W])\n",
    "    #ax.tick_params(labelbottom=\"off\", labelleft=\"off\")\n",
    "    #ax.tick_params(bottom=\"off\", left=\"off\")\n",
    "    #ax.tick_params(top=\"off\", right=\"off\")\n",
    "    #ax.axis(\"off\")\n",
    "    \n",
    "    f_start = max(f-30, 0)\n",
    "    gys = traj[f_start:f, 0]\n",
    "    gxs = traj[f_start:f, 1]\n",
    "    plt.scatter(gxs, gys, \n",
    "        c = np.arange(f_start, f),\n",
    "        norm=plt.Normalize(f_start, f),\n",
    "        cmap=plt.cm.jet, \n",
    "        linewidth=1)\n",
    "\n",
    "    plt.savefig(\n",
    "        os.path.join(path_t, '{0:0>6}.png'.format(f)),\n",
    "        transparent=True, \n",
    "        bbox_inches='tight'\n",
    "    )\n",
    "    #plt.show()\n",
    "    plt.close()\n",
    "    continue\n",
    "\n",
    "\n",
    "    # plot edges\n",
    "    plt.clf()\n",
    "    fig, ax = plt.subplots(figsize=(10,10))\n",
    "    plt.axis('equal')\n",
    "    ax = plt.gca()\n",
    "    #ax = fig.add_subplot(1,1,1, axisbg='black')\n",
    "    ax.tick_params(labelbottom=\"off\", labelleft=\"off\")\n",
    "    ax.tick_params(bottom=\"off\", left=\"off\")\n",
    "    ax.tick_params(top=\"off\", right=\"off\")\n",
    "    ax.axis(\"off\")\n",
    "    plt.plot( [gx-r,gx-r,gx+r,gx+r,gx-r], [gy-r,gy+r,gy+r,gy-r,gy-r], linewidth=5, color='black')\n",
    "\n",
    "    for j in range(gx-r, gx+r-1):\n",
    "\n",
    "        x = np.ones(2*r+1)*(j+1)\n",
    "        y = np.arange(gy-r, gy+r+1, 1)\n",
    "\n",
    "        points = np.array([x, y]).T.reshape(-1, 1, 2)\n",
    "        segments = np.concatenate([points[:-1], points[1:]], axis=1)\n",
    "\n",
    "        lc = mcoll.LineCollection(\n",
    "            segments, array=-np.cos(pdiff_x[::-1,j-(gx-r)]), \n",
    "            cmap=plt.cm.coolwarm, \n",
    "            norm=plt.Normalize(-1.25, 1.0),\n",
    "            linewidth=5, alpha=1.0)\n",
    "        ax.add_collection(lc)\n",
    "\n",
    "    for i in range(gy-r, gy+r-1):\n",
    "\n",
    "        y = np.ones(2*r+1)*(i+1)\n",
    "        x = np.arange(gx-r, gx+r+1, 1)\n",
    "\n",
    "        points = np.array([x, y]).T.reshape(-1, 1, 2)\n",
    "        segments = np.concatenate([points[:-1], points[1:]], axis=1)\n",
    "\n",
    "        lc = mcoll.LineCollection(\n",
    "            segments, \n",
    "            array=-np.cos(pdiff_y[-1-(i-(gy-r)),:]), \n",
    "            cmap=plt.cm.coolwarm, \n",
    "            norm=plt.Normalize(-1.25, 1.0),\n",
    "            linewidth=5, alpha=1.0)\n",
    "        ax.add_collection(lc)    \n",
    "\n",
    "    plt.savefig(\n",
    "        os.path.join(path, '{0:0>6}.png'.format(f)),\n",
    "        transparent=True, \n",
    "        bbox_inches='tight', \n",
    "        facecolor=fig.get_facecolor(),\n",
    "    )\n",
    "    #plt.show()\n",
    "    plt.close()"
   ]
  },
  {
   "cell_type": "code",
   "execution_count": null,
   "metadata": {
    "collapsed": false
   },
   "outputs": [],
   "source": [
    "len(traj)"
   ]
  },
  {
   "cell_type": "code",
   "execution_count": null,
   "metadata": {
    "collapsed": false,
    "scrolled": true
   },
   "outputs": [],
   "source": [
    "## mean bipolarity vs. SW speed \n",
    "out = np.array(out)\n",
    "x = out[:,0]\n",
    "y = out[:,1]\n",
    "\n",
    "ax = plt.gca()#.set_aspect('equal', adjustable='box')\n",
    "#ax.set_aspect('equal')\n",
    "\n",
    "xmin = x.min() - (x.max()-x.min())*0.1\n",
    "xmax = x.max() + (x.max()-x.min())*0.1\n",
    "ymin = y.min() - (y.max()-y.min())*0.1\n",
    "ymax = y.max() + (y.max()-y.min())*0.1\n",
    "\n",
    "ax.axis([xmin, xmax, ymin, ymax])\n",
    "ax.scatter(x,y, c='k', s=5)\n",
    "\n",
    "print(np.corrcoef(x,y)[0,1])\n",
    "\n",
    "a, b = np.polyfit(x,y,1)\n",
    "xs = np.arange(xmin, xmax, (xmax-xmin)*0.01)\n",
    "y2 = a*xs+b\n",
    "ax.plot(xs, y2, c='r')\n",
    "\n",
    "plt.show()"
   ]
  },
  {
   "cell_type": "markdown",
   "metadata": {},
   "source": [
    "## Misc"
   ]
  },
  {
   "cell_type": "code",
   "execution_count": null,
   "metadata": {
    "collapsed": false
   },
   "outputs": [],
   "source": [
    "\n",
    "plt.clf()\n",
    "\n",
    "fig, ax = plt.subplots(figsize=(5,5))\n",
    "plt.axis('equal')\n",
    "plt.axis([-1.2, 1.2, -1.2, 1.2])\n",
    "ax = plt.gca()\n",
    "ax.tick_params(labelbottom=\"off\", labelleft=\"off\")\n",
    "ax.tick_params(bottom=\"off\", left=\"off\")\n",
    "ax.tick_params(top=\"off\", right=\"off\")\n",
    "ax.axis(\"off\")\n",
    "\n",
    "phases = np.arange(0,2*np.pi,np.pi/1024)\n",
    "plt.scatter( np.cos(phases), np.sin(phases), c='k', s=.02)\n",
    "\n",
    "A = np.arange(-1.2, 1.2, 0.01)\n",
    "plt.scatter( A, np.zeros_like(A), c='k', s=.02)\n",
    "plt.scatter( np.zeros_like(A), A, c='k', s=.02)\n",
    "\n",
    "phases = np.arange(0,2*np.pi,np.pi/16)\n",
    "plt.scatter( \n",
    "    np.cos(phases), np.sin(phases), \n",
    "    c=-np.cos(phases), \n",
    "    cmap=plt.cm.coolwarm,\n",
    "    s=10)\n",
    "\n",
    "segments = np.array( [[[0,0],[np.cos(theta), np.sin(theta)]] for theta in phases], dtype=np.float64)\n",
    "lc = mcoll.LineCollection(\n",
    "    segments, array=-np.cos(phases), \n",
    "    cmap=plt.cm.coolwarm, \n",
    "    norm=plt.Normalize(-1.0, 1.0),\n",
    "    linewidth=1, alpha=1.0)\n",
    "ax.add_collection(lc)\n",
    "\n",
    "plt.show()\n",
    "\n",
    "#plt.savefig(os.path.join(path, '{0:0>6}.png'.format(f)))\n",
    "#plt.close()"
   ]
  },
  {
   "cell_type": "code",
   "execution_count": 59,
   "metadata": {
    "collapsed": true
   },
   "outputs": [],
   "source": [
    "def plot_phase_without_warp(data, **kwargs):\n",
    "    \n",
    "    data_diff = np.copy(data)\n",
    "    data_diff[0] = 0\n",
    "    data_diff[1:] = data_diff[1:] - data[:-1]\n",
    "    \n",
    "    warps = np.where(np.abs(data_diff)>np.pi)\n",
    "    warps = np.concatenate([[0],warps[0],[len(data_diff)-1]])\n",
    "    print warps\n",
    "    \n",
    "    for i, w in enumerate(warps[1:]):\n",
    "        start = warps[i]\n",
    "        end = w\n",
    "        plt.plot( np.arange(start, end), data[start:end], c=kwargs['c'], linestyle=kwargs['linestyle'], label=kwargs['label']);\n",
    "\n",
    "\n",
    "data = np.arange(0, 10*np.pi, 0.01*np.pi)\n",
    "while(data.max() > np.pi):\n",
    "    data = phaseComplement(data)\n",
    "    \n",
    "#plt.subplot(211)\n",
    "plt.plot(data)\n",
    "#plt.subplot(212)\n",
    "plot_phase_without_warp(data,c='k', linestyle=linestyles[0], label=point_names[0])"
   ]
  }
 ],
 "metadata": {
  "kernelspec": {
   "display_name": "Python 2",
   "language": "python",
   "name": "python2"
  },
  "language_info": {
   "codemirror_mode": {
    "name": "ipython",
    "version": 2
   },
   "file_extension": ".py",
   "mimetype": "text/x-python",
   "name": "python",
   "nbconvert_exporter": "python",
   "pygments_lexer": "ipython2",
   "version": "2.7.13"
  }
 },
 "nbformat": 4,
 "nbformat_minor": 2
}
