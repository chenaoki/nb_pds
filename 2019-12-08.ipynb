{
 "cells": [
  {
   "cell_type": "code",
   "execution_count": 96,
   "metadata": {
    "collapsed": false
   },
   "outputs": [],
   "source": [
    "from IPython.display import HTML\n",
    "from matplotlib import animation, rc\n",
    "\n",
    "import pandas as pd\n",
    "import numpy as np\n",
    "import os, json\n",
    "import matplotlib.pyplot as plt\n",
    "import math\n",
    "%matplotlib inline\n",
    "\n",
    "from opmap.cmap import bipolar\n",
    "from opmap.videoData import VideoData\n",
    "from opmap.vmemMap import VmemMap\n",
    "from opmap.phaseMapHilbert import PhaseMapHilbert\n",
    "from opmap.phaseVarianceMap import PhaseVarianceMap\n",
    "\n",
    "from elecpy.util.loader import Loader\n",
    "\n",
    "import scipy\n",
    "import copy"
   ]
  },
  {
   "cell_type": "code",
   "execution_count": 104,
   "metadata": {
    "collapsed": true
   },
   "outputs": [],
   "source": [
    "def sess2vmem(sess):\n",
    "    V = sess.data['vmem']\n",
    "    cam = VideoData(*V.shape)\n",
    "    vmem = VmemMap(cam)\n",
    "    vmem.data = 2*(V - V.min())/(V.max() - V.min()) - 1.0\n",
    "    del(cam)\n",
    "    return vmem"
   ]
  },
  {
   "cell_type": "code",
   "execution_count": 20,
   "metadata": {
    "collapsed": true
   },
   "outputs": [],
   "source": [
    "def phaseComplement(value):\n",
    "    value -= (value > np.pi)*2*np.pi\n",
    "    value += (value < - np.pi)*2*np.pi\n",
    "    return value\n",
    "\n",
    "def topologic_charge(P):\n",
    "    P_dx = np.zeros_like(P)\n",
    "    P_dy = np.zeros_like(P)\n",
    "    P_dx[:, :-1] = phaseComplement(P[:,1:] - P[:,:-1])\n",
    "    P_dy[:-1,:] = phaseComplement(P[1:,:] - P[:-1,:])\n",
    "\n",
    "    filter_dx = [[1,1],[0,0],[-1,-1]]\n",
    "    filter_dy = [[-1,0,1], [-1,0,1]]\n",
    "\n",
    "    integ_dx = scipy.signal.convolve2d(P_dx, filter_dx, mode='same', boundary='symm')\n",
    "    integ_dy = scipy.signal.convolve2d(P_dy, filter_dy, mode='same', boundary='symm')\n",
    "    return np.abs(integ_dx+integ_dy)/2*np.pi\n",
    "\n",
    "def phase_variance(P):\n",
    "    im_cos = np.cos(P)\n",
    "    im_sin = np.sin(P)\n",
    "    f = np.ones((3,3))\n",
    "    f /= np.sum(f)\n",
    "    im_cos = scipy.signal.convolve2d(im_cos, f, mode='same', boundary='symm')\n",
    "    im_sin = scipy.signal.convolve2d(im_sin, f, mode='same', boundary='symm')\n",
    "    im_pv = 1-np.abs(im_cos+1j*im_sin)\n",
    "    return im_pv"
   ]
  },
  {
   "cell_type": "code",
   "execution_count": 4,
   "metadata": {
    "collapsed": false
   },
   "outputs": [
    {
     "name": "stdout",
     "output_type": "stream",
     "text": [
      "0 20190730-1441_00\n",
      "1 20190730-1441_01\n",
      "2 20190730-1441_02\n",
      "3 20190730-1441_03\n",
      "4 20190730-1441_04\n",
      "5 20190730-1441_05\n",
      "6 20190730-1441_06\n",
      "7 20190730-1441_07\n",
      "8 20190730-1441_08\n",
      "9 20190730-1441_09\n",
      "10 20190730-1441_10\n",
      "11 20190730-1441_11\n",
      "12 20190730-1441_12\n",
      "13 20190730-1441_13\n",
      "14 20190730-1441_14\n",
      "15 20190730-1441_15\n",
      "16 20190730-1441_16\n",
      "17 20190730-1441_17\n",
      "18 20190730-1441_18\n",
      "19 20190730-1441_19\n",
      "20 20190730-1441_20\n",
      "21 20190730-1441_21\n",
      "22 20190730-1441_22\n",
      "23 20190730-1441_23\n",
      "24 20190730-1441_24\n",
      "25 20190807-1440_00\n",
      "26 20190807-1440_01\n",
      "27 20190807-1440_02\n",
      "28 20190807-1440_03\n",
      "29 20190807-1440_04\n",
      "30 20190807-1440_05\n",
      "31 20190807-1440_06\n",
      "32 20190807-1440_07\n",
      "33 20190807-1440_08\n",
      "34 20190807-1440_09\n",
      "35 20190807-1440_10\n",
      "36 20190807-1440_11\n",
      "37 20190807-1440_12\n",
      "38 20190807-1440_13\n",
      "39 20190807-1440_14\n",
      "40 20190807-1440_15\n",
      "41 20190807-1440_16\n",
      "42 20190807-1440_17\n",
      "43 20190807-1440_18\n",
      "44 20190807-1440_19\n",
      "45 20190807-1440_20\n",
      "46 20190807-1440_21\n",
      "47 20190807-1440_22\n",
      "48 20190807-1440_23\n",
      "49 20190807-1440_24\n",
      "50 20190923-1450_00\n",
      "51 20190923-1450_01\n",
      "52 20190923-1450_02\n",
      "53 20190923-1450_03\n",
      "54 20190923-1450_04\n",
      "55 20190923-1450_05\n",
      "56 20190923-1450_06\n",
      "57 20190923-1450_07\n",
      "58 20190923-1450_08\n",
      "59 20190923-1450_09\n",
      "60 20190923-1450_10\n",
      "61 20190923-1450_11\n",
      "62 20190923-1450_12\n",
      "63 20190923-1450_13\n",
      "64 20190923-1450_14\n",
      "65 20190923-1450_15\n",
      "66 20190923-1450_16\n",
      "67 20190923-1450_17\n",
      "68 20190923-1450_18\n",
      "69 20190923-1450_19\n",
      "70 20190923-1450_20\n",
      "71 20190923-1450_21\n",
      "72 20190923-1450_22\n",
      "73 20190923-1450_23\n",
      "74 20190923-1450_24\n",
      "75 20190930-0442_00\n",
      "76 20190930-0442_01\n",
      "77 20190930-0442_02\n",
      "78 20190930-0442_03\n",
      "79 20190930-0442_04\n",
      "80 20190930-0442_05\n",
      "81 20190930-0442_06\n",
      "82 20190930-0442_07\n",
      "83 20190930-0442_08\n",
      "84 20190930-0442_09\n",
      "85 20190930-0442_10\n",
      "86 20190930-0442_11\n",
      "87 20190930-0442_12\n",
      "88 20190930-0442_13\n",
      "89 20190930-0442_14\n",
      "90 20190930-0442_15\n",
      "91 20190930-0442_16\n",
      "92 20190930-0442_17\n",
      "93 20190930-0442_18\n",
      "94 20190930-0442_19\n",
      "95 20190930-0442_20\n",
      "96 20190930-0442_21\n",
      "97 20190930-0442_22\n",
      "98 20190930-0442_23\n",
      "99 20190930-0442_24\n",
      "100 20191004-0524_00\n",
      "101 20191004-0524_01\n",
      "102 20191004-0524_02\n",
      "103 20191004-0524_03\n",
      "104 20191004-0524_04\n",
      "105 20191004-0524_05\n",
      "106 20191004-0524_06\n",
      "107 20191004-0524_07\n",
      "108 20191004-0524_08\n",
      "109 20191004-0524_09\n",
      "110 20191004-0524_10\n",
      "111 20191004-0524_11\n",
      "112 20191004-0524_12\n",
      "113 20191004-0524_13\n",
      "114 20191004-0524_14\n",
      "115 20191004-0524_15\n",
      "116 20191004-0524_16\n",
      "117 20191004-0524_17\n",
      "118 20191004-0524_18\n",
      "119 20191004-0524_19\n",
      "120 20191004-0524_20\n",
      "121 20191004-0524_21\n",
      "122 20191004-0524_22\n",
      "123 20191004-0524_23\n",
      "124 20191004-0524_24\n",
      "125 20191007-0431_00\n",
      "126 20191007-0431_01\n",
      "127 20191007-0431_02\n",
      "128 20191007-0431_03\n",
      "129 20191007-0431_04\n",
      "130 20191007-0431_05\n",
      "131 20191007-0431_06\n",
      "132 20191007-0431_07\n",
      "133 20191007-0431_08\n",
      "134 20191007-0431_09\n",
      "135 20191007-0431_10\n",
      "136 20191007-0431_11\n",
      "137 20191007-0431_12\n",
      "138 20191007-0431_13\n",
      "139 20191007-0431_14\n",
      "140 20191007-0431_15\n",
      "141 20191007-0431_16\n",
      "142 20191007-0431_17\n",
      "143 20191007-0431_18\n",
      "144 20191007-0431_19\n",
      "145 20191007-0431_20\n",
      "146 20191007-0431_21\n",
      "147 20191007-0431_22\n",
      "148 20191007-0431_23\n",
      "149 20191007-0431_24\n",
      "150 20191009-0832_00\n",
      "151 20191009-0832_01\n",
      "152 20191009-0832_02\n",
      "153 20191009-0832_03\n",
      "154 20191009-0832_04\n",
      "155 20191009-0832_05\n",
      "156 20191009-0832_06\n",
      "157 20191009-0832_07\n",
      "158 20191009-0832_08\n",
      "159 20191009-0832_09\n",
      "160 20191009-0832_10\n",
      "161 20191009-0832_11\n",
      "162 20191009-0832_12\n",
      "163 20191009-0832_13\n",
      "164 20191009-0832_14\n",
      "165 20191009-0832_15\n",
      "166 20191009-0832_16\n",
      "167 20191009-0832_17\n",
      "168 20191009-0832_18\n",
      "169 20191009-0832_19\n",
      "170 20191009-0832_20\n",
      "171 20191009-0832_21\n",
      "172 20191009-0832_22\n",
      "173 20191009-0832_23\n",
      "174 20191009-0832_24\n",
      "175 20191010-0845_00\n",
      "176 20191010-0845_01\n",
      "177 20191010-0845_02\n",
      "178 20191010-0845_03\n",
      "179 20191010-0845_04\n",
      "180 20191010-0845_05\n",
      "181 20191010-0845_06\n",
      "182 20191010-0845_07\n",
      "183 20191010-0845_08\n",
      "184 20191010-0845_09\n",
      "185 20191010-0845_10\n",
      "186 20191010-0845_11\n",
      "187 20191010-0845_12\n",
      "188 20191010-0845_13\n",
      "189 20191010-0845_14\n",
      "190 20191010-0845_15\n",
      "191 20191010-0845_16\n",
      "192 20191010-0845_17\n",
      "193 20191010-0845_18\n",
      "194 20191010-0845_19\n",
      "195 20191010-0845_20\n",
      "196 20191010-0845_21\n",
      "197 20191010-0845_22\n",
      "198 20191010-0845_23\n",
      "199 20191010-0845_24\n",
      "200 20191014-0520_00\n",
      "201 20191014-0520_01\n",
      "202 20191014-0520_02\n",
      "203 20191014-0520_03\n",
      "204 20191014-0520_04\n",
      "205 20191014-0520_05\n",
      "206 20191014-0520_06\n",
      "207 20191014-0520_07\n",
      "208 20191014-0520_08\n",
      "209 20191014-0520_09\n",
      "210 20191014-0520_10\n",
      "211 20191014-0520_11\n",
      "212 20191014-0520_12\n",
      "213 20191014-0520_13\n",
      "214 20191014-0520_14\n",
      "215 20191014-0520_15\n",
      "216 20191014-0520_16\n",
      "217 20191014-0520_17\n",
      "218 20191014-0520_18\n",
      "219 20191014-0520_19\n",
      "220 20191014-0520_20\n",
      "221 20191014-0520_21\n",
      "222 20191014-0520_22\n",
      "223 20191014-0520_23\n",
      "224 20191014-0520_24\n",
      "225 20191015-0144_00\n",
      "226 20191015-0144_01\n",
      "227 20191015-0144_02\n",
      "228 20191015-0144_03\n",
      "229 20191015-0144_04\n",
      "230 20191015-0144_05\n",
      "231 20191015-0144_06\n",
      "232 20191015-0144_07\n",
      "233 20191015-0144_08\n",
      "234 20191015-0144_09\n",
      "235 20191015-0144_10\n",
      "236 20191015-0144_11\n",
      "237 20191015-0144_12\n",
      "238 20191015-0144_13\n",
      "239 20191015-0144_14\n",
      "240 20191015-0144_15\n",
      "241 20191015-0144_16\n",
      "242 20191015-0144_17\n",
      "243 20191015-0144_18\n",
      "244 20191015-0144_19\n",
      "245 20191015-0144_20\n",
      "246 20191015-0144_21\n",
      "247 20191015-0144_22\n",
      "248 20191015-0144_23\n",
      "249 20191015-0144_24\n",
      "250 20191015-0901_00\n",
      "251 20191015-0901_01\n",
      "252 20191015-0901_02\n",
      "253 20191015-0901_03\n",
      "254 20191015-0901_04\n",
      "255 20191015-0901_05\n",
      "256 20191015-0901_06\n",
      "257 20191015-0901_07\n",
      "258 20191015-0901_08\n",
      "259 20191015-0901_09\n",
      "260 20191015-0901_10\n",
      "261 20191015-0901_11\n",
      "262 20191015-0901_12\n",
      "263 20191015-0901_13\n",
      "264 20191015-0901_14\n",
      "265 20191015-0901_15\n",
      "266 20191015-0901_16\n",
      "267 20191015-0901_17\n",
      "268 20191015-0901_18\n",
      "269 20191015-0901_19\n",
      "270 20191015-0901_20\n",
      "271 20191015-0901_21\n",
      "272 20191015-0901_22\n",
      "273 20191015-0901_23\n",
      "274 20191015-0901_24\n",
      "275 20191018-0724_00\n",
      "276 20191018-0930_00\n"
     ]
    }
   ],
   "source": [
    "with open('./sim_params_all.json', 'r') as f: params_all = json.load(f)\n",
    "\n",
    "for i, sim_id in enumerate(sorted(params_all.keys())):\n",
    "    print i, sim_id"
   ]
  },
  {
   "cell_type": "code",
   "execution_count": 115,
   "metadata": {
    "collapsed": false
   },
   "outputs": [
    {
     "data": {
      "text/plain": [
       "[u'20190730-1441_15']"
      ]
     },
     "execution_count": 115,
     "metadata": {},
     "output_type": "execute_result"
    }
   ],
   "source": [
    "list_sim = sorted(params_all.keys())[15:16]\n",
    "list_sim"
   ]
  },
  {
   "cell_type": "code",
   "execution_count": 116,
   "metadata": {
    "collapsed": false
   },
   "outputs": [
    {
     "name": "stdout",
     "output_type": "stream",
     "text": [
      "20190730-1441_15\n",
      "{u'cell_type': u'mahajan', u'log': {u'path': u'/mnt/Omer/Project/02.CumulativePhaseVariance/SimulationResults/20190730-1441_15', u'cnt': 200}, u'mask': {u'c_brugada': u'/mnt/Omer/Project/02.CumulativePhaseVariance/mask/homo_1.4.npy'}, u'stimulation': {}, u'fibroblast': {u'distribution': u'/mnt/Omer/Project/02.CumulativePhaseVariance/SimulationResults/20190730-1441_15/dist_fib.npy', u'type': u'fib'}, u'time': {u'end': 5000, u'udt': 0.005}, u'geometory': {u'width': 200, u'ds': 0.015, u'height': 200}, u'restart': {u'count': 0, u'source': u'/mnt/Omer/Project/02.CumulativePhaseVariance/SimulationResults/20171128-1/'}}\n",
      "5001\n"
     ]
    }
   ],
   "source": [
    "for sim_id in list_sim[0:]:\n",
    "    \n",
    "    print(sim_id)\n",
    "    params = params_all[sim_id]\n",
    "    print(params)\n",
    "    \n",
    "    keys = ['vmem']\n",
    "\n",
    "    sess = Loader(\n",
    "        os.path.join(params['log']['path'], 'out.h5'), \n",
    "        keys=keys\n",
    "    )\n",
    "\n",
    "    print(sess.L)\n"
   ]
  },
  {
   "cell_type": "markdown",
   "metadata": {},
   "source": [
    "## Topologic ChargeとPhase Varianceの比較"
   ]
  },
  {
   "cell_type": "code",
   "execution_count": 173,
   "metadata": {
    "collapsed": false
   },
   "outputs": [
    {
     "name": "stdout",
     "output_type": "stream",
     "text": [
      "/mnt/Shelter/Project/01.PhaseDiscontinuity/AnalysisResults/2019-12-08/20190730-1441_15\n"
     ]
    }
   ],
   "source": [
    "dst_dir = \"/mnt/Shelter/Project/01.PhaseDiscontinuity/AnalysisResults/2019-12-08\"\n",
    "dst_dir = os.path.join(dst_dir, sim_id)\n",
    "print(dst_dir)\n",
    "if not os.path.exists(dst_dir): os.makedirs(dst_dir)"
   ]
  },
  {
   "cell_type": "code",
   "execution_count": 118,
   "metadata": {
    "collapsed": false
   },
   "outputs": [],
   "source": [
    "sess.data[\"vmem\"] = sess.data[\"vmem\"][3000:4000,50:150,50:150]\n",
    "sess.L = len(sess.data[\"vmem\"])"
   ]
  },
  {
   "cell_type": "code",
   "execution_count": 120,
   "metadata": {
    "collapsed": false
   },
   "outputs": [],
   "source": [
    "vmem = sess2vmem(sess)"
   ]
  },
  {
   "cell_type": "code",
   "execution_count": 124,
   "metadata": {
    "collapsed": false
   },
   "outputs": [],
   "source": [
    "pmap = PhaseMapHilbert(vmem, width=100, sigma_xy=1, sigma_t =1)"
   ]
  },
  {
   "cell_type": "code",
   "execution_count": 144,
   "metadata": {
    "collapsed": true
   },
   "outputs": [],
   "source": [
    "P = pmap.data[580:780,25:,25:]\n",
    "V = vmem.data[580:780,25:,25:]"
   ]
  },
  {
   "cell_type": "code",
   "execution_count": 191,
   "metadata": {
    "collapsed": false
   },
   "outputs": [
    {
     "data": {
      "image/png": "[encoded data removed]",
      "text/plain": [
       "<matplotlib.figure.Figure at 0x7fbd106846d0>"
      ]
     },
     "metadata": {},
     "output_type": "display_data"
    }
   ],
   "source": [
    "opt_vmem = {\"cmap\":bipolar(neutral=0, lutsize=1024), \"vmin\":-1, \"vmax\":1, \"interpolation\":\"nearest\"}\n",
    "#opt_phase = {\"cmap\":\"hsv\", \"vmin\":-np.pi, \"vmax\":np.pi}\n",
    "opt_phase = {\"cmap\":\"jet\", \"vmin\":-np.pi, \"vmax\":np.pi, \"interpolation\":\"nearest\"}\n",
    "opt_gray = {\"cmap\":\"gray\", \"vmin\":0, \"vmax\":1, \"interpolation\":\"nearest\"}\n",
    "\n",
    "fig = plt.figure(figsize=(6,6))\n",
    "\n",
    "ax = plt.subplot(221)\n",
    "plt.axes(ax)\n",
    "plt.axis('off')\n",
    "plt.title(\"Vm\")\n",
    "disp_v = plt.imshow(V[0], **opt_vmem)\n",
    "\n",
    "ax = plt.subplot(222)\n",
    "plt.axes(ax)\n",
    "plt.axis('off')\n",
    "plt.title(\"Phase\")\n",
    "disp_p = plt.imshow(P[0], **opt_phase)\n",
    "\n",
    "ax = plt.subplot(223)\n",
    "plt.axes(ax)\n",
    "plt.axis('off')\n",
    "plt.title(\"TC\")\n",
    "disp_tc = plt.imshow(np.zeros(P[0].shape), **opt_gray)\n",
    "\n",
    "ax = plt.subplot(224)\n",
    "plt.axes(ax)\n",
    "plt.axis('off')\n",
    "plt.title(\"PV\")\n",
    "disp_pv = plt.imshow(np.zeros(P[0].shape), **opt_gray)\n"
   ]
  },
  {
   "cell_type": "code",
   "execution_count": 192,
   "metadata": {
    "collapsed": false
   },
   "outputs": [],
   "source": [
    "def update(i):\n",
    "    disp_v.set_array(V[i])\n",
    "    disp_p.set_array(P[i])\n",
    "    disp_tc.set_array(topologic_charge(P[i]))\n",
    "    disp_pv.set_array(phase_variance(P[i]))\n",
    "    fig.suptitle('{0} #{1:0>4}ms'.format(sim_id,i))\n",
    "    \n",
    "ani = animation.FuncAnimation(fig, update, interval=15, frames=len(P))\n",
    "ani.save(os.path.join(dst_dir,'out.avi'), writer='ffmpeg')"
   ]
  },
  {
   "cell_type": "code",
   "execution_count": 193,
   "metadata": {
    "collapsed": false
   },
   "outputs": [
    {
     "data": {
      "image/png": "[encoded data removed]",
      "text/plain": [
       "<matplotlib.figure.Figure at 0x7fbd10684b50>"
      ]
     },
     "metadata": {},
     "output_type": "display_data"
    }
   ],
   "source": [
    "im_cpv = np.mean(np.array([phase_variance(im) for im in P]), axis=0)\n",
    "im_ctc = np.mean(np.array([topologic_charge(im) for im in P]), axis=0)\n",
    "\n",
    "plt.figure(figsize=(4,2))\n",
    "plt.subplot(121)\n",
    "plt.imshow(im_ctc, cmap='gray', interpolation='nearest', vmax=im_ctc.max(), vmin=0 )\n",
    "#plt.title(\"TC\")\n",
    "plt.axis('off')\n",
    "plt.subplot(122)\n",
    "plt.imshow(im_cpv, cmap='gray', interpolation='nearest', vmax=im_cpv.max(), vmin=0)\n",
    "#plt.title(\"PV\")\n",
    "plt.axis('off')\n",
    "\n",
    "plt.subplots_adjust(left=0.02, right=0.98, bottom=0.05, top=0.95)\n",
    "plt.savefig(os.path.join(dst_dir, \"plot_cumulated.png\"))"
   ]
  },
  {
   "cell_type": "code",
   "execution_count": 194,
   "metadata": {
    "collapsed": false
   },
   "outputs": [
    {
     "name": "stdout",
     "output_type": "stream",
     "text": [
      "/mnt/Shelter/Project/01.PhaseDiscontinuity/AnalysisResults/2019-12-08/20190730-1441_15/plot\n"
     ]
    }
   ],
   "source": [
    "out_path = os.path.join(dst_dir, \"plot\")\n",
    "print(out_path)\n",
    "if not os.path.exists(out_path): os.makedirs(out_path)"
   ]
  },
  {
   "cell_type": "code",
   "execution_count": 195,
   "metadata": {
    "collapsed": false
   },
   "outputs": [
    {
     "data": {
      "image/png": "[encoded data removed]",
      "text/plain": [
       "<matplotlib.figure.Figure at 0x7fbd1066dd90>"
      ]
     },
     "metadata": {},
     "output_type": "display_data"
    }
   ],
   "source": [
    "plt.figure(figsize=(4,1))\n",
    "for i, (im_p, im_v) in enumerate(zip(P, V)):\n",
    "    \n",
    "    ax = plt.subplot(141)\n",
    "    plt.axes(ax)\n",
    "    plt.axis('off')\n",
    "    #plt.title(\"Vm\")\n",
    "    plt.imshow(im_v, **opt_vmem)\n",
    "\n",
    "    ax = plt.subplot(142)\n",
    "    plt.axes(ax)\n",
    "    plt.axis('off')\n",
    "    #plt.title(\"Phase\")\n",
    "    plt.imshow(im_p, **opt_phase)\n",
    "\n",
    "    ax = plt.subplot(143)\n",
    "    plt.axes(ax)\n",
    "    plt.axis('off')\n",
    "    #plt.title(\"TC\")\n",
    "    plt.imshow(topologic_charge(im_p), **opt_gray)\n",
    "\n",
    "    ax = plt.subplot(144)\n",
    "    plt.axes(ax)\n",
    "    plt.axis('off')\n",
    "    #plt.title(\"PV\")\n",
    "    plt.imshow(phase_variance(im_p), **opt_gray)\n",
    "\n",
    "    plt.subplots_adjust(left=0.02, right=0.98, bottom=0.05, top=0.95)\n",
    "    plt.savefig(os.path.join(out_path, \"{0:0>6}.png\".format(i)))\n",
    "    "
   ]
  }
 ],
 "metadata": {
  "kernelspec": {
   "display_name": "Python 2",
   "language": "python",
   "name": "python2"
  },
  "language_info": {
   "codemirror_mode": {
    "name": "ipython",
    "version": 2
   },
   "file_extension": ".py",
   "mimetype": "text/x-python",
   "name": "python",
   "nbconvert_exporter": "python",
   "pygments_lexer": "ipython2",
   "version": "2.7.16"
  }
 },
 "nbformat": 4,
 "nbformat_minor": 2
}
