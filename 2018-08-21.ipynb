{
 "cells": [
  {
   "cell_type": "code",
   "execution_count": 16,
   "metadata": {
    "collapsed": false
   },
   "outputs": [],
   "source": [
    "from util import *\n",
    "import os, shutil\n",
    "import pandas as pd\n",
    "\n",
    "from opmap.videoData import VideoData\n",
    "from opmap.vmemMap import VmemMap\n",
    "from opmap.phaseMap import PhaseMap\n",
    "from opmap.phaseVarianceMap import PhaseVarianceMap\n",
    "from elecpy.elecpySession import ElecpySession\n",
    "\n",
    "from elecpy.cell.luorudy.const import const_d\n",
    "\n",
    "%matplotlib inline\n"
   ]
  },
  {
   "cell_type": "code",
   "execution_count": 17,
   "metadata": {
    "collapsed": false
   },
   "outputs": [
    {
     "name": "stdout",
     "output_type": "stream",
     "text": [
      "/mnt/recordings/AnalysisResult/Tomii/2018-08-07/\n"
     ]
    }
   ],
   "source": [
    "src_dir = '/mnt/recordings/SimulationResult/'\n",
    "save_dir = '/mnt/recordings/AnalysisResult/Tomii/2018-08-07/'\n",
    "print(save_dir)\n",
    "if not os.path.exists(save_dir) : os.mkdir(save_dir)"
   ]
  },
  {
   "cell_type": "code",
   "execution_count": 29,
   "metadata": {
    "collapsed": false
   },
   "outputs": [
    {
     "data": {
      "text/html": [
       "<div>\n",
       "<table border=\"1\" class=\"dataframe\">\n",
       "  <thead>\n",
       "    <tr style=\"text-align: right;\">\n",
       "      <th></th>\n",
       "      <th>sim_id</th>\n",
       "      <th>x_min</th>\n",
       "      <th>x_max</th>\n",
       "      <th>y_min</th>\n",
       "      <th>y_max</th>\n",
       "      <th>f_min</th>\n",
       "      <th>f_max</th>\n",
       "      <th>description</th>\n",
       "    </tr>\n",
       "  </thead>\n",
       "  <tbody>\n",
       "    <tr>\n",
       "      <th>0</th>\n",
       "      <td>20180820-1</td>\n",
       "      <td>90</td>\n",
       "      <td>130</td>\n",
       "      <td>80</td>\n",
       "      <td>120</td>\n",
       "      <td>1900</td>\n",
       "      <td>2900</td>\n",
       "      <td>pivot(20180806-1)</td>\n",
       "    </tr>\n",
       "    <tr>\n",
       "      <th>1</th>\n",
       "      <td>20180820-2</td>\n",
       "      <td>73</td>\n",
       "      <td>113</td>\n",
       "      <td>115</td>\n",
       "      <td>155</td>\n",
       "      <td>1300</td>\n",
       "      <td>2300</td>\n",
       "      <td>shift(20180809-6)</td>\n",
       "    </tr>\n",
       "    <tr>\n",
       "      <th>2</th>\n",
       "      <td>20180820-3</td>\n",
       "      <td>47</td>\n",
       "      <td>87</td>\n",
       "      <td>99</td>\n",
       "      <td>139</td>\n",
       "      <td>1300</td>\n",
       "      <td>2200</td>\n",
       "      <td>drift(20180816-6)</td>\n",
       "    </tr>\n",
       "    <tr>\n",
       "      <th>3</th>\n",
       "      <td>20180820-4</td>\n",
       "      <td>67</td>\n",
       "      <td>107</td>\n",
       "      <td>79</td>\n",
       "      <td>119</td>\n",
       "      <td>100</td>\n",
       "      <td>900</td>\n",
       "      <td>jump(20180817-6)</td>\n",
       "    </tr>\n",
       "    <tr>\n",
       "      <th>4</th>\n",
       "      <td>20180820-4</td>\n",
       "      <td>134</td>\n",
       "      <td>174</td>\n",
       "      <td>65</td>\n",
       "      <td>105</td>\n",
       "      <td>1000</td>\n",
       "      <td>2800</td>\n",
       "      <td>jump(20180817-6)</td>\n",
       "    </tr>\n",
       "  </tbody>\n",
       "</table>\n",
       "</div>"
      ],
      "text/plain": [
       "       sim_id  x_min  x_max  y_min  y_max  f_min  f_max        description\n",
       "0  20180820-1     90    130     80    120   1900   2900  pivot(20180806-1)\n",
       "1  20180820-2     73    113    115    155   1300   2300  shift(20180809-6)\n",
       "2  20180820-3     47     87     99    139   1300   2200  drift(20180816-6)\n",
       "3  20180820-4     67    107     79    119    100    900   jump(20180817-6)\n",
       "4  20180820-4    134    174     65    105   1000   2800   jump(20180817-6)"
      ]
     },
     "execution_count": 29,
     "metadata": {},
     "output_type": "execute_result"
    }
   ],
   "source": [
    "df = pd.read_csv('data.lr.ina.roi.csv')\n",
    "df"
   ]
  },
  {
   "cell_type": "code",
   "execution_count": 36,
   "metadata": {
    "collapsed": false,
    "scrolled": false
   },
   "outputs": [
    {
     "name": "stdout",
     "output_type": "stream",
     "text": [
      "/mnt/recordings/AnalysisResult/Tomii/2018-08-07/20180820-1/x90-130_y80-120_f1900-2900\n",
      "('cell/ina', 4001, 4001)\n",
      "('cell/nai', 4001, 4001)\n",
      "('cell/m', 4001, 4001)\n",
      "('cell/h', 4001, 4001)\n",
      "('cell/j', 4001, 4001)\n",
      "/mnt/recordings/AnalysisResult/Tomii/2018-08-07/20180820-2/x73-113_y115-155_f1300-2300\n",
      "('cell/ina', 4001, 4001)\n",
      "('cell/nai', 4001, 4001)\n",
      "('cell/m', 4001, 4001)\n",
      "('cell/h', 4001, 4001)\n",
      "('cell/j', 4001, 4001)\n",
      "/mnt/recordings/AnalysisResult/Tomii/2018-08-07/20180820-3/x47-87_y99-139_f1300-2200\n",
      "('cell/ina', 3501, 3501)\n",
      "('cell/nai', 3501, 3501)\n",
      "('cell/m', 3501, 3501)\n",
      "('cell/h', 3501, 3501)\n",
      "('cell/j', 3501, 3501)\n",
      "/mnt/recordings/AnalysisResult/Tomii/2018-08-07/20180820-4/x67-107_y79-119_f100-900\n",
      "('cell/ina', 4001, 4001)\n",
      "('cell/nai', 4001, 4001)\n",
      "('cell/m', 4001, 4001)\n",
      "('cell/h', 4001, 4001)\n",
      "('cell/j', 4001, 4001)\n",
      "/mnt/recordings/AnalysisResult/Tomii/2018-08-07/20180820-4/x134-174_y65-105_f1000-2800\n",
      "('cell/ina', 4001, 4001)\n",
      "('cell/nai', 4001, 4001)\n",
      "('cell/m', 4001, 4001)\n",
      "('cell/h', 4001, 4001)\n",
      "('cell/j', 4001, 4001)\n"
     ]
    },
    {
     "data": {
      "image/png": "[encoded data removed]",
      "text/plain": [
       "<matplotlib.figure.Figure at 0x7f8bf40ecd10>"
      ]
     },
     "metadata": {},
     "output_type": "display_data"
    }
   ],
   "source": [
    "for i, row in df.iterrows():\n",
    "    \n",
    "    #if not i in [3]: continue\n",
    "    \n",
    "    dst_dir = os.path.join(save_dir, '{0}'.format(row['sim_id']))\n",
    "    dst_dir = os.path.join(dst_dir, 'x{0}-{1}_y{2}-{3}_f{4}-{5}'.format(\n",
    "        row.x_min,row.x_max,\n",
    "        row.y_min,row.y_max,\n",
    "        row.f_min,row.f_max,\n",
    "    ))\n",
    "    print(dst_dir)\n",
    "    #if os.path.exists(dst_dir) : shutil.rmtree(dst_dir)\n",
    "    if not os.path.exists(dst_dir) : os.makedirs(dst_dir)\n",
    "        \n",
    "    sess = ElecpySession(src_dir+row.sim_id, keys=['vmem', 'cell/ina'])\n",
    "    sess.setRange(\n",
    "        x_min = row.x_min,\n",
    "        x_max = row.x_max,\n",
    "        y_min = row.y_min,\n",
    "        y_max = row.y_max,\n",
    "        f_min = row.f_min,\n",
    "        f_max = row.f_max\n",
    "    )\n",
    "        \n",
    "    ### Sodium current integral ###\n",
    "    \n",
    "    xina = abs(np.sum(sess.data[\"cell/ina\"], axis=0))\n",
    "    plt.clf()\n",
    "    plt.imshow(xina, cmap='gray')\n",
    "    plt.colorbar()\n",
    "    plt.savefig(os.path.join(dst_dir, 'xina.png'))\n",
    "    \n",
    "        \n",
    "    ### Plot multiple status ###\n",
    "    \n",
    "    sess = ElecpySession(src_dir+row.sim_id, keys=['vmem','cell/nai', 'cell/m', 'cell/h', 'cell/j'])\n",
    "    sess.setRange(\n",
    "        x_min = row.x_min,\n",
    "        x_max = row.x_max,\n",
    "        y_min = row.y_min,\n",
    "        y_max = row.y_max,\n",
    "        f_min = row.f_min,\n",
    "        f_max = row.f_max\n",
    "    )\n",
    "    \n",
    "    outdir = os.path.join(dst_dir, 'states')\n",
    "    if not os.path.exists(outdir): os.makedirs(outdir)\n",
    "\n",
    "    h = sess.data['cell/h']\n",
    "    j = sess.data['cell/j']\n",
    "    m = sess.data['cell/m']\n",
    "    vmem = sess.data['vmem']\n",
    "    ena = ( const_d['R_'] * const_d['temp_'] / const_d['frdy_'] ) * np.log(const_d['nao_'] / sess.data['cell/nai'])\n",
    "\n",
    "    p = h*j\n",
    "    q = m**3\n",
    "    r = vmem-ena\n",
    "    s = -p*q*r\n",
    "\n",
    "    for f in range(0, len(vmem), 10):\n",
    "\n",
    "\n",
    "        plt.figure(figsize=(10,10))\n",
    "\n",
    "        plt.subplot(231)\n",
    "        plt.imshow(vmem[f,:,:], cmap='gray', vmax=vmem.max(), vmin=vmem.min())\n",
    "        plt.title('vm')\n",
    "\n",
    "        plt.subplot(232)\n",
    "        plt.imshow(p[f,:,:], cmap='gray', vmax=p.max(), vmin=p.min())\n",
    "        plt.title('hj')\n",
    "\n",
    "        plt.subplot(233)\n",
    "        plt.imshow(q[f,:,:], cmap='gray', vmax=q.max(), vmin=q.min())\n",
    "        plt.title('m^3')\n",
    "\n",
    "        plt.subplot(234)\n",
    "        plt.imshow((p*q)[f,:,:], cmap='gray', vmax=(p*q).max(), vmin=(p*q).min())\n",
    "        plt.title('hjm^3')\n",
    "\n",
    "        plt.subplot(235)\n",
    "        plt.imshow(r[f,:,:], cmap='gray', vmax=r.max(), vmin=r.min())\n",
    "        plt.title('vm-ena')\n",
    "\n",
    "        plt.subplot(236)\n",
    "        plt.imshow(np.sum(s[:f,:,:],axis=0), cmap='gray', vmax=s.max(), vmin=s.min())\n",
    "        plt.title('Ina sum')\n",
    "\n",
    "        plt.suptitle('Frame {0:0>4}'.format(f))\n",
    "\n",
    "        plt.subplots_adjust(left=0.2, wspace=0.8, top=0.8)\n",
    "\n",
    "        #plt.show()\n",
    "        plt.savefig(os.path.join( outdir, '{0:0>4}.png'.format(f) ))\n",
    "        plt.close()"
   ]
  },
  {
   "cell_type": "code",
   "execution_count": null,
   "metadata": {
    "collapsed": true
   },
   "outputs": [],
   "source": []
  }
 ],
 "metadata": {
  "kernelspec": {
   "display_name": "Python 2",
   "language": "python",
   "name": "python2"
  },
  "language_info": {
   "codemirror_mode": {
    "name": "ipython",
    "version": 2
   },
   "file_extension": ".py",
   "mimetype": "text/x-python",
   "name": "python",
   "nbconvert_exporter": "python",
   "pygments_lexer": "ipython2",
   "version": "2.7.13"
  }
 },
 "nbformat": 4,
 "nbformat_minor": 2
}
