{
 "cells": [
  {
   "cell_type": "markdown",
   "metadata": {},
   "source": [
    "# 定数変更"
   ]
  },
  {
   "cell_type": "code",
   "execution_count": 1,
   "metadata": {
    "collapsed": false,
    "scrolled": false
   },
   "outputs": [
    {
     "name": "stdout",
     "output_type": "stream",
     "text": [
      "  'gna_'  : 4         , # Max. Conductance of the Na Channel (mS/uF)\r\n"
     ]
    }
   ],
   "source": [
    "#!sed --help\n",
    "\n",
    "!sed -i s/\"'gna_'  : 16\"/\"'gna_'  : 4\"/ ./elecpy/cell/luorudy/const.py \n",
    "\n",
    "#!cat elecpy/cell/luorudy/const.py \n",
    "!cat elecpy/cell/luorudy/const.py  | grep gna_\n",
    "#!cat elecpy/cell/luorudy/const.py  | grep gkr_\n",
    "#!cat elecpy/cell/luorudy/const.py  | grep gks_"
   ]
  },
  {
   "cell_type": "markdown",
   "metadata": {},
   "source": [
    "# シミュレーション実行"
   ]
  },
  {
   "cell_type": "code",
   "execution_count": 2,
   "metadata": {
    "collapsed": true
   },
   "outputs": [],
   "source": [
    "import copy\n",
    "import time\n",
    "import os, sys\n",
    "import shutil\n",
    "import json\n",
    "import numpy as np\n",
    "\n",
    "import chainer\n",
    "from chainer import cuda\n",
    "\n",
    "from matplotlib import animation, rc\n",
    "import matplotlib.pyplot as plt\n",
    "import matplotlib.patches as patches\n",
    "\n",
    "import elecpy.elecpy as elp\n",
    "from elecpy.util.cmap_bipolar import bipolar\n",
    "from elecpy.elecpySession import ElecpySession\n",
    "\n",
    "from IPython.display import HTML\n",
    "\n",
    "from scipy.signal import argrelmax\n",
    "from numba.decorators import autojit\n",
    "\n",
    "%matplotlib inline\n"
   ]
  },
  {
   "cell_type": "code",
   "execution_count": 3,
   "metadata": {
    "collapsed": true
   },
   "outputs": [],
   "source": [
    "path_org = \"/mnt/recordings/SimulationResult/20180806-3/\"\n",
    "path_dst = \"/mnt/recordings/SimulationResult/20180816-1/\""
   ]
  },
  {
   "cell_type": "code",
   "execution_count": 4,
   "metadata": {
    "collapsed": false
   },
   "outputs": [
    {
     "name": "stdout",
     "output_type": "stream",
     "text": [
      "{\n",
      "    \"cell_type\": \"luorudy\", \n",
      "    \"log\": {\n",
      "        \"path\": \"/mnt/recordings/SimulationResult/20180816-1/\", \n",
      "        \"cnt\": 1000\n",
      "    }, \n",
      "    \"stimulation\": {}, \n",
      "    \"time\": {\n",
      "        \"end\": 200, \n",
      "        \"udt\": 0.001\n",
      "    }, \n",
      "    \"geometory\": {\n",
      "        \"width\": 200, \n",
      "        \"ds\": 0.015, \n",
      "        \"height\": 200\n",
      "    }, \n",
      "    \"restart\": {\n",
      "        \"count\": 2000, \n",
      "        \"source\": \"/mnt/recordings/SimulationResult/20180806-3/\"\n",
      "    }\n",
      "}\n"
     ]
    }
   ],
   "source": [
    "# load sample parameter\n",
    "with open (os.path.join(path_org, 'sim_params.json'),'r') as f:\n",
    "    sim_params = json.load(f)\n",
    "\n",
    "sim_params['restart'] = {}\n",
    "sim_params['restart']['count'] = 2000\n",
    "sim_params['restart']['source'] = path_org\n",
    "    \n",
    "# modify parameters\n",
    "sim_params['time']['end'] = 200\n",
    "sim_params[\"stimulation\"] = {}\n",
    "#sim_params[\"stimulation\"][\"extracellular\"][0][\"start\"] = 0.\n",
    "#sim_params[\"stimulation\"][\"extracellular\"][0][\"duration\"] = 10.\n",
    "\n",
    "sim_params['geometory']['height'] = 200\n",
    "sim_params['geometory']['width'] = 200\n",
    "\n",
    "sim_params['log']['path'] = path_dst\n",
    "sim_params['log']['cnt'] = 1000\n",
    "\n",
    "\n",
    "print json.dumps(sim_params, indent=4)\n"
   ]
  },
  {
   "cell_type": "code",
   "execution_count": 5,
   "metadata": {
    "collapsed": false
   },
   "outputs": [],
   "source": [
    "g = elp.sim_generator(sim_params)"
   ]
  },
  {
   "cell_type": "code",
   "execution_count": 6,
   "metadata": {
    "collapsed": false
   },
   "outputs": [],
   "source": [
    "os.mkdir(sim_params['log']['path'] )"
   ]
  },
  {
   "cell_type": "code",
   "execution_count": 7,
   "metadata": {
    "collapsed": false,
    "scrolled": true
   },
   "outputs": [
    {
     "name": "stdout",
     "output_type": "stream",
     "text": [
      "elecpy simulation start!\n"
     ]
    },
    {
     "name": "stderr",
     "output_type": "stream",
     "text": [
      "/root/.pyenv/versions/anaconda2-4.3.1/lib/python2.7/site-packages/chainer/cuda.py:84: UserWarning: cuDNN is not enabled.\n",
      "Please reinstall CuPy after you install cudnn\n",
      "(see https://docs-cupy.chainer.org/en/stable/install.html#install-cupy-with-cudnn-and-nccl).\n",
      "  'cuDNN is not enabled.\\n'\n"
     ]
    },
    {
     "name": "stdout",
     "output_type": "stream",
     "text": [
      "Stimulation settings ...done\n",
      "Allocating data... ...done\n",
      "Initializing data... ...done\n",
      "Building PDE system ... ...done\n",
      "Main loop start!\n",
      "------------------200.0/200mselecpy done\n"
     ]
    }
   ],
   "source": [
    "with open(os.path.join(path_dst, 'sim_params.json'),'w') as f: json.dump(sim_params, f, indent=4)\n",
    "out = []\n",
    "while True:\n",
    "    img = g.next()\n",
    "    if img is False: break\n",
    "    out.append(np.copy(img))"
   ]
  },
  {
   "cell_type": "code",
   "execution_count": 16,
   "metadata": {
    "collapsed": false
   },
   "outputs": [],
   "source": [
    "import glob\n",
    "import commands\n",
    "def combine_restart( path_org, path_dst, restart=0, verbose=False, safe=False):\n",
    "    keys = ['phie', 'vmem', 'cell']\n",
    "    for key in keys:\n",
    "        \n",
    "        data_dst =sorted(glob.glob(path_dst+key+'_*'))\n",
    "        for i, blob in enumerate(data_dst):\n",
    "            cmd = 'mv {0} {1}'.format( blob, blob+'.org')\n",
    "            #if key != 'cell': cmd+='.npy'\n",
    "            if verbose:\n",
    "                print cmd\n",
    "            if not safe:\n",
    "                commands.getoutput(cmd)\n",
    "\n",
    "        for i, blob in enumerate(data_dst):\n",
    "            cmd = 'cp -r {0} {1}'.format( blob+'.org', path_dst+key+'_{0:0>4}'.format(restart+i))\n",
    "            if key != 'cell': cmd+='.npy'\n",
    "            if verbose:\n",
    "                print cmd\n",
    "            if not safe:\n",
    "                commands.getoutput(cmd)\n",
    "                \n",
    "        for i, blob in enumerate(data_dst):\n",
    "            cmd = 'rm -r {0}'.format( blob+'.org')\n",
    "            if verbose:\n",
    "                print cmd\n",
    "            if not safe:\n",
    "                commands.getoutput(cmd)\n",
    "        \n",
    "        data_org = sorted(glob.glob(path_org+key+'_*'))\n",
    "        for i, blob in enumerate(data_org):\n",
    "            if i <= restart:\n",
    "                cmd = 'cp -r {0} {1}'.format( blob, path_dst )\n",
    "                if verbose:\n",
    "                    print cmd\n",
    "                if not safe:\n",
    "                    commands.getoutput(cmd)\n",
    "        \n"
   ]
  },
  {
   "cell_type": "code",
   "execution_count": 18,
   "metadata": {
    "collapsed": false
   },
   "outputs": [],
   "source": [
    "combine_restart(path_org, path_dst, restart=sim_params['restart']['count'])#, verbose=True, safe=True)"
   ]
  }
 ],
 "metadata": {
  "kernelspec": {
   "display_name": "Python 2",
   "language": "python",
   "name": "python2"
  },
  "language_info": {
   "codemirror_mode": {
    "name": "ipython",
    "version": 2
   },
   "file_extension": ".py",
   "mimetype": "text/x-python",
   "name": "python",
   "nbconvert_exporter": "python",
   "pygments_lexer": "ipython2",
   "version": "2.7.15"
  }
 },
 "nbformat": 4,
 "nbformat_minor": 2
}
