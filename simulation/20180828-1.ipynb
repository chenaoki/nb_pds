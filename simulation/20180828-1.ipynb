{
 "cells": [
  {
   "cell_type": "code",
   "execution_count": 1,
   "metadata": {
    "collapsed": true
   },
   "outputs": [],
   "source": [
    "#!sed --help\n",
    "\n",
    "!sed -i s/\"*1.4\"/\"*1.25\"/ ./elecpy/cell/mahajan/kernel.c\n",
    "!sed -i s/\"\\/1.4\"/\"\\/1.25\"/ ./elecpy/cell/mahajan/kernel.c\n"
   ]
  },
  {
   "cell_type": "code",
   "execution_count": 2,
   "metadata": {
    "collapsed": true
   },
   "outputs": [],
   "source": [
    "!cp elecpy_inactive_area.py elecpy/elecpy.py"
   ]
  },
  {
   "cell_type": "code",
   "execution_count": 3,
   "metadata": {
    "collapsed": false,
    "scrolled": true
   },
   "outputs": [
    {
     "name": "stdout",
     "output_type": "stream",
     "text": [
      "  'gna_'         : 12.0              , #\n",
      "  'gkr_'         : 0.0125            , #\n",
      "  'gks_'         : 0.1386            , #\n",
      "double _gtos = {gtos_} * pow({Q10TO_}, (temp-{temp_})/10.0)*1.25;\n",
      "double _gtof = {gtof_} * pow({Q10TO_}, (temp-{temp_})/10.0)*1.25;\n",
      "double _gca = {gca_} * pow({Q10CAL_}, (temp-{temp_})/10.0)/1.25;\n",
      "double _dh = (_ah*(1.00000-h) - _bh*h)*1.25;\n",
      "double _dj = (_aj*(1.00000-j) - _bj*j)*1.25;\n"
     ]
    }
   ],
   "source": [
    "!cat elecpy/cell/mahajan/const.py  | grep gna_\n",
    "!cat elecpy/cell/mahajan/const.py  | grep gkr_\n",
    "!cat elecpy/cell/mahajan/const.py  | grep gks_\n",
    "\n",
    "!cat elecpy/cell/mahajan/kernel.c | grep \"double _gtos\"\n",
    "!cat elecpy/cell/mahajan/kernel.c | grep \"double _gtof\"\n",
    "!cat elecpy/cell/mahajan/kernel.c | grep \"double _gca\"\n",
    "!cat elecpy/cell/mahajan/kernel.c | grep \"double _dh =\"\n",
    "!cat elecpy/cell/mahajan/kernel.c | grep \"double _dj =\"\n"
   ]
  },
  {
   "cell_type": "code",
   "execution_count": 4,
   "metadata": {
    "collapsed": true
   },
   "outputs": [],
   "source": [
    "import copy\n",
    "import time\n",
    "import os, sys\n",
    "import shutil\n",
    "import json\n",
    "import numpy as np\n",
    "\n",
    "import chainer\n",
    "from chainer import cuda\n",
    "\n",
    "from matplotlib import animation, rc\n",
    "import matplotlib.pyplot as plt\n",
    "import matplotlib.patches as patches\n",
    "\n",
    "import elecpy.elecpy as elp\n",
    "from elecpy.util.cmap_bipolar import bipolar\n",
    "from elecpy.elecpySession import ElecpySession\n",
    "\n",
    "from IPython.display import HTML\n",
    "\n",
    "from opmap.videoData import VideoData\n",
    "from opmap.vmemMap import VmemMap\n",
    "from opmap.phaseMap import PhaseMap\n",
    "from opmap.phaseVarianceMap import PhaseVarianceMap\n",
    "\n",
    "from scipy.signal import argrelmax\n",
    "from numba.decorators import autojit\n",
    "\n",
    "%matplotlib inline\n"
   ]
  },
  {
   "cell_type": "markdown",
   "metadata": {},
   "source": [
    "# シミュレーション実行"
   ]
  },
  {
   "cell_type": "code",
   "execution_count": 5,
   "metadata": {
    "collapsed": false
   },
   "outputs": [
    {
     "name": "stdout",
     "output_type": "stream",
     "text": [
      "{\n",
      "    \"cell_type\": \"mahajan\", \n",
      "    \"log\": {\n",
      "        \"path\": \"/mnt/recordings/SimulationResult/20180828-1\", \n",
      "        \"cnt\": 1000\n",
      "    }, \n",
      "    \"stimulation\": {}, \n",
      "    \"time\": {\n",
      "        \"end\": 2000, \n",
      "        \"udt\": 0.001\n",
      "    }, \n",
      "    \"geometory\": {\n",
      "        \"width\": 200, \n",
      "        \"ds\": 0.015, \n",
      "        \"height\": 200\n",
      "    }, \n",
      "    \"restart\": {\n",
      "        \"count\": 200, \n",
      "        \"source\": \"/mnt/recordings/SimulationResult/20180823-4/\"\n",
      "    }\n",
      "}\n"
     ]
    }
   ],
   "source": [
    "# load sample parameter\n",
    "with open ('sim_params_org.json','r') as f:\n",
    "    sim_params = json.load(f)\n",
    "\n",
    "# modify parameters\n",
    "sim_params['time']['end'] = 2000\n",
    "sim_params[\"stimulation\"] = {}\n",
    "sim_params['log']['path'] = '/mnt/recordings/SimulationResult/20180828-1'\n",
    "\n",
    "sim_params['geometory']['height'] = 200\n",
    "sim_params['geometory']['width'] = 200\n",
    "\n",
    "sim_params['restart'] = {}\n",
    "sim_params['restart']['count'] = 200\n",
    "sim_params['restart']['source'] = \"/mnt/recordings/SimulationResult/20180823-4/\"\n",
    "\n",
    "print json.dumps(sim_params, indent=4)"
   ]
  },
  {
   "cell_type": "code",
   "execution_count": 6,
   "metadata": {
    "collapsed": false
   },
   "outputs": [
    {
     "name": "stdout",
     "output_type": "stream",
     "text": [
      "elecpy simulation start!\n"
     ]
    },
    {
     "name": "stderr",
     "output_type": "stream",
     "text": [
      "/root/.pyenv/versions/anaconda2-4.3.1/lib/python2.7/site-packages/chainer/cuda.py:84: UserWarning: cuDNN is not enabled.\n",
      "Please reinstall CuPy after you install cudnn\n",
      "(see https://docs-cupy.chainer.org/en/stable/install.html#install-cupy-with-cudnn-and-nccl).\n",
      "  'cuDNN is not enabled.\\n'\n"
     ]
    },
    {
     "name": "stdout",
     "output_type": "stream",
     "text": [
      "Stimulation settings ...done\n",
      "Allocating data... ...done\n",
      "Initializing data... ...done\n",
      "Building PDE system ... ...done\n",
      "Main loop start!\n",
      "------------------2000.0/2000mselecpy done\n"
     ]
    }
   ],
   "source": [
    "g = elp.sim_generator(sim_params)\n",
    "\n",
    "path_dst = sim_params[\"log\"][\"path\"]\n",
    "if not os.path.exists( path_dst ): os.mkdir( path_dst )\n",
    "with open(os.path.join(path_dst, 'sim_params.json'),'w') as f: json.dump(sim_params, f, indent=4)\n",
    "\n",
    "out = []\n",
    "while True:\n",
    "    img = g.next()\n",
    "    if img is False: break\n",
    "    out.append(np.copy(img))"
   ]
  }
 ],
 "metadata": {
  "kernelspec": {
   "display_name": "Python 2",
   "language": "python",
   "name": "python2"
  },
  "language_info": {
   "codemirror_mode": {
    "name": "ipython",
    "version": 2
   },
   "file_extension": ".py",
   "mimetype": "text/x-python",
   "name": "python",
   "nbconvert_exporter": "python",
   "pygments_lexer": "ipython2",
   "version": "2.7.13"
  }
 },
 "nbformat": 4,
 "nbformat_minor": 2
}
