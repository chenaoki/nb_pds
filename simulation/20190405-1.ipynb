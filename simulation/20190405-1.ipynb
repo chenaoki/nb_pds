{
 "cells": [
  {
   "cell_type": "code",
   "execution_count": 1,
   "metadata": {
    "collapsed": true
   },
   "outputs": [],
   "source": [
    "import glob\n",
    "import matplotlib.pyplot as plt\n",
    "from elecpy.elecpySession import ElecpySession\n",
    "import pandas as pd\n",
    "import copy\n",
    "import time\n",
    "import os, sys\n",
    "import shutil\n",
    "import json\n",
    "import numpy as np\n",
    "\n",
    "import chainer\n",
    "from chainer import cuda\n",
    "\n",
    "from matplotlib import animation, rc\n",
    "import matplotlib.pyplot as plt\n",
    "import matplotlib.patches as patches\n",
    "\n",
    "import elecpy.elecpy as elp\n",
    "from elecpy.util.cmap_bipolar import bipolar\n",
    "from elecpy.elecpySession import ElecpySession\n",
    "\n",
    "from IPython.display import HTML\n",
    "\n",
    "from opmap.videoData import VideoData\n",
    "from opmap.vmemMap import VmemMap\n",
    "from opmap.phaseMap import PhaseMap\n",
    "from opmap.phaseVarianceMap import PhaseVarianceMap\n",
    "\n",
    "from scipy.signal import argrelmax\n",
    "from numba.decorators import autojit\n",
    "\n",
    "%matplotlib inline\n"
   ]
  },
  {
   "cell_type": "code",
   "execution_count": 2,
   "metadata": {
    "collapsed": false
   },
   "outputs": [
    {
     "name": "stdout",
     "output_type": "stream",
     "text": [
      "/mnt/Omer/Project/01.PhaseDiscontinuity/AnalysisResults/2019-04-05/\n"
     ]
    }
   ],
   "source": [
    "src_dir = '/mnt/Omer/Project/01.PhaseDiscontinuity/SimulationResults/'\n",
    "save_dir = '/mnt/Omer/Project/01.PhaseDiscontinuity/AnalysisResults/2019-04-05/'\n",
    "print(save_dir)\n",
    "if not os.path.exists(save_dir) : os.mkdir(save_dir)"
   ]
  },
  {
   "cell_type": "code",
   "execution_count": 3,
   "metadata": {
    "collapsed": false
   },
   "outputs": [
    {
     "data": {
      "text/html": [
       "<div>\n",
       "<table border=\"1\" class=\"dataframe\">\n",
       "  <thead>\n",
       "    <tr style=\"text-align: right;\">\n",
       "      <th></th>\n",
       "      <th>case_id</th>\n",
       "      <th>session_id</th>\n",
       "      <th>setting</th>\n",
       "      <th>simu_id</th>\n",
       "    </tr>\n",
       "  </thead>\n",
       "  <tbody>\n",
       "    <tr>\n",
       "      <th>0</th>\n",
       "      <td>Mahajan</td>\n",
       "      <td>20190331-1</td>\n",
       "      <td>original</td>\n",
       "      <td>None</td>\n",
       "    </tr>\n",
       "    <tr>\n",
       "      <th>1</th>\n",
       "      <td>A</td>\n",
       "      <td>20190331-2</td>\n",
       "      <td>(1)</td>\n",
       "      <td>20190226-3</td>\n",
       "    </tr>\n",
       "    <tr>\n",
       "      <th>2</th>\n",
       "      <td>B</td>\n",
       "      <td>20190331-3</td>\n",
       "      <td>(2)</td>\n",
       "      <td>20180616-1</td>\n",
       "    </tr>\n",
       "    <tr>\n",
       "      <th>3</th>\n",
       "      <td>C, D</td>\n",
       "      <td>20190331-4</td>\n",
       "      <td>(3)</td>\n",
       "      <td>20180625-1</td>\n",
       "    </tr>\n",
       "  </tbody>\n",
       "</table>\n",
       "</div>"
      ],
      "text/plain": [
       "   case_id  session_id   setting     simu_id\n",
       "0  Mahajan  20190331-1  original        None\n",
       "1        A  20190331-2       (1)  20190226-3\n",
       "2        B  20190331-3       (2)  20180616-1\n",
       "3     C, D  20190331-4       (3)  20180625-1"
      ]
     },
     "execution_count": 3,
     "metadata": {},
     "output_type": "execute_result"
    }
   ],
   "source": [
    "df = pd.DataFrame( {\n",
    "    'setting' : ['original', '(1)', '(2)', '(3)'] ,\n",
    "    'session_id' : ['20190331-1','20190331-2','20190331-3','20190331-4'],\n",
    "    'case_id' : ['Mahajan', 'A', 'B', 'C, D'],\n",
    "    'simu_id' : [None, '20190226-3', '20180616-1', '20180625-1']\n",
    "    \n",
    "})\n",
    "df"
   ]
  },
  {
   "cell_type": "markdown",
   "metadata": {},
   "source": [
    "## Mahajan"
   ]
  },
  {
   "cell_type": "code",
   "execution_count": 4,
   "metadata": {
    "collapsed": false
   },
   "outputs": [
    {
     "name": "stdout",
     "output_type": "stream",
     "text": [
      "double _gca = {gca_} * pow({Q10CAL_}, (temp-{temp_})/10.0)/1.4;\n",
      "double _gtof = {gtof_} * pow({Q10TO_}, (temp-{temp_})/10.0)*1.4;\n",
      "double _gtos = {gtos_} * pow({Q10TO_}, (temp-{temp_})/10.0)*1.4;\n",
      "double _dh = (_ah*(1.00000-h) - _bh*h)*1.4;\n",
      "_h = h + _dh * dt;\n",
      "double _dj = (_aj*(1.00000-j) - _bj*j)*1.4;\n",
      "_j = j + _dj * dt;\n",
      "  'gna_'         : 12.0              , #\n",
      "  'gkr_'         : 0.0125            , #\n",
      "  'gks_'         : 0.1386            , #\n"
     ]
    }
   ],
   "source": [
    "!cat ./elecpy/cell/mahajan/kernel.c | grep gca_\n",
    "!cat ./elecpy/cell/mahajan/kernel.c | grep gtof_\n",
    "!cat ./elecpy/cell/mahajan/kernel.c | grep gtos_\n",
    "!cat ./elecpy/cell/mahajan/kernel.c | grep \" _dh \"\n",
    "!cat ./elecpy/cell/mahajan/kernel.c | grep \" _dj \"\n",
    "\n",
    "!cat ./elecpy/cell/mahajan/const.py | grep gna_\n",
    "!cat ./elecpy/cell/mahajan/const.py | grep gkr_\n",
    "!cat ./elecpy/cell/mahajan/const.py | grep gks_"
   ]
  },
  {
   "cell_type": "markdown",
   "metadata": {},
   "source": [
    "# シミュレーション実行"
   ]
  },
  {
   "cell_type": "code",
   "execution_count": 5,
   "metadata": {
    "collapsed": false
   },
   "outputs": [
    {
     "name": "stdout",
     "output_type": "stream",
     "text": [
      "{\n",
      "    \"cell_type\": \"mahajan\", \n",
      "    \"log\": {\n",
      "        \"path\": \"/mnt/Omer/Project/01.PhaseDiscontinuity/SimulationResults/20190405-1/\", \n",
      "        \"cnt\": 1000\n",
      "    }, \n",
      "    \"stimulation\": {\n",
      "        \"extracellular\": [\n",
      "            {\n",
      "                \"start\": 10.0, \n",
      "                \"shape\": [\n",
      "                    200, \n",
      "                    200\n",
      "                ], \n",
      "                \"train\": 1, \n",
      "                \"name\": \"edge_L\", \n",
      "                \"amplitude\": -150.0, \n",
      "                \"duration\": 20.0, \n",
      "                \"interval\": 200.0, \n",
      "                \"size\": 10\n",
      "            }\n",
      "        ], \n",
      "        \"membrane\": []\n",
      "    }, \n",
      "    \"time\": {\n",
      "        \"end\": 200, \n",
      "        \"udt\": 0.001\n",
      "    }, \n",
      "    \"geometory\": {\n",
      "        \"width\": 200, \n",
      "        \"ds\": 0.015, \n",
      "        \"height\": 200\n",
      "    }\n",
      "}\n"
     ]
    }
   ],
   "source": [
    "# load sample parameter\n",
    "with open ('sim_params_org.json','r') as f:\n",
    "    sim_params = json.load(f)\n",
    "\n",
    "# modify parameters\n",
    "sim_params['time']['end'] = 200\n",
    "sim_params[\"stimulation\"] = {\n",
    "    \"extracellular\": [\n",
    "        {\n",
    "            \"start\": 10.0, \n",
    "            \"shape\": [\n",
    "                200, \n",
    "                200\n",
    "            ], \n",
    "            \"train\": 1, \n",
    "            \"name\": \"edge_L\", \n",
    "            \"amplitude\": -150.0, \n",
    "            \"duration\": 20.0, \n",
    "            \"interval\": 200.0, \n",
    "            \"size\": 10\n",
    "        }\n",
    "    ], \n",
    "    \"membrane\": []\n",
    "}\n",
    "sim_params['log']['path'] = '/mnt/Omer/Project/01.PhaseDiscontinuity/SimulationResults/20190405-1/'\n",
    "\n",
    "sim_params['geometory']['height'] = 200\n",
    "sim_params['geometory']['width'] = 200\n",
    "\n",
    "del(sim_params[\"restart\"])\n",
    "\n",
    "#sim_params['restart'] = {}\n",
    "#sim_params['restart']['count'] = 0\n",
    "#sim_params['restart']['source'] = \"/mnt/recordings/SimulationResult/20171128-1/\"\n",
    "#sim_params['restart']['source'] = \"/mnt/Omer/Project/01.PhaseDiscontinuity/SimulationResults/20171128-1/\"\n",
    "\n",
    "print json.dumps(sim_params, indent=4)"
   ]
  },
  {
   "cell_type": "code",
   "execution_count": null,
   "metadata": {
    "collapsed": false,
    "scrolled": true
   },
   "outputs": [
    {
     "name": "stdout",
     "output_type": "stream",
     "text": [
      "elecpy simulation start!\n",
      "Stimulation settings ...done\n",
      "Allocating data... ...done\n",
      "Initializing data... ...done\n",
      "Building PDE system ... ...done\n",
      "Main loop start!\n",
      "------------------0.0/200ms"
     ]
    }
   ],
   "source": [
    "g = elp.sim_generator(sim_params)\n",
    "\n",
    "path_dst = sim_params[\"log\"][\"path\"]\n",
    "if not os.path.exists( path_dst ): os.mkdir( path_dst )\n",
    "with open(os.path.join(path_dst, 'sim_params.json'),'w') as f: json.dump(sim_params, f, indent=4)\n",
    "\n",
    "out = []\n",
    "while True:\n",
    "    img = g.next()\n",
    "    if img is False: break\n",
    "    out.append(np.copy(img))"
   ]
  },
  {
   "cell_type": "code",
   "execution_count": null,
   "metadata": {
    "collapsed": false
   },
   "outputs": [],
   "source": [
    "fig = plt.figure()\n",
    "plt.axis('off')\n",
    "\n",
    "ims = []\n",
    "for img in out:\n",
    "    im = plt.imshow(\n",
    "        img.reshape(200,200),\n",
    "        vmin = -100.0, vmax = 20.0,\n",
    "        cmap=bipolar(neutral=0, lutsize=1024),\n",
    "        interpolation='nearest')\n",
    "    ims.append([im])\n",
    "\n",
    "ani = animation.ArtistAnimation(fig, ims)\n",
    "#ani.save('anim.gif', writer=\"imagemagick\")\n",
    "#ani.save('anim.mp4', writer=\"ffmpeg\")\n",
    "#plt.show()\n",
    "\n",
    "HTML(ani.to_html5_video())"
   ]
  }
 ],
 "metadata": {
  "kernelspec": {
   "display_name": "Python 2",
   "language": "python",
   "name": "python2"
  },
  "language_info": {
   "codemirror_mode": {
    "name": "ipython",
    "version": 2
   },
   "file_extension": ".py",
   "mimetype": "text/x-python",
   "name": "python",
   "nbconvert_exporter": "python",
   "pygments_lexer": "ipython2",
   "version": "2.7.15"
  }
 },
 "nbformat": 4,
 "nbformat_minor": 2
}
