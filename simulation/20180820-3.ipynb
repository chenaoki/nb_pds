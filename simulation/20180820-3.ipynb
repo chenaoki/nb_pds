{
 "cells": [
  {
   "cell_type": "markdown",
   "metadata": {},
   "source": [
    "# 定数変更"
   ]
  },
  {
   "cell_type": "code",
   "execution_count": 1,
   "metadata": {
    "collapsed": false,
    "scrolled": false
   },
   "outputs": [
    {
     "name": "stdout",
     "output_type": "stream",
     "text": [
      "  'gna_'  : 12         , # Max. Conductance of the Na Channel (mS/uF)\n",
      "  'gacai_' : 0.01/1.2      , # Activity coefficient of Ca\n",
      "  'gacao_' : 0.341/1.2     , # Activity coefficient of Ca\n",
      "_m = _mss - (_mss-m)*exp(-1.2*dt/_mtau);\n",
      "_h = _hss - (_hss-h)*exp(-1.2*dt/_htau);\n"
     ]
    }
   ],
   "source": [
    "#!sed --help\n",
    "\n",
    "!sed -i s/\"'gna_'  : 16\"/\"'gna_'  : 12\"/ ./elecpy/cell/luorudy/const.py \n",
    "!sed -i s/\"'gacai_' : 0.01\"/\"'gacai_' : 0.01\\/1.2\"/ ./elecpy/cell/luorudy/const.py \n",
    "!sed -i s/\"'gacao_' : 0.341\"/\"'gacao_' : 0.341\\/1.2\"/ ./elecpy/cell/luorudy/const.py \n",
    "\n",
    "!sed -i s/\"(-dt\\/_mtau)\"/\"(-1.2*dt\\/_mtau)\"/ ./elecpy/cell/luorudy/kernel.c\n",
    "!sed -i s/\"(-dt\\/_htau)\"/\"(-1.2*dt\\/_htau)\"/ ./elecpy/cell/luorudy/kernel.c\n",
    "\n",
    "\n",
    "#!cat elecpy/cell/luorudy/const.py \n",
    "!cat elecpy/cell/luorudy/const.py  | grep gna_\n",
    "\n",
    "!cat elecpy/cell/luorudy/const.py  | grep gacai_\n",
    "!cat elecpy/cell/luorudy/const.py  | grep gacao_\n",
    "\n",
    "!cat elecpy/cell/luorudy/kernel.c | grep \"dt/_mtau\"\n",
    "!cat elecpy/cell/luorudy/kernel.c | grep \"dt/_htau\"\n",
    "\n",
    "#!cat elecpy/cell/luorudy/const.py  | grep gkr_\n",
    "#!cat elecpy/cell/luorudy/const.py  | grep gks_"
   ]
  },
  {
   "cell_type": "markdown",
   "metadata": {},
   "source": [
    "# シミュレーション実行"
   ]
  },
  {
   "cell_type": "code",
   "execution_count": 2,
   "metadata": {
    "collapsed": true
   },
   "outputs": [],
   "source": [
    "import copy\n",
    "import time\n",
    "import os, sys\n",
    "import shutil\n",
    "import json\n",
    "import numpy as np\n",
    "\n",
    "import chainer\n",
    "from chainer import cuda\n",
    "\n",
    "from matplotlib import animation, rc\n",
    "import matplotlib.pyplot as plt\n",
    "import matplotlib.patches as patches\n",
    "\n",
    "import elecpy.elecpy as elp\n",
    "from elecpy.util.cmap_bipolar import bipolar\n",
    "from elecpy.elecpySession import ElecpySession\n",
    "\n",
    "from IPython.display import HTML\n",
    "\n",
    "from scipy.signal import argrelmax\n",
    "from numba.decorators import autojit\n",
    "\n",
    "%matplotlib inline\n"
   ]
  },
  {
   "cell_type": "code",
   "execution_count": 3,
   "metadata": {
    "collapsed": true
   },
   "outputs": [],
   "source": [
    "path_org = \"/mnt/recordings/SimulationResult/20180816-1/\"\n",
    "#path_dst = \"/mnt/recordings/SimulationResult/20180816-6/\"\n",
    "path_dst = \"/mnt/recordings/SimulationResult/20180820-3/\""
   ]
  },
  {
   "cell_type": "code",
   "execution_count": 4,
   "metadata": {
    "collapsed": false
   },
   "outputs": [
    {
     "name": "stdout",
     "output_type": "stream",
     "text": [
      "{\n",
      "    \"cell_type\": \"luorudy\", \n",
      "    \"log\": {\n",
      "        \"path\": \"/mnt/recordings/SimulationResult/20180820-3/\", \n",
      "        \"cnt\": 100\n",
      "    }, \n",
      "    \"stimulation\": {}, \n",
      "    \"time\": {\n",
      "        \"end\": 350, \n",
      "        \"udt\": 0.001\n",
      "    }, \n",
      "    \"geometory\": {\n",
      "        \"width\": 200, \n",
      "        \"ds\": 0.015, \n",
      "        \"height\": 200\n",
      "    }, \n",
      "    \"restart\": {\n",
      "        \"count\": 2200, \n",
      "        \"source\": \"/mnt/recordings/SimulationResult/20180816-1/\"\n",
      "    }\n",
      "}\n"
     ]
    }
   ],
   "source": [
    "# load sample parameter\n",
    "with open (os.path.join(path_org, 'sim_params.json'),'r') as f:\n",
    "    sim_params = json.load(f)\n",
    "\n",
    "sim_params['restart'] = {}\n",
    "sim_params['restart']['count'] = 2200\n",
    "sim_params['restart']['source'] = path_org\n",
    "    \n",
    "# modify parameters\n",
    "sim_params['time']['end'] = 350\n",
    "\n",
    "sim_params[\"stimulation\"] = {}\n",
    "#sim_params[\"stimulation\"][\"extracellular\"][0][\"start\"] = 0.\n",
    "#sim_params[\"stimulation\"][\"extracellular\"][0][\"duration\"] = 10.\n",
    "\n",
    "sim_params['geometory']['height'] = 200\n",
    "sim_params['geometory']['width'] = 200\n",
    "\n",
    "sim_params['log']['path'] = path_dst\n",
    "sim_params['log']['cnt'] = 100\n",
    "\n",
    "\n",
    "print json.dumps(sim_params, indent=4)\n"
   ]
  },
  {
   "cell_type": "code",
   "execution_count": 7,
   "metadata": {
    "collapsed": false
   },
   "outputs": [
    {
     "name": "stdout",
     "output_type": "stream",
     "text": [
      "elecpy simulation start!\n"
     ]
    },
    {
     "name": "stderr",
     "output_type": "stream",
     "text": [
      "/root/.pyenv/versions/anaconda2-4.3.1/lib/python2.7/site-packages/chainer/cuda.py:84: UserWarning: cuDNN is not enabled.\n",
      "Please reinstall CuPy after you install cudnn\n",
      "(see https://docs-cupy.chainer.org/en/stable/install.html#install-cupy-with-cudnn-and-nccl).\n",
      "  'cuDNN is not enabled.\\n'\n"
     ]
    },
    {
     "name": "stdout",
     "output_type": "stream",
     "text": [
      "Stimulation settings ...done\n",
      "Allocating data... ...done\n",
      "Initializing data... ...done\n",
      "Building PDE system ... ...done\n",
      "Main loop start!\n",
      "------------------350.0/350msmselecpy done\n"
     ]
    }
   ],
   "source": [
    "g = elp.sim_generator(sim_params)\n",
    "\n",
    "if not os.path.exists(sim_params['log']['path']): os.mkdir(sim_params['log']['path'] )\n",
    "\n",
    "with open(os.path.join(path_dst, 'sim_params.json'),'w') as f: json.dump(sim_params, f, indent=4)\n",
    "out = []\n",
    "while True:\n",
    "    img = g.next()\n",
    "    if img is False: break\n",
    "    out.append(np.copy(img))"
   ]
  },
  {
   "cell_type": "code",
   "execution_count": null,
   "metadata": {
    "collapsed": true
   },
   "outputs": [],
   "source": []
  }
 ],
 "metadata": {
  "kernelspec": {
   "display_name": "Python 2",
   "language": "python",
   "name": "python2"
  },
  "language_info": {
   "codemirror_mode": {
    "name": "ipython",
    "version": 2
   },
   "file_extension": ".py",
   "mimetype": "text/x-python",
   "name": "python",
   "nbconvert_exporter": "python",
   "pygments_lexer": "ipython2",
   "version": "2.7.13"
  }
 },
 "nbformat": 4,
 "nbformat_minor": 2
}
