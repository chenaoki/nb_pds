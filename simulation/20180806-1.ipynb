{
 "cells": [
  {
   "cell_type": "markdown",
   "metadata": {},
   "source": [
    "# 定数確認"
   ]
  },
  {
   "cell_type": "code",
   "execution_count": 1,
   "metadata": {
    "collapsed": false,
    "scrolled": false
   },
   "outputs": [
    {
     "name": "stdout",
     "output_type": "stream",
     "text": [
      "  'gna_'  : 16         , # Max. Conductance of the Na Channel (mS/uF)\n",
      "  'gkr_'   : 0.031368*sqrt(4.5/5.4), #0.031368*sqrt(ko_/5.4),\n",
      "  'gks_'   : 0.3031,\n"
     ]
    }
   ],
   "source": [
    "#!sed --help\n",
    "!cat elecpy/cell/luorudy/const.py  | grep gna_\n",
    "!cat elecpy/cell/luorudy/const.py  | grep gkr_\n",
    "!cat elecpy/cell/luorudy/const.py  | grep gks_"
   ]
  },
  {
   "cell_type": "markdown",
   "metadata": {},
   "source": [
    "# シミュレーション実行"
   ]
  },
  {
   "cell_type": "code",
   "execution_count": 2,
   "metadata": {
    "collapsed": true
   },
   "outputs": [],
   "source": [
    "import copy\n",
    "import time\n",
    "import os, sys\n",
    "import shutil\n",
    "import json\n",
    "import numpy as np\n",
    "\n",
    "import chainer\n",
    "from chainer import cuda\n",
    "\n",
    "from matplotlib import animation, rc\n",
    "import matplotlib.pyplot as plt\n",
    "import matplotlib.patches as patches\n",
    "\n",
    "import elecpy.elecpy as elp\n",
    "from elecpy.util.cmap_bipolar import bipolar\n",
    "from elecpy.elecpySession import ElecpySession\n",
    "\n",
    "from IPython.display import HTML\n",
    "\n",
    "from scipy.signal import argrelmax\n",
    "from numba.decorators import autojit\n",
    "\n",
    "%matplotlib inline\n"
   ]
  },
  {
   "cell_type": "code",
   "execution_count": 3,
   "metadata": {
    "collapsed": true
   },
   "outputs": [],
   "source": [
    "path_org = \"/mnt/recordings/SimulationResult/20180718-2/\"\n",
    "path_dst = \"/mnt/recordings/SimulationResult/20180806-1/\""
   ]
  },
  {
   "cell_type": "code",
   "execution_count": 11,
   "metadata": {
    "collapsed": false
   },
   "outputs": [
    {
     "name": "stdout",
     "output_type": "stream",
     "text": [
      "{\n",
      "    \"cell_type\": \"luorudy\", \n",
      "    \"log\": {\n",
      "        \"path\": \"/mnt/recordings/SimulationResult/20180806-1\", \n",
      "        \"cnt\": 1000\n",
      "    }, \n",
      "    \"stimulation\": {}, \n",
      "    \"time\": {\n",
      "        \"end\": 410, \n",
      "        \"udt\": 0.001\n",
      "    }, \n",
      "    \"geometory\": {\n",
      "        \"width\": 200, \n",
      "        \"ds\": 0.015, \n",
      "        \"height\": 200\n",
      "    }, \n",
      "    \"restart\": {\n",
      "        \"count\": 1000, \n",
      "        \"source\": \"/mnt/recordings/SimulationResult/20180718-2/\"\n",
      "    }\n",
      "}\n"
     ]
    }
   ],
   "source": [
    "# load sample parameter\n",
    "with open (os.path.join(path_org, 'sim_params.json'),'r') as f:\n",
    "    sim_params = json.load(f)\n",
    "\n",
    "sim_params['restart'] = {}\n",
    "sim_params['restart']['count'] = 1000\n",
    "sim_params['restart']['source'] = path_org\n",
    "    \n",
    "# modify parameters\n",
    "sim_params['time']['end'] = 410\n",
    "sim_params[\"stimulation\"] = {}\n",
    "#sim_params[\"stimulation\"][\"extracellular\"][0][\"start\"] = 0.\n",
    "#sim_params[\"stimulation\"][\"extracellular\"][0][\"duration\"] = 10.\n",
    "\n",
    "sim_params['geometory']['height'] = 200\n",
    "sim_params['geometory']['width'] = 200\n",
    "\n",
    "sim_params['log']['path'] = '/mnt/recordings/SimulationResult/20180806-1'\n",
    "\n",
    "\n",
    "sim_params['log']['cnt'] = 1000\n",
    "\n",
    "\n",
    "print json.dumps(sim_params, indent=4)"
   ]
  },
  {
   "cell_type": "code",
   "execution_count": 12,
   "metadata": {
    "collapsed": false
   },
   "outputs": [],
   "source": [
    "g = elp.sim_generator(sim_params)"
   ]
  },
  {
   "cell_type": "code",
   "execution_count": 9,
   "metadata": {
    "collapsed": false
   },
   "outputs": [],
   "source": [
    "os.mkdir(sim_params['log']['path'] )"
   ]
  },
  {
   "cell_type": "code",
   "execution_count": 14,
   "metadata": {
    "collapsed": false,
    "scrolled": true
   },
   "outputs": [
    {
     "name": "stdout",
     "output_type": "stream",
     "text": [
      "elecpy simulation start!\n",
      "Stimulation settings ...done\n",
      "Allocating data... ...done\n",
      "Initializing data... ...done\n",
      "Building PDE system ... ...done\n",
      "Main loop start!\n",
      "------------------410.0/410mselecpy done\n"
     ]
    }
   ],
   "source": [
    "out = []\n",
    "while True:\n",
    "    img = g.next()\n",
    "    if img is False: break\n",
    "    out.append(np.copy(img))"
   ]
  }
 ],
 "metadata": {
  "kernelspec": {
   "display_name": "Python 2",
   "language": "python",
   "name": "python2"
  },
  "language_info": {
   "codemirror_mode": {
    "name": "ipython",
    "version": 2
   },
   "file_extension": ".py",
   "mimetype": "text/x-python",
   "name": "python",
   "nbconvert_exporter": "python",
   "pygments_lexer": "ipython2",
   "version": "2.7.13"
  }
 },
 "nbformat": 4,
 "nbformat_minor": 2
}
