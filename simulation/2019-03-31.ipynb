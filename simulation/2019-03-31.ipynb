{
 "cells": [
  {
   "cell_type": "code",
   "execution_count": 1,
   "metadata": {
    "collapsed": false
   },
   "outputs": [],
   "source": [
    "import glob"
   ]
  },
  {
   "cell_type": "code",
   "execution_count": 2,
   "metadata": {
    "collapsed": true
   },
   "outputs": [],
   "source": [
    "import numpy as np\n",
    "import os\n",
    "import matplotlib.pyplot as plt\n",
    "from elecpy.elecpySession import ElecpySession\n",
    "import pandas as pd\n",
    "\n",
    "%matplotlib inline"
   ]
  },
  {
   "cell_type": "code",
   "execution_count": 3,
   "metadata": {
    "collapsed": false
   },
   "outputs": [
    {
     "name": "stdout",
     "output_type": "stream",
     "text": [
      "/mnt/Omer/Project/01.PhaseDiscontinuity/AnalysisResults/2019-03-31/\n"
     ]
    }
   ],
   "source": [
    "src_dir = '/mnt/Omer/Project/01.PhaseDiscontinuity/SimulationResults/'\n",
    "save_dir = '/mnt/Omer/Project/01.PhaseDiscontinuity/AnalysisResults/2019-03-31/'\n",
    "print(save_dir)\n",
    "if not os.path.exists(save_dir) : os.mkdir(save_dir)"
   ]
  },
  {
   "cell_type": "code",
   "execution_count": 72,
   "metadata": {
    "collapsed": false
   },
   "outputs": [
    {
     "data": {
      "text/html": [
       "<div>\n",
       "<table border=\"1\" class=\"dataframe\">\n",
       "  <thead>\n",
       "    <tr style=\"text-align: right;\">\n",
       "      <th></th>\n",
       "      <th>case_id</th>\n",
       "      <th>session_id</th>\n",
       "      <th>setting</th>\n",
       "      <th>simu_id</th>\n",
       "    </tr>\n",
       "  </thead>\n",
       "  <tbody>\n",
       "    <tr>\n",
       "      <th>0</th>\n",
       "      <td>Mahajan</td>\n",
       "      <td>20190331-1</td>\n",
       "      <td>original</td>\n",
       "      <td>None</td>\n",
       "    </tr>\n",
       "    <tr>\n",
       "      <th>1</th>\n",
       "      <td>A</td>\n",
       "      <td>20190331-2</td>\n",
       "      <td>(1)</td>\n",
       "      <td>20190226-3</td>\n",
       "    </tr>\n",
       "    <tr>\n",
       "      <th>2</th>\n",
       "      <td>B</td>\n",
       "      <td>20190331-3</td>\n",
       "      <td>(2)</td>\n",
       "      <td>20180616-1</td>\n",
       "    </tr>\n",
       "    <tr>\n",
       "      <th>3</th>\n",
       "      <td>C, D</td>\n",
       "      <td>20190331-4</td>\n",
       "      <td>(3)</td>\n",
       "      <td>20180625-1</td>\n",
       "    </tr>\n",
       "  </tbody>\n",
       "</table>\n",
       "</div>"
      ],
      "text/plain": [
       "   case_id  session_id   setting     simu_id\n",
       "0  Mahajan  20190331-1  original        None\n",
       "1        A  20190331-2       (1)  20190226-3\n",
       "2        B  20190331-3       (2)  20180616-1\n",
       "3     C, D  20190331-4       (3)  20180625-1"
      ]
     },
     "execution_count": 72,
     "metadata": {},
     "output_type": "execute_result"
    }
   ],
   "source": [
    "df = pd.DataFrame( {\n",
    "    'setting' : ['original', '(1)', '(2)', '(3)'] ,\n",
    "    'session_id' : ['20190331-1','20190331-2','20190331-3','20190331-4'],\n",
    "    'case_id' : ['Mahajan', 'A', 'B', 'C, D'],\n",
    "    'simu_id' : [None, '20190226-3', '20180616-1', '20180625-1']\n",
    "    \n",
    "})\n",
    "df"
   ]
  },
  {
   "cell_type": "code",
   "execution_count": 39,
   "metadata": {
    "collapsed": false
   },
   "outputs": [
    {
     "name": "stdout",
     "output_type": "stream",
     "text": [
      "sim_id,gna,gkr,gks,description\r\n",
      "20190226-3,12.0,0.0125,0.1386, pinning (short WL & lateralization) <<< 20190226-2 <<< 20171128-1\r\n",
      "20180625-1,15.6,0.0088,0.09702,APD prolongation <<< 20171128-1\r\n",
      "20180616-1,10.0,0.0125,0.1386,vortex shedding <<< 20171128-1"
     ]
    }
   ],
   "source": [
    "!cat ../data.whole.csv"
   ]
  },
  {
   "cell_type": "code",
   "execution_count": 41,
   "metadata": {
    "collapsed": false
   },
   "outputs": [
    {
     "name": "stdout",
     "output_type": "stream",
     "text": [
      "{\r\n",
      "    \"time\" : {\r\n",
      "        \"dt\" :0.005,\r\n",
      "        \"log_cnt\" : 200\r\n",
      "    },\r\n",
      "    \"cell_type\" : \"mahajan\",\r\n",
      "    \"cell_param\":{},\r\n",
      "    \"stim\" : {\r\n",
      "        \"start\": 0.0,\r\n",
      "        \"duration\": 0.5,\r\n",
      "        \"interval\": 400.0,\r\n",
      "        \"train\" : 5,\r\n",
      "        \"amplitude\": -80.0\r\n",
      "    }\r\n",
      "}\r\n"
     ]
    }
   ],
   "source": [
    "!cat ./elecpy/temp/pacing_params.json"
   ]
  },
  {
   "cell_type": "markdown",
   "metadata": {},
   "source": [
    "## Mahajan"
   ]
  },
  {
   "cell_type": "code",
   "execution_count": 43,
   "metadata": {
    "collapsed": false
   },
   "outputs": [
    {
     "name": "stdout",
     "output_type": "stream",
     "text": [
      "double _gca = {gca_} * pow({Q10CAL_}, (temp-{temp_})/10.0)/1.4;\n",
      "double _gtof = {gtof_} * pow({Q10TO_}, (temp-{temp_})/10.0)*1.4;\n",
      "double _gtos = {gtos_} * pow({Q10TO_}, (temp-{temp_})/10.0)*1.4;\n",
      "double _dh = (_ah*(1.00000-h) - _bh*h)*1.4;\n",
      "_h = h + _dh * dt;\n",
      "double _dj = (_aj*(1.00000-j) - _bj*j)*1.4;\n",
      "_j = j + _dj * dt;\n",
      "  'gna_'         : 12.0              , #\n",
      "  'gkr_'         : 0.0125            , #\n",
      "  'gks_'         : 0.13860           , #\n"
     ]
    }
   ],
   "source": [
    "!cat ./elecpy/cell/mahajan/kernel.c | grep gca_\n",
    "!cat ./elecpy/cell/mahajan/kernel.c | grep gtof_\n",
    "!cat ./elecpy/cell/mahajan/kernel.c | grep gtos_\n",
    "!cat ./elecpy/cell/mahajan/kernel.c | grep \" _dh \"\n",
    "!cat ./elecpy/cell/mahajan/kernel.c | grep \" _dj \"\n",
    "\n",
    "!cat ./elecpy/cell/mahajan/const.py | grep gna_\n",
    "!cat ./elecpy/cell/mahajan/const.py | grep gkr_\n",
    "!cat ./elecpy/cell/mahajan/const.py | grep gks_"
   ]
  },
  {
   "cell_type": "code",
   "execution_count": 44,
   "metadata": {
    "collapsed": false,
    "scrolled": true
   },
   "outputs": [
    {
     "name": "stdout",
     "output_type": "stream",
     "text": [
      "cell models pacing test.\n",
      "-------------100\n",
      "v: -23.8698244628\n",
      "it: 0.621808829083\n",
      "st: 0.0\n",
      "-------------200\n",
      "v: -85.8303708633\n",
      "it: 0.0289504432419\n",
      "st: 0.0\n",
      "-------------300\n",
      "v: -87.0631974576\n",
      "it: 0.00507932166906\n",
      "st: 0.0\n",
      "-------------400\n",
      "v: -87.3767648386\n",
      "it: 0.00191293184172\n",
      "st: 0.0\n",
      "-------------500\n",
      "v: -62.6063532211\n",
      "it: 1.22181970832\n",
      "st: 0.0\n",
      "-------------600\n",
      "v: -87.121890853\n",
      "it: 0.00695109449892\n",
      "st: 0.0\n",
      "-------------700\n",
      "v: -87.4502610951\n",
      "it: 0.00158525767566\n",
      "st: 0.0\n",
      "-------------800\n",
      "v: -87.5581246368\n",
      "it: 0.00073715069655\n",
      "st: 0.0\n",
      "-------------900\n",
      "v: -66.4412752081\n",
      "it: 1.276678968\n",
      "st: 0.0\n",
      "-------------1000\n",
      "v: -87.2347367393\n",
      "it: 0.00580338778267\n",
      "st: 0.0\n",
      "-------------1100\n",
      "v: -87.5044886309\n",
      "it: 0.00128897130322\n",
      "st: 0.0\n",
      "-------------1200\n",
      "v: -87.5927721472\n",
      "it: 0.000609882561228\n",
      "st: 0.0\n",
      "-------------1300\n",
      "v: -76.8605934342\n",
      "it: 1.03696325186\n",
      "st: 0.0\n",
      "-------------1400\n",
      "v: -87.3496585649\n",
      "it: 0.00423900460246\n",
      "st: 0.0\n",
      "-------------1500\n",
      "v: -87.5518502138\n",
      "it: 0.00100406664141\n",
      "st: 0.0\n",
      "-------------1600\n",
      "v: -87.6218755334\n",
      "it: 0.000493014653322\n",
      "st: 0.0\n",
      "-------------1700\n",
      "v: -81.2637557564\n",
      "it: 0.67712933703\n",
      "st: 0.0\n",
      "-------------1800\n",
      "v: -87.4157667662\n",
      "it: 0.00343193800529\n",
      "st: 0.0\n",
      "-------------1900\n",
      "v: -87.581593603\n",
      "it: 0.000840149443415\n",
      "st: 0.0\n",
      "-------------2000\n",
      "v: -87.6408186383\n",
      "it: 0.000421864014821\n",
      "st: 0.0\n",
      "elapsed_time: 1177.06308389\n"
     ]
    }
   ],
   "source": [
    "!python ./elecpy/cell/test.py -p ./elecpy/temp/pacing_params.json -d /mnt/Omer/Project/01.PhaseDiscontinuity/SimulationResults/20190331-1/"
   ]
  },
  {
   "cell_type": "markdown",
   "metadata": {},
   "source": [
    "## A"
   ]
  },
  {
   "cell_type": "code",
   "execution_count": 45,
   "metadata": {
    "collapsed": false
   },
   "outputs": [
    {
     "name": "stdout",
     "output_type": "stream",
     "text": [
      "double _gca = {gca_} * pow({Q10CAL_}, (temp-{temp_})/10.0)/1.9;\n",
      "double _gtof = {gtof_} * pow({Q10TO_}, (temp-{temp_})/10.0)*1.9;\n",
      "double _gtos = {gtos_} * pow({Q10TO_}, (temp-{temp_})/10.0)*1.9;\n",
      "double _dh = (_ah*(1.00000-h) - _bh*h)*1.9;\n",
      "_h = h + _dh * dt;\n",
      "double _dj = (_aj*(1.00000-j) - _bj*j)*1.9;\n",
      "_j = j + _dj * dt;\n",
      "  'gna_'         : 12.0              , #\n",
      "  'gkr_'         : 0.0125            , #\n",
      "  'gks_'         : 0.13860           , #\n"
     ]
    }
   ],
   "source": [
    "!cat ./elecpy/cell/mahajan/kernel.c | grep gca_\n",
    "!cat ./elecpy/cell/mahajan/kernel.c | grep gtof_\n",
    "!cat ./elecpy/cell/mahajan/kernel.c | grep gtos_\n",
    "!cat ./elecpy/cell/mahajan/kernel.c | grep \" _dh \"\n",
    "!cat ./elecpy/cell/mahajan/kernel.c | grep \" _dj \"\n",
    "\n",
    "!cat ./elecpy/cell/mahajan/const.py | grep gna_\n",
    "!cat ./elecpy/cell/mahajan/const.py | grep gkr_\n",
    "!cat ./elecpy/cell/mahajan/const.py | grep gks_"
   ]
  },
  {
   "cell_type": "code",
   "execution_count": 46,
   "metadata": {
    "collapsed": false,
    "scrolled": true
   },
   "outputs": [
    {
     "name": "stdout",
     "output_type": "stream",
     "text": [
      "cell models pacing test.\n",
      "-------------100\n",
      "v: -62.2013415022\n",
      "it: 1.01254861006\n",
      "st: 0.0\n",
      "-------------200\n",
      "v: -86.7307068739\n",
      "it: 0.0119881324221\n",
      "st: 0.0\n",
      "-------------300\n",
      "v: -87.3059791156\n",
      "it: 0.0027446847779\n",
      "st: 0.0\n",
      "-------------400\n",
      "v: -87.4869726914\n",
      "it: 0.00118595095071\n",
      "st: 0.0\n",
      "-------------500\n",
      "v: -86.4178496406\n",
      "it: 0.0381409987093\n",
      "st: 0.0\n",
      "-------------600\n",
      "v: -87.4645636961\n",
      "it: 0.00223497589185\n",
      "st: 0.0\n",
      "-------------700\n",
      "v: -87.5851493165\n",
      "it: 0.000688422796205\n",
      "st: 0.0\n",
      "-------------800\n",
      "v: -87.6353944173\n",
      "it: 0.000368516620289\n",
      "st: 0.0\n",
      "-------------900\n",
      "v: -86.5960339562\n",
      "it: 0.0355072628638\n",
      "st: 0.0\n",
      "-------------1000\n",
      "v: -87.537982411\n",
      "it: 0.00177827282315\n",
      "st: 0.0\n",
      "-------------1100\n",
      "v: -87.6298660092\n",
      "it: 0.000506532753906\n",
      "st: 0.0\n",
      "-------------1200\n",
      "v: -87.6669073625\n",
      "it: 0.00027391955158\n",
      "st: 0.0\n",
      "-------------1300\n",
      "v: -86.8592112534\n",
      "it: 0.0265247097244\n",
      "st: 0.0\n",
      "-------------1400\n",
      "v: -87.5853570771\n",
      "it: 0.00138210975532\n",
      "st: 0.0\n",
      "-------------1500\n",
      "v: -87.6571596963\n",
      "it: 0.000399851064543\n",
      "st: 0.0\n",
      "-------------1600\n",
      "v: -87.6866480211\n",
      "it: 0.000220266387236\n",
      "st: 0.0\n",
      "-------------1700\n",
      "v: -87.03624636\n",
      "it: 0.0209287668391\n",
      "st: 0.0\n",
      "-------------1800\n",
      "v: -87.6176425593\n",
      "it: 0.00111700868768\n",
      "st: 0.0\n",
      "-------------1900\n",
      "v: -87.6760438926\n",
      "it: 0.000328362492756\n",
      "st: 0.0\n",
      "-------------2000\n",
      "v: -87.7004245588\n",
      "it: 0.000183545110935\n",
      "st: 0.0\n",
      "elapsed_time: 388.169293165\n"
     ]
    }
   ],
   "source": [
    "!python ./elecpy/cell/test.py -p ./elecpy/temp/pacing_params.json -d /mnt/Omer/Project/01.PhaseDiscontinuity/SimulationResults/20190331-2/"
   ]
  },
  {
   "cell_type": "markdown",
   "metadata": {},
   "source": [
    "## B"
   ]
  },
  {
   "cell_type": "code",
   "execution_count": 70,
   "metadata": {
    "collapsed": false
   },
   "outputs": [
    {
     "name": "stdout",
     "output_type": "stream",
     "text": [
      "double _gca = {gca_} * pow({Q10CAL_}, (temp-{temp_})/10.0)/1.4;\n",
      "double _gtof = {gtof_} * pow({Q10TO_}, (temp-{temp_})/10.0)*1.4;\n",
      "double _gtos = {gtos_} * pow({Q10TO_}, (temp-{temp_})/10.0)*1.4;\n",
      "double _dh = (_ah*(1.00000-h) - _bh*h)*1.4;\n",
      "_h = h + _dh * dt;\n",
      "double _dj = (_aj*(1.00000-j) - _bj*j)*1.4;\n",
      "_j = j + _dj * dt;\n",
      "  'gna_'         : 10.0              , #\n",
      "  'gkr_'         : 0.0125            , #\n",
      "  'gks_'         : 0.13860           , #\n"
     ]
    }
   ],
   "source": [
    "!cat ./elecpy/cell/mahajan/kernel.c | grep gca_\n",
    "!cat ./elecpy/cell/mahajan/kernel.c | grep gtof_\n",
    "!cat ./elecpy/cell/mahajan/kernel.c | grep gtos_\n",
    "!cat ./elecpy/cell/mahajan/kernel.c | grep \" _dh \"\n",
    "!cat ./elecpy/cell/mahajan/kernel.c | grep \" _dj \"\n",
    "\n",
    "!cat ./elecpy/cell/mahajan/const.py | grep gna_\n",
    "!cat ./elecpy/cell/mahajan/const.py | grep gkr_\n",
    "!cat ./elecpy/cell/mahajan/const.py | grep gks_"
   ]
  },
  {
   "cell_type": "code",
   "execution_count": 71,
   "metadata": {
    "collapsed": false,
    "scrolled": true
   },
   "outputs": [
    {
     "name": "stdout",
     "output_type": "stream",
     "text": [
      "cell models pacing test.\n",
      "-------------100\n",
      "v: -23.7784383903\n",
      "it: 0.620788705073\n",
      "st: 0.0\n",
      "-------------200\n",
      "v: -85.8291659706\n",
      "it: 0.0289813319079\n",
      "st: 0.0\n",
      "-------------300\n",
      "v: -87.0627065648\n",
      "it: 0.005082386981\n",
      "st: 0.0\n",
      "-------------400\n",
      "v: -87.3764588483\n",
      "it: 0.00191400104228\n",
      "st: 0.0\n",
      "-------------500\n",
      "v: -60.8738891337\n",
      "it: 1.19449797186\n",
      "st: 0.0\n",
      "-------------600\n",
      "v: -87.1080008867\n",
      "it: 0.0071894253706\n",
      "st: 0.0\n",
      "-------------700\n",
      "v: -87.4459185562\n",
      "it: 0.00162051778202\n",
      "st: 0.0\n",
      "-------------800\n",
      "v: -87.55591804\n",
      "it: 0.000750030779087\n",
      "st: 0.0\n",
      "-------------900\n",
      "v: -64.73375056\n",
      "it: 1.26538707659\n",
      "st: 0.0\n",
      "-------------1000\n",
      "v: -87.2224744846\n",
      "it: 0.00600016544933\n",
      "st: 0.0\n",
      "-------------1100\n",
      "v: -87.5003007058\n",
      "it: 0.00132041286783\n",
      "st: 0.0\n",
      "-------------1200\n",
      "v: -87.5905425788\n",
      "it: 0.000622065403282\n",
      "st: 0.0\n",
      "-------------1300\n",
      "v: -75.5416075956\n",
      "it: 1.1165967195\n",
      "st: 0.0\n",
      "-------------1400\n",
      "v: -87.3404270432\n",
      "it: 0.00437274085349\n",
      "st: 0.0\n",
      "-------------1500\n",
      "v: -87.5483325076\n",
      "it: 0.00102796350104\n",
      "st: 0.0\n",
      "-------------1600\n",
      "v: -87.6198935658\n",
      "it: 0.000502891386057\n",
      "st: 0.0\n",
      "-------------1700\n",
      "v: -80.4166944159\n",
      "it: 0.765882587217\n",
      "st: 0.0\n",
      "-------------1800\n",
      "v: -87.4079048005\n",
      "it: 0.00353877400662\n",
      "st: 0.0\n",
      "-------------1900\n",
      "v: -87.5783925829\n",
      "it: 0.000860383318464\n",
      "st: 0.0\n",
      "-------------2000\n",
      "v: -87.6389418329\n",
      "it: 0.000430552169557\n",
      "st: 0.0\n",
      "elapsed_time: 496.17809391\n"
     ]
    }
   ],
   "source": [
    "!python ./elecpy/cell/test.py -p ./elecpy/temp/pacing_params.json -d /mnt/Omer/Project/01.PhaseDiscontinuity/SimulationResults/20190331-3/"
   ]
  },
  {
   "cell_type": "markdown",
   "metadata": {},
   "source": [
    "## C,D"
   ]
  },
  {
   "cell_type": "code",
   "execution_count": 78,
   "metadata": {
    "collapsed": false
   },
   "outputs": [
    {
     "name": "stdout",
     "output_type": "stream",
     "text": [
      "double _gca = {gca_} * pow({Q10CAL_}, (temp-{temp_})/10.0)/1.0;\n",
      "double _gtof = {gtof_} * pow({Q10TO_}, (temp-{temp_})/10.0)*1.0;\n",
      "double _gtos = {gtos_} * pow({Q10TO_}, (temp-{temp_})/10.0)*1.0;\n",
      "double _dh = (_ah*(1.00000-h) - _bh*h)*1.4;\n",
      "_h = h + _dh * dt;\n",
      "double _dj = (_aj*(1.00000-j) - _bj*j)*1.4;\n",
      "_j = j + _dj * dt;\n",
      "  'gna_'         : 15.6              , #\n",
      "  'gkr_'         : 0.0088            , #\n",
      "  'gks_'         : 0.09702           , #\n"
     ]
    }
   ],
   "source": [
    "!cat ./elecpy/cell/mahajan/kernel.c | grep gca_\n",
    "!cat ./elecpy/cell/mahajan/kernel.c | grep gtof_\n",
    "!cat ./elecpy/cell/mahajan/kernel.c | grep gtos_\n",
    "!cat ./elecpy/cell/mahajan/kernel.c | grep \" _dh \"\n",
    "!cat ./elecpy/cell/mahajan/kernel.c | grep \" _dj \"\n",
    "\n",
    "!cat ./elecpy/cell/mahajan/const.py | grep gna_\n",
    "!cat ./elecpy/cell/mahajan/const.py | grep gkr_\n",
    "!cat ./elecpy/cell/mahajan/const.py | grep gks_"
   ]
  },
  {
   "cell_type": "code",
   "execution_count": 79,
   "metadata": {
    "collapsed": false,
    "scrolled": true
   },
   "outputs": [
    {
     "name": "stdout",
     "output_type": "stream",
     "text": [
      "cell models pacing test.\n",
      "-------------100\n",
      "v: 9.22421016315\n",
      "it: 0.327261450095\n",
      "st: 0.0\n",
      "-------------200\n",
      "v: -60.9570371077\n",
      "it: 1.24644842832\n",
      "st: 0.0\n",
      "-------------300\n",
      "v: -86.6354526677\n",
      "it: 0.0100105835986\n",
      "st: 0.0\n",
      "-------------400\n",
      "v: -87.1129017755\n",
      "it: 0.00206402626726\n",
      "st: 0.0\n",
      "-------------500\n",
      "v: 8.14070066652\n",
      "it: 0.346922804144\n",
      "st: 0.0\n",
      "-------------600\n",
      "v: -65.8102972176\n",
      "it: 1.26043824267\n",
      "st: 0.0\n",
      "-------------700\n",
      "v: -86.6070168396\n",
      "it: 0.0102485781254\n",
      "st: 0.0\n",
      "-------------800\n",
      "v: -87.098814002\n",
      "it: 0.00211320396992\n",
      "st: 0.0\n",
      "-------------900\n",
      "v: 7.99636572255\n",
      "it: 0.349617113826\n",
      "st: 0.0\n",
      "-------------1000\n",
      "v: -66.3704285778\n",
      "it: 1.25512994492\n",
      "st: 0.0\n",
      "-------------1100\n",
      "v: -86.5984199782\n",
      "it: 0.0102621827154\n",
      "st: 0.0\n",
      "-------------1200\n",
      "v: -87.0905646929\n",
      "it: 0.00212113627839\n",
      "st: 0.0\n",
      "-------------1300\n",
      "v: 7.87591614105\n",
      "it: 0.352167090277\n",
      "st: 0.0\n",
      "-------------1400\n",
      "v: -66.8509569972\n",
      "it: 1.25034465773\n",
      "st: 0.0\n",
      "-------------1500\n",
      "v: -86.5922386619\n",
      "it: 0.0103338585011\n",
      "st: 0.0\n",
      "-------------1600\n",
      "v: -87.0881133429\n",
      "it: 0.00213306019311\n",
      "st: 0.0\n",
      "-------------1700\n",
      "v: 7.84300724933\n",
      "it: 0.352769454142\n",
      "st: 0.0\n",
      "-------------1800\n",
      "v: -66.9898368173\n",
      "it: 1.24894127583\n",
      "st: 0.0\n",
      "-------------1900\n",
      "v: -86.5911553374\n",
      "it: 0.010329038886\n",
      "st: 0.0\n",
      "-------------2000\n",
      "v: -87.0867998711\n",
      "it: 0.00213364761833\n",
      "st: 0.0\n",
      "elapsed_time: 379.540195942\n"
     ]
    }
   ],
   "source": [
    "!python ./elecpy/cell/test.py -p ./elecpy/temp/pacing_params.json -d /mnt/Omer/Project/01.PhaseDiscontinuity/SimulationResults/20190331-4/"
   ]
  },
  {
   "cell_type": "markdown",
   "metadata": {},
   "source": [
    "## plot"
   ]
  },
  {
   "cell_type": "code",
   "execution_count": 80,
   "metadata": {
    "collapsed": true
   },
   "outputs": [],
   "source": [
    "def calc_apd(vmem, r_thre=0.9):\n",
    "    vmem_thre = (1-r_thre)*vmem.max() + r_thre*vmem.min()\n",
    "    flag_on = False\n",
    "    apd = None\n",
    "    for f, v in enumerate(vmem):\n",
    "        if not flag_on:\n",
    "            if v > vmem_thre:\n",
    "                flag_on = True\n",
    "                f_start = f\n",
    "        else:\n",
    "            if v < vmem_thre:\n",
    "                apd = f - f_start\n",
    "                break\n",
    "    return vmem_thre, f_start, apd "
   ]
  },
  {
   "cell_type": "code",
   "execution_count": 81,
   "metadata": {
    "collapsed": true
   },
   "outputs": [],
   "source": [
    "def calc_max_dvdt(vmem):\n",
    "    vmem_diff = np.zeros_like(vmem)\n",
    "    vmem_diff[1:] = vmem[1:] - vmem[:-1]\n",
    "    return max(vmem_diff)"
   ]
  },
  {
   "cell_type": "code",
   "execution_count": 82,
   "metadata": {
    "collapsed": false
   },
   "outputs": [
    {
     "name": "stdout",
     "output_type": "stream",
     "text": [
      "/mnt/Omer/Project/01.PhaseDiscontinuity/SimulationResults//20190331-1/*/v.npy\n",
      "/mnt/Omer/Project/01.PhaseDiscontinuity/SimulationResults//20190331-2/*/v.npy\n",
      "/mnt/Omer/Project/01.PhaseDiscontinuity/SimulationResults//20190331-3/*/v.npy\n",
      "/mnt/Omer/Project/01.PhaseDiscontinuity/SimulationResults//20190331-4/*/v.npy\n"
     ]
    }
   ],
   "source": [
    "vmem_all = {}\n",
    "\n",
    "for i, row in df.iterrows():\n",
    "    \n",
    "    #if i not in [1,2,3]: continue\n",
    "        \n",
    "    path = '{0}/{1}/*/v.npy'.format(src_dir, row['session_id'])\n",
    "    print path\n",
    "    files = sorted( glob.glob(path))\n",
    "\n",
    "    vmem = np.array([np.load(f)[0,0] for f in files[:1000]])\n",
    "    vmem_all[row['setting']] = vmem"
   ]
  },
  {
   "cell_type": "code",
   "execution_count": 83,
   "metadata": {
    "collapsed": false
   },
   "outputs": [
    {
     "name": "stdout",
     "output_type": "stream",
     "text": [
      "(1) 300\n",
      "(2) 300\n",
      "(3) 300\n"
     ]
    }
   ],
   "source": [
    "for i, row in df.iterrows():    \n",
    "    if i == 0: continue\n",
    "    key = row['setting']\n",
    "    vmem = vmem_all[key][offset:offset+300]\n",
    "    print key, len(vmem)"
   ]
  },
  {
   "cell_type": "code",
   "execution_count": 91,
   "metadata": {
    "collapsed": false
   },
   "outputs": [
    {
     "name": "stdout",
     "output_type": "stream",
     "text": [
      "original 22.7074962398 110\n",
      "(1) 11.9938240299 64\n",
      "(2) 18.7484675344 112\n",
      "(3) 29.6284253138 207\n"
     ]
    },
    {
     "data": {
      "text/plain": [
       "<matplotlib.figure.Figure at 0x7f5003c971d0>"
      ]
     },
     "metadata": {},
     "output_type": "display_data"
    },
    {
     "data": {
      "image/png": "[encoded data removed]",
      "text/plain": [
       "<matplotlib.figure.Figure at 0x7f500162dd50>"
      ]
     },
     "metadata": {},
     "output_type": "display_data"
    }
   ],
   "source": [
    "linestyles = ['solid', 'dotted', 'dashed', 'solid']\n",
    "plt.subplots_adjust(hspace=0.6)\n",
    "plt.figure(figsize=(10,10))\n",
    "for i, row in df.iterrows():    \n",
    "    #if i == 0: continue\n",
    "    plt.subplot(4, 1, i+1)\n",
    "    offset = 400*1-50\n",
    "    key = row['setting']\n",
    "    vmem = vmem_all[key][offset:offset+300]\n",
    "    vmem_thre, f_start, apd = calc_apd(vmem, r_thre=0.9)\n",
    "    max_dvdt = calc_max_dvdt(vmem)\n",
    "    \n",
    "    print key, vmem.max(), apd\n",
    "    \n",
    "    #plt.title(key, loc='left')\n",
    "    plt.plot(vmem, c='k')#, linestyle=linestyles[i])\n",
    "    plt.plot([f_start, f_start+apd], [vmem_thre, vmem_thre], c='k', linestyle='dotted')\n",
    "    \n",
    "    plt.text(f_start+apd/2 - 20, vmem_thre+10, '{0}'.format(apd))\n",
    "    plt.text(f_start-20, -40, '{0:.1f}'.format(max_dvdt))\n",
    "    plt.ylim([-90, 37])\n",
    "    plt.xticks(color=\"None\")\n",
    "    \n",
    "    plt.gca().spines['top'].set_visible(False)\n",
    "    plt.gca().spines['bottom'].set_visible(False)\n",
    "    plt.gca().spines['right'].set_visible(False)\n",
    "    plt.tick_params(length=0)\n",
    "    #plt.gca().spines['left'].set_visible(False)\n",
    "    #plt.xlabel('time [ms]')\n",
    "    #plt.ylabel('Vm [mV]')\n",
    "    #plt.legend()\n",
    "#plt.xticks(color=\"k\")\n",
    "#plt.xlabel('time [msec]')"
   ]
  },
  {
   "cell_type": "code",
   "execution_count": null,
   "metadata": {
    "collapsed": true
   },
   "outputs": [],
   "source": []
  }
 ],
 "metadata": {
  "kernelspec": {
   "display_name": "Python 2",
   "language": "python",
   "name": "python2"
  },
  "language_info": {
   "codemirror_mode": {
    "name": "ipython",
    "version": 2
   },
   "file_extension": ".py",
   "mimetype": "text/x-python",
   "name": "python",
   "nbconvert_exporter": "python",
   "pygments_lexer": "ipython2",
   "version": "2.7.15"
  }
 },
 "nbformat": 4,
 "nbformat_minor": 2
}
