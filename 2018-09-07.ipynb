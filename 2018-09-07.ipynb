{
 "cells": [
  {
   "cell_type": "code",
   "execution_count": 179,
   "metadata": {
    "collapsed": false
   },
   "outputs": [],
   "source": [
    "#from util import *\n",
    "import os, shutil\n",
    "import pandas as pd\n",
    "\n",
    "from opmap.videoData import VideoData\n",
    "from opmap.vmemMap import VmemMap\n",
    "from opmap.phaseMap import PhaseMap\n",
    "from opmap.phaseVarianceMap import PhaseVarianceMap\n",
    "from elecpy.elecpySession import ElecpySession\n"
   ]
  },
  {
   "cell_type": "code",
   "execution_count": 180,
   "metadata": {
    "collapsed": true
   },
   "outputs": [],
   "source": [
    "import numpy as np\n",
    "import matplotlib.pyplot as plt\n",
    "from mpl_toolkits.mplot3d import Axes3D\n",
    "from mpl_toolkits.mplot3d import art3d\n",
    "from matplotlib import cm\n",
    "import copy\n",
    "\n",
    "%matplotlib inline"
   ]
  },
  {
   "cell_type": "code",
   "execution_count": 181,
   "metadata": {
    "collapsed": false
   },
   "outputs": [
    {
     "name": "stdout",
     "output_type": "stream",
     "text": [
      "/mnt/recordings/AnalysisResult/Tomii/2018-09-07/\n"
     ]
    }
   ],
   "source": [
    "src_dir = '/mnt/recordings/SimulationResult/'\n",
    "save_dir = '/mnt/recordings/AnalysisResult/Tomii/2018-09-07/'\n",
    "print(save_dir)\n",
    "if not os.path.exists(save_dir) : os.mkdir(save_dir)"
   ]
  },
  {
   "cell_type": "code",
   "execution_count": 182,
   "metadata": {
    "collapsed": true
   },
   "outputs": [],
   "source": [
    "\n",
    "def phaseComplement(value):\n",
    "    value -= (value > np.pi)*2*np.pi\n",
    "    value += (value < - np.pi)*2*np.pi\n",
    "    return value\n"
   ]
  },
  {
   "cell_type": "code",
   "execution_count": 183,
   "metadata": {
    "collapsed": false
   },
   "outputs": [],
   "source": [
    "def analyzeSession(sess, save_dir=None):\n",
    "    cam = VideoData(*sess.data['vmem'].shape)\n",
    "    cam.data = - sess.data['vmem']\n",
    "    v = VmemMap(cam);del(cam)\n",
    "    p = PhaseMap(v, width = v.data.shape[2]); \n",
    "    p.data = - p.data\n",
    "    pv = PhaseVarianceMap(p, size=3)\n",
    "    \n",
    "    if save_dir is not None:\n",
    "        v.saveImage( os.path.join(save_dir, 'vmem'))\n",
    "        p.saveImage( os.path.join(save_dir, 'pmap'))\n",
    "        pv.saveImage( os.path.join(save_dir, 'pvmap'))\n",
    "\n",
    "    sess.data['phase'] = p.data\n",
    "    sess.data['pv'] = pv.data"
   ]
  },
  {
   "cell_type": "code",
   "execution_count": 184,
   "metadata": {
    "collapsed": false
   },
   "outputs": [],
   "source": [
    "def plot_phase_surface(sess, frame, cut_thre = 2*np.pi*0.75, angle=0):\n",
    "    \n",
    "    fig = plt.figure(figsize=(15,10))\n",
    "    ax = fig.add_subplot(111, projection='3d')\n",
    "    ax.set_zlim3d(-np.pi, np.pi)\n",
    "\n",
    "    _, size_h, size_w = sess.data['phase'].shape\n",
    "\n",
    "    y = np.arange(size_h)\n",
    "    x = np.arange(size_w)\n",
    "    X, Y = np.meshgrid(x, y)\n",
    "    Z = sess.data['phase'][frame, ::-1, :]\n",
    "    \n",
    "    if angle is 1: Z = Z.T[:,::-1]\n",
    "    if angle is 2: Z = Z[::-1,::-1]\n",
    "    if angle is 3: Z = Z.T[::-1,:]\n",
    "\n",
    "    wire = ax.plot_wireframe(X, Y, Z)\n",
    "\n",
    "    nx, ny, _  = np.shape(wire._segments3d)\n",
    "    wire_x = np.array(wire._segments3d)[:, :, 0].ravel()\n",
    "    wire_y = np.array(wire._segments3d)[:, :, 1].ravel()\n",
    "    wire_z = np.array(wire._segments3d)[:, :, 2].ravel()\n",
    "    wire.remove()\n",
    "\n",
    "    # create data for a LineCollection\n",
    "    wire_x1 = np.vstack([wire_x, np.roll(wire_x, 1)])\n",
    "    wire_y1 = np.vstack([wire_y, np.roll(wire_y, 1)])\n",
    "    wire_z1 = np.vstack([wire_z, np.roll(wire_z, 1)])\n",
    "\n",
    "    to_delete = np.arange(0, nx*ny, ny)\n",
    "    wire_x1 = np.delete(wire_x1, to_delete, axis=1)\n",
    "    wire_y1 = np.delete(wire_y1, to_delete, axis=1)\n",
    "    wire_z1 = np.delete(wire_z1, to_delete, axis=1)\n",
    "    scalars = np.delete(wire_z, to_delete)\n",
    "\n",
    "    segs = np.array([list(zip(xl, yl, zl)) for xl, yl, zl in \\\n",
    "                 zip(wire_x1.T, wire_y1.T, wire_z1.T)])\n",
    "\n",
    "    # delete false phase discontinuity\n",
    "    to_delete = np.where( np.array([ abs( seg[0][2] - seg[1][2]) for seg in segs ]) > cut_thre)[0]\n",
    "    segs = np.delete( segs, to_delete, axis=0)\n",
    "    scalars = np.delete( scalars, to_delete)\n",
    "\n",
    "    # Plots the wireframe by a  a line3DCollection\n",
    "    my_wire = art3d.Line3DCollection(segs, cmap=\"jet\")\n",
    "    my_wire.set_array(scalars)\n",
    "    my_wire.set_clim(vmin=-np.pi, vmax=np.pi)\n",
    "    ax.add_collection(my_wire)\n",
    "\n",
    "    plt.colorbar(my_wire)\n",
    "\n"
   ]
  },
  {
   "cell_type": "markdown",
   "metadata": {},
   "source": [
    "## Check whole dynamics"
   ]
  },
  {
   "cell_type": "code",
   "execution_count": 143,
   "metadata": {
    "collapsed": false
   },
   "outputs": [
    {
     "data": {
      "text/html": [
       "<div>\n",
       "<table border=\"1\" class=\"dataframe\">\n",
       "  <thead>\n",
       "    <tr style=\"text-align: right;\">\n",
       "      <th></th>\n",
       "      <th>sim_id</th>\n",
       "      <th>description</th>\n",
       "    </tr>\n",
       "  </thead>\n",
       "  <tbody>\n",
       "    <tr>\n",
       "      <th>0</th>\n",
       "      <td>20180907-2</td>\n",
       "      <td>S1(ext -50)</td>\n",
       "    </tr>\n",
       "    <tr>\n",
       "      <th>1</th>\n",
       "      <td>20180907-3</td>\n",
       "      <td>S1(ext -50)</td>\n",
       "    </tr>\n",
       "    <tr>\n",
       "      <th>2</th>\n",
       "      <td>20180907-4</td>\n",
       "      <td>S1(mem 10)</td>\n",
       "    </tr>\n",
       "  </tbody>\n",
       "</table>\n",
       "</div>"
      ],
      "text/plain": [
       "       sim_id  description\n",
       "0  20180907-2  S1(ext -50)\n",
       "1  20180907-3  S1(ext -50)\n",
       "2  20180907-4   S1(mem 10)"
      ]
     },
     "execution_count": 143,
     "metadata": {},
     "output_type": "execute_result"
    }
   ],
   "source": [
    "df = pd.read_csv('data.whole.csv')\n",
    "df"
   ]
  },
  {
   "cell_type": "code",
   "execution_count": 149,
   "metadata": {
    "collapsed": false
   },
   "outputs": [
    {
     "name": "stdout",
     "output_type": "stream",
     "text": [
      "/mnt/recordings/AnalysisResult/Tomii/2018-09-07/20180907-3\n",
      "('phie', 101, 101)\n"
     ]
    },
    {
     "data": {
      "image/png": "[encoded data removed]",
      "text/plain": [
       "<matplotlib.figure.Figure at 0x7fc34692ba50>"
      ]
     },
     "metadata": {},
     "output_type": "display_data"
    }
   ],
   "source": [
    "\n",
    "for i, row in df.iterrows():\n",
    "    \n",
    "    if i not in [1]: continue\n",
    "    \n",
    "    dst_dir = os.path.join(save_dir, '{0}'.format(row['sim_id']))\n",
    "    print(dst_dir)\n",
    "    #if os.path.exists(dst_dir) : shutil.rmtree(dst_dir)\n",
    "    if not os.path.exists(dst_dir) : os.makedirs(dst_dir)\n",
    "        \n",
    "    sess = ElecpySession( os.path.join(src_dir, row.sim_id), keys=['vmem', \"phie\"])\n",
    "    \n",
    "    analyzeSession(sess, save_dir=dst_dir)\n",
    "    \n",
    "    plt.imshow(np.sum(sess.data['pv'][100:-100,:,:] > 0.3, axis=0), cmap='gray')\n",
    "    plt.savefig(os.path.join(dst_dir, 'traj.png'))\n",
    "    "
   ]
  },
  {
   "cell_type": "markdown",
   "metadata": {},
   "source": [
    "## Check region detail"
   ]
  },
  {
   "cell_type": "code",
   "execution_count": 188,
   "metadata": {
    "collapsed": false
   },
   "outputs": [
    {
     "data": {
      "text/html": [
       "<div>\n",
       "<table border=\"1\" class=\"dataframe\">\n",
       "  <thead>\n",
       "    <tr style=\"text-align: right;\">\n",
       "      <th></th>\n",
       "      <th>sim_id</th>\n",
       "      <th>x_min</th>\n",
       "      <th>x_max</th>\n",
       "      <th>y_min</th>\n",
       "      <th>y_max</th>\n",
       "      <th>f_min</th>\n",
       "      <th>f_max</th>\n",
       "      <th>result_id</th>\n",
       "      <th>description</th>\n",
       "    </tr>\n",
       "  </thead>\n",
       "  <tbody>\n",
       "    <tr>\n",
       "      <th>0</th>\n",
       "      <td>20180525-1</td>\n",
       "      <td>135</td>\n",
       "      <td>165</td>\n",
       "      <td>85</td>\n",
       "      <td>115</td>\n",
       "      <td>290</td>\n",
       "      <td>330</td>\n",
       "      <td>-</td>\n",
       "      <td>control</td>\n",
       "    </tr>\n",
       "    <tr>\n",
       "      <th>1</th>\n",
       "      <td>20180823-1</td>\n",
       "      <td>80</td>\n",
       "      <td>120</td>\n",
       "      <td>80</td>\n",
       "      <td>120</td>\n",
       "      <td>105</td>\n",
       "      <td>175</td>\n",
       "      <td>A</td>\n",
       "      <td>pinning</td>\n",
       "    </tr>\n",
       "    <tr>\n",
       "      <th>2</th>\n",
       "      <td>20180625-1</td>\n",
       "      <td>110</td>\n",
       "      <td>150</td>\n",
       "      <td>80</td>\n",
       "      <td>120</td>\n",
       "      <td>120</td>\n",
       "      <td>160</td>\n",
       "      <td>C</td>\n",
       "      <td>meandering</td>\n",
       "    </tr>\n",
       "    <tr>\n",
       "      <th>3</th>\n",
       "      <td>20180625-1</td>\n",
       "      <td>160</td>\n",
       "      <td>200</td>\n",
       "      <td>80</td>\n",
       "      <td>120</td>\n",
       "      <td>220</td>\n",
       "      <td>260</td>\n",
       "      <td>D</td>\n",
       "      <td>spiral stop</td>\n",
       "    </tr>\n",
       "    <tr>\n",
       "      <th>4</th>\n",
       "      <td>20180616-1</td>\n",
       "      <td>80</td>\n",
       "      <td>120</td>\n",
       "      <td>80</td>\n",
       "      <td>120</td>\n",
       "      <td>360</td>\n",
       "      <td>400</td>\n",
       "      <td>B</td>\n",
       "      <td>over the trajectory of vortex shedding</td>\n",
       "    </tr>\n",
       "  </tbody>\n",
       "</table>\n",
       "</div>"
      ],
      "text/plain": [
       "       sim_id  x_min  x_max  y_min  y_max  f_min  f_max  result_id  \\\n",
       "0  20180525-1    135    165     85    115    290    330          -   \n",
       "1  20180823-1     80    120     80    120    105    175          A   \n",
       "2  20180625-1    110    150     80    120    120    160          C   \n",
       "3  20180625-1    160    200     80    120    220    260          D   \n",
       "4  20180616-1     80    120     80    120    360    400          B   \n",
       "\n",
       "                               description  \n",
       "0                                  control  \n",
       "1                                  pinning  \n",
       "2                               meandering  \n",
       "3                             spiral stop   \n",
       "4   over the trajectory of vortex shedding  "
      ]
     },
     "execution_count": 188,
     "metadata": {},
     "output_type": "execute_result"
    }
   ],
   "source": [
    "df = pd.read_csv('data.roi.csv')\n",
    "df"
   ]
  },
  {
   "cell_type": "code",
   "execution_count": 186,
   "metadata": {
    "collapsed": true
   },
   "outputs": [],
   "source": [
    "thre_phase_integ = np.pi*0.5"
   ]
  },
  {
   "cell_type": "code",
   "execution_count": null,
   "metadata": {
    "collapsed": false,
    "scrolled": false
   },
   "outputs": [],
   "source": [
    "for i, row in df.iterrows():\n",
    "    \n",
    "    #if i not in [5]: continue\n",
    "    \n",
    "    dst_dir = os.path.join(save_dir, '{0}'.format(row['sim_id']))\n",
    "    dst_dir = os.path.join(dst_dir, 'x{0}-{1}_y{2}-{3}_f{4}-{5}'.format(\n",
    "        row.x_min,row.x_max,\n",
    "        row.y_min,row.y_max,\n",
    "        row.f_min,row.f_max,\n",
    "    ))\n",
    "    print(dst_dir)\n",
    "    #if os.path.exists(dst_dir) : shutil.rmtree(dst_dir)\n",
    "    if not os.path.exists(dst_dir) : os.makedirs(dst_dir)\n",
    "        \n",
    "    \n",
    "    sess = ElecpySession(\"/mnt/recordings/SimulationResult/\"+row.sim_id, keys=['vmem', 'cell/xina'])\n",
    "    sess.setRange(\n",
    "        x_min = row.x_min,\n",
    "        x_max = row.x_max,\n",
    "        y_min = row.y_min,\n",
    "        y_max = row.y_max\n",
    "    )\n",
    "    \n",
    "    analyzeSession(sess, save_dir=dst_dir)\n",
    "    sess.setRange(\n",
    "        f_min = row.f_min,\n",
    "        f_max = row.f_max,\n",
    "    )\n",
    "\n",
    "    p = sess.data['phase']\n",
    "    \n",
    "    ### Vmem(raw) ###\n",
    "    if False:\n",
    "        path = os.path.join(dst_dir,'vmem_raw')\n",
    "        if not os.path.exists(path) : os.mkdir(path)\n",
    "        vmin = sess.data['vmem'].min()\n",
    "        vmax = sess.data['vmem'].max()\n",
    "        for f, vmem in enumerate(sess.data['vmem']):\n",
    "            plt.imsave(os.path.join(path, '{0:0>4}.png'.format(f)), vmem, cmap='gray', vmin=vmin, vmax=vmax)\n",
    "    \n",
    "    \n",
    "    ### 3D phase plot ###\n",
    "    for angle in range(4):\n",
    "\n",
    "        path = os.path.join(dst_dir,'psurf_{0}'.format(angle))\n",
    "        if not os.path.exists(path) : os.mkdir(path)\n",
    "\n",
    "        for frame in range(row.f_max-row.f_min):\n",
    "\n",
    "            plt.clf()\n",
    "            plot_phase_surface(sess, frame, angle=angle)\n",
    "            plt.savefig(os.path.join(path, '{0:0>6}.png'.format(frame)))\n",
    "    continue\n",
    "\n",
    "    ### integral of time differential ###\n",
    "    p = sess.data['phase']\n",
    "    pdiff = copy.deepcopy(p)\n",
    "    for f in range(len(pdiff)):\n",
    "        if f == 0: \n",
    "            pdiff[f,:,:] = 0\n",
    "        else:\n",
    "            pdiff[f,:,:] = p[f,:,:] - p[f-1,:,:]\n",
    "    pdiff = phaseComplement(pdiff)\n",
    "    pinteg = abs(np.sum(pdiff, axis=0))\n",
    "    \n",
    "    plt.clf()\n",
    "    plt.imshow(pinteg, vmin=0, cmap='gray') # vmax=2*np.pi, \n",
    "    plt.colorbar()\n",
    "    plt.savefig(os.path.join(dst_dir, 'pinteg.png'))\n",
    "    \n",
    "    ### phase graph (time sequence) ###\n",
    "    pos_y, pos_x = np.where(pinteg > thre_phase_integ)\n",
    "    neg_y, neg_x = np.where(pinteg <= thre_phase_integ)\n",
    "    plt.clf()\n",
    "    plt.subplot(2,1,1)\n",
    "    for y, x in zip(neg_y, neg_x):\n",
    "        if x == p.shape[2]//2:\n",
    "            plt.plot(p[:,y,x], 'b')\n",
    "    plt.subplot(2,1,2)\n",
    "    for y, x in zip(pos_y, pos_x):\n",
    "        if x == p.shape[2]//2:\n",
    "            plt.plot(p[:,y,x], 'r')\n",
    "    plt.savefig(os.path.join(dst_dir, 'border_plot.png'))\n",
    "    plt.close()\n",
    "\n",
    "    \n",
    "    ### phase graph (circular plot) ###\n",
    "    path = os.path.join(dst_dir,'border_plot')\n",
    "    if not os.path.exists(path) : os.mkdir(path)\n",
    "    for f in range(len(p)):\n",
    "\n",
    "        plt.figure(figsize=(5,5))\n",
    "        plt.clf()\n",
    "\n",
    "        phases = np.arange(0,2*np.pi,np.pi/1024)\n",
    "        plt.scatter( np.cos(phases), np.sin(phases), c='k', s=.02)\n",
    "        \n",
    "        A = np.arange(-1.2, 1.2, 0.01)\n",
    "        plt.scatter( A, np.zeros_like(A), c='k', s=.02)\n",
    "        plt.scatter( np.zeros_like(A), A, c='k', s=.02)\n",
    "\n",
    "        pos_y, pos_x = np.where(pinteg > thre_phase_integ)\n",
    "        for y, x in zip(pos_y, pos_x):\n",
    "            if x == p.shape[2]//2:\n",
    "                phases = p[f,y,x]\n",
    "                plt.scatter( np.cos(phases), np.sin(phases), c='r', s=10)\n",
    "\n",
    "        neg_y, neg_x = np.where(pinteg <= thre_phase_integ)\n",
    "        for y, x in zip(neg_y, neg_x):\n",
    "            if x == p.shape[2]//2:\n",
    "                phases = p[f,y,x]\n",
    "                plt.scatter( np.cos(phases), np.sin(phases), c='b', s=10)\n",
    "\n",
    "        plt.axis('equal')\n",
    "        plt.axis([-1.2, 1.2, -1.2, 1.2])\n",
    "        plt.savefig(os.path.join(path, '{0:0>6}.png'.format(f)))\n",
    "        plt.close()\n",
    "\n",
    "    ### spatial phase differential ###\n",
    "    path = os.path.join(dst_dir,'pdiff_xy')\n",
    "    if not os.path.exists(path) : os.mkdir(path)\n",
    "    for f in range(len(p)):\n",
    "        \n",
    "        pdiff_x = np.zeros_like(p[f,:,:], dtype=np.int)\n",
    "        pdiff_x[0,:] = 0\n",
    "        pdiff_x[1:,:] = ( np.abs( phaseComplement(p[f,1:,:] - p[f,:-1,:]) ) > (np.pi*2/4)) * 1\n",
    "        pdiff_y = np.zeros_like(p[f,:,:], dtype=np.int)\n",
    "        pdiff_y[:,0] = 0\n",
    "        pdiff_y[:,1:] = ( np.abs( phaseComplement(p[f,:,1:] - p[f,:,:-1]) ) > (np.pi*2/4)) * 1\n",
    "        \n",
    "        pdiff_xy = pdiff_x+pdiff_y\n",
    "        \n",
    "        plt.clf()\n",
    "        plt.imshow(pdiff_xy, vmin=0, vmax=2, cmap='gray')\n",
    "        plt.savefig(os.path.join(path, '{0:0>6}.png'.format(f)))\n",
    "        plt.close()\n",
    "        \n",
    "        \n",
    "    ### Sodium current integral ###\n",
    "    \n",
    "#     xina = abs(np.sum(sess.data[\"cell/xina\"], axis=0))\n",
    "#     plt.clf()\n",
    "#     plt.imshow(xina, cmap='gray')\n",
    "#     plt.colorbar()\n",
    "#     plt.savefig(os.path.join(dst_dir, 'xina.png'))\n",
    "    \n",
    "    plt.clf()\n",
    "    plt.imshow(np.sum(sess.data['pv'] > 0.6, axis=0)>0, cmap='gray')\n",
    "    plt.colorbar()\n",
    "    plt.savefig(os.path.join(dst_dir, 'traj.png'))\n",
    "    "
   ]
  }
 ],
 "metadata": {
  "kernelspec": {
   "display_name": "Python 2",
   "language": "python",
   "name": "python2"
  },
  "language_info": {
   "codemirror_mode": {
    "name": "ipython",
    "version": 2
   },
   "file_extension": ".py",
   "mimetype": "text/x-python",
   "name": "python",
   "nbconvert_exporter": "python",
   "pygments_lexer": "ipython2",
   "version": "2.7.13"
  }
 },
 "nbformat": 4,
 "nbformat_minor": 2
}
