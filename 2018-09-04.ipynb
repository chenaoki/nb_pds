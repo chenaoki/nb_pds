{
 "cells": [
  {
   "cell_type": "code",
   "execution_count": 2,
   "metadata": {
    "collapsed": false
   },
   "outputs": [],
   "source": [
    "#from util import *\n",
    "import os, shutil\n",
    "import pandas as pd\n",
    "\n",
    "from opmap.videoData import VideoData\n",
    "from opmap.vmemMap import VmemMap\n",
    "from opmap.phaseMap import PhaseMap\n",
    "from opmap.phaseVarianceMap import PhaseVarianceMap\n",
    "from elecpy.elecpySession import ElecpySession\n"
   ]
  },
  {
   "cell_type": "code",
   "execution_count": 3,
   "metadata": {
    "collapsed": true
   },
   "outputs": [],
   "source": [
    "from opmap.cmap import bipolar"
   ]
  },
  {
   "cell_type": "code",
   "execution_count": 911,
   "metadata": {
    "collapsed": true
   },
   "outputs": [],
   "source": [
    "import numpy as np\n",
    "import matplotlib.pyplot as plt\n",
    "import matplotlib.collections as mcoll\n",
    "import matplotlib.path as mpath\n",
    "import matplotlib.patches as patches\n",
    "from mpl_toolkits.mplot3d import Axes3D\n",
    "from mpl_toolkits.mplot3d import art3d\n",
    "from matplotlib import cm\n",
    "import copy\n",
    "\n",
    "%matplotlib inline"
   ]
  },
  {
   "cell_type": "code",
   "execution_count": 5,
   "metadata": {
    "collapsed": false
   },
   "outputs": [
    {
     "name": "stdout",
     "output_type": "stream",
     "text": [
      "/mnt/recordings/AnalysisResult/Tomii/2018-09-04/\n"
     ]
    }
   ],
   "source": [
    "src_dir = '/mnt/recordings/SimulationResult/'\n",
    "save_dir = '/mnt/recordings/AnalysisResult/Tomii/2018-09-04/'\n",
    "print(save_dir)\n",
    "if not os.path.exists(save_dir) : os.mkdir(save_dir)"
   ]
  },
  {
   "cell_type": "code",
   "execution_count": 6,
   "metadata": {
    "collapsed": true
   },
   "outputs": [],
   "source": [
    "\n",
    "def phaseComplement(value):\n",
    "    value -= (value > np.pi)*2*np.pi\n",
    "    value += (value < - np.pi)*2*np.pi\n",
    "    return value\n"
   ]
  },
  {
   "cell_type": "code",
   "execution_count": 7,
   "metadata": {
    "collapsed": false
   },
   "outputs": [],
   "source": [
    "def analyzeSession(sess, save_dir=None):\n",
    "    cam = VideoData(*sess.data['vmem'].shape)\n",
    "    cam.data = - sess.data['vmem']\n",
    "    v = VmemMap(cam);del(cam)\n",
    "    p = PhaseMap(v, width = v.data.shape[2]); \n",
    "    p.data = - p.data\n",
    "    pv = PhaseVarianceMap(p, size=3)\n",
    "    \n",
    "    if save_dir is not None:\n",
    "        v.saveImage( os.path.join(save_dir, 'vmem'))\n",
    "        p.saveImage( os.path.join(save_dir, 'pmap'))\n",
    "        pv.saveImage( os.path.join(save_dir, 'pvmap'))\n",
    "\n",
    "    sess.data['phase'] = p.data\n",
    "    sess.data['pv'] = pv.data"
   ]
  },
  {
   "cell_type": "code",
   "execution_count": 8,
   "metadata": {
    "collapsed": false
   },
   "outputs": [],
   "source": [
    "def plot_phase_surface(sess, frame, cut_thre = 2*np.pi*0.75, angle=0):\n",
    "    \n",
    "    fig = plt.figure(figsize=(15,10))\n",
    "    ax = fig.add_subplot(111, projection='3d')\n",
    "    ax.set_zlim3d(-np.pi, np.pi)\n",
    "\n",
    "    _, size_h, size_w = sess.data['phase'].shape\n",
    "\n",
    "    y = np.arange(size_h)\n",
    "    x = np.arange(size_w)\n",
    "    X, Y = np.meshgrid(x, y)\n",
    "    Z = sess.data['phase'][frame, ::-1, :]\n",
    "    \n",
    "    if angle is 1: Z = Z.T[:,::-1]\n",
    "    if angle is 2: Z = Z[::-1,::-1]\n",
    "    if angle is 3: Z = Z.T[::-1,:]\n",
    "\n",
    "    wire = ax.plot_wireframe(X, Y, Z)\n",
    "\n",
    "    nx, ny, _  = np.shape(wire._segments3d)\n",
    "    wire_x = np.array(wire._segments3d)[:, :, 0].ravel()\n",
    "    wire_y = np.array(wire._segments3d)[:, :, 1].ravel()\n",
    "    wire_z = np.array(wire._segments3d)[:, :, 2].ravel()\n",
    "    wire.remove()\n",
    "\n",
    "    # create data for a LineCollection\n",
    "    wire_x1 = np.vstack([wire_x, np.roll(wire_x, 1)])\n",
    "    wire_y1 = np.vstack([wire_y, np.roll(wire_y, 1)])\n",
    "    wire_z1 = np.vstack([wire_z, np.roll(wire_z, 1)])\n",
    "\n",
    "    to_delete = np.arange(0, nx*ny, ny)\n",
    "    wire_x1 = np.delete(wire_x1, to_delete, axis=1)\n",
    "    wire_y1 = np.delete(wire_y1, to_delete, axis=1)\n",
    "    wire_z1 = np.delete(wire_z1, to_delete, axis=1)\n",
    "    scalars = np.delete(wire_z, to_delete)\n",
    "\n",
    "    segs = np.array([list(zip(xl, yl, zl)) for xl, yl, zl in \\\n",
    "                 zip(wire_x1.T, wire_y1.T, wire_z1.T)])\n",
    "\n",
    "    # delete false phase discontinuity\n",
    "    to_delete = np.where( np.array([ abs( seg[0][2] - seg[1][2]) for seg in segs ]) > cut_thre)[0]\n",
    "    segs = np.delete( segs, to_delete, axis=0)\n",
    "    scalars = np.delete( scalars, to_delete)\n",
    "\n",
    "    # Plots the wireframe by a  a line3DCollection\n",
    "    my_wire = art3d.Line3DCollection(segs, cmap=\"jet\")\n",
    "    my_wire.set_array(scalars)\n",
    "    my_wire.set_clim(vmin=-np.pi, vmax=np.pi)\n",
    "    ax.add_collection(my_wire)\n",
    "\n",
    "    plt.colorbar(my_wire)\n",
    "\n"
   ]
  },
  {
   "cell_type": "markdown",
   "metadata": {},
   "source": [
    "## Check whole dynamics"
   ]
  },
  {
   "cell_type": "code",
   "execution_count": 7,
   "metadata": {
    "collapsed": false
   },
   "outputs": [
    {
     "data": {
      "text/html": [
       "<div>\n",
       "<table border=\"1\" class=\"dataframe\">\n",
       "  <thead>\n",
       "    <tr style=\"text-align: right;\">\n",
       "      <th></th>\n",
       "      <th>sim_id</th>\n",
       "      <th>gna</th>\n",
       "      <th>gkr</th>\n",
       "      <th>gks</th>\n",
       "      <th>description</th>\n",
       "    </tr>\n",
       "  </thead>\n",
       "  <tbody>\n",
       "    <tr>\n",
       "      <th>0</th>\n",
       "      <td>20180525-1</td>\n",
       "      <td>12.0</td>\n",
       "      <td>0.0125</td>\n",
       "      <td>0.13860</td>\n",
       "      <td>normal &lt;&lt;&lt; 20171128-1</td>\n",
       "    </tr>\n",
       "    <tr>\n",
       "      <th>1</th>\n",
       "      <td>20180616-1</td>\n",
       "      <td>10.0</td>\n",
       "      <td>0.0125</td>\n",
       "      <td>0.13860</td>\n",
       "      <td>vortex shedding &lt;&lt;&lt; 20171128-1</td>\n",
       "    </tr>\n",
       "    <tr>\n",
       "      <th>2</th>\n",
       "      <td>20180625-1</td>\n",
       "      <td>15.6</td>\n",
       "      <td>0.0088</td>\n",
       "      <td>0.09702</td>\n",
       "      <td>APD prolongation &lt;&lt;&lt; 20171128-1</td>\n",
       "    </tr>\n",
       "    <tr>\n",
       "      <th>3</th>\n",
       "      <td>20180823-1</td>\n",
       "      <td>12.0</td>\n",
       "      <td>0.0125</td>\n",
       "      <td>0.13860</td>\n",
       "      <td>pinning &lt;&lt;&lt; 20171128-1</td>\n",
       "    </tr>\n",
       "  </tbody>\n",
       "</table>\n",
       "</div>"
      ],
      "text/plain": [
       "       sim_id   gna     gkr      gks                      description\n",
       "0  20180525-1  12.0  0.0125  0.13860            normal <<< 20171128-1\n",
       "1  20180616-1  10.0  0.0125  0.13860   vortex shedding <<< 20171128-1\n",
       "2  20180625-1  15.6  0.0088  0.09702  APD prolongation <<< 20171128-1\n",
       "3  20180823-1  12.0  0.0125  0.13860           pinning <<< 20171128-1"
      ]
     },
     "execution_count": 7,
     "metadata": {},
     "output_type": "execute_result"
    }
   ],
   "source": [
    "df = pd.read_csv('data.whole.csv')\n",
    "df"
   ]
  },
  {
   "cell_type": "code",
   "execution_count": 12,
   "metadata": {
    "collapsed": false
   },
   "outputs": [
    {
     "name": "stdout",
     "output_type": "stream",
     "text": [
      "/mnt/recordings/AnalysisResult/Tomii/2018-09-04/20180525-1\n",
      "/mnt/recordings/AnalysisResult/Tomii/2018-09-04/20180616-1\n",
      "/mnt/recordings/AnalysisResult/Tomii/2018-09-04/20180616-1\n",
      "/mnt/recordings/AnalysisResult/Tomii/2018-09-04/20180625-1\n",
      "/mnt/recordings/AnalysisResult/Tomii/2018-09-04/20180625-1\n",
      "/mnt/recordings/AnalysisResult/Tomii/2018-09-04/20180625-1\n",
      "/mnt/recordings/AnalysisResult/Tomii/2018-09-04/20180823-1\n"
     ]
    },
    {
     "data": {
      "image/png": "[encoded data removed]",
      "text/plain": [
       "<matplotlib.figure.Figure at 0x7fedb532f6d0>"
      ]
     },
     "metadata": {},
     "output_type": "display_data"
    }
   ],
   "source": [
    "\n",
    "for i, row in df.iterrows():\n",
    "    \n",
    "    #if i not in [3]: continue\n",
    "    \n",
    "    dst_dir = os.path.join(save_dir, '{0}'.format(row['sim_id']))\n",
    "    print(dst_dir)\n",
    "    #if os.path.exists(dst_dir) : shutil.rmtree(dst_dir)\n",
    "    if not os.path.exists(dst_dir) : os.makedirs(dst_dir)\n",
    "        \n",
    "    sess = ElecpySession( os.path.join(src_dir, row.sim_id), keys=['vmem'])\n",
    "    \n",
    "    analyzeSession(sess, save_dir=dst_dir)\n",
    "    \n",
    "    plt.imshow(np.sum(sess.data['pv'][100:-100,:,:] > 0.3, axis=0), cmap='gray')\n",
    "    plt.savefig(os.path.join(dst_dir, 'traj.png'))\n",
    "    "
   ]
  },
  {
   "cell_type": "markdown",
   "metadata": {},
   "source": [
    "## Check region detail"
   ]
  },
  {
   "cell_type": "code",
   "execution_count": 939,
   "metadata": {
    "collapsed": false
   },
   "outputs": [
    {
     "data": {
      "text/html": [
       "<div>\n",
       "<table border=\"1\" class=\"dataframe\">\n",
       "  <thead>\n",
       "    <tr style=\"text-align: right;\">\n",
       "      <th></th>\n",
       "      <th>sim_id</th>\n",
       "      <th>x_min</th>\n",
       "      <th>x_max</th>\n",
       "      <th>y_min</th>\n",
       "      <th>y_max</th>\n",
       "      <th>f_min</th>\n",
       "      <th>f_max</th>\n",
       "      <th>result_id</th>\n",
       "      <th>description</th>\n",
       "    </tr>\n",
       "  </thead>\n",
       "  <tbody>\n",
       "    <tr>\n",
       "      <th>0</th>\n",
       "      <td>20180525-1</td>\n",
       "      <td>135</td>\n",
       "      <td>165</td>\n",
       "      <td>85</td>\n",
       "      <td>115</td>\n",
       "      <td>290</td>\n",
       "      <td>330</td>\n",
       "      <td>-</td>\n",
       "      <td>control</td>\n",
       "    </tr>\n",
       "    <tr>\n",
       "      <th>1</th>\n",
       "      <td>20180823-1</td>\n",
       "      <td>80</td>\n",
       "      <td>120</td>\n",
       "      <td>80</td>\n",
       "      <td>120</td>\n",
       "      <td>105</td>\n",
       "      <td>175</td>\n",
       "      <td>A</td>\n",
       "      <td>pinning</td>\n",
       "    </tr>\n",
       "    <tr>\n",
       "      <th>2</th>\n",
       "      <td>20180625-1</td>\n",
       "      <td>110</td>\n",
       "      <td>150</td>\n",
       "      <td>80</td>\n",
       "      <td>120</td>\n",
       "      <td>120</td>\n",
       "      <td>160</td>\n",
       "      <td>C</td>\n",
       "      <td>meandering</td>\n",
       "    </tr>\n",
       "    <tr>\n",
       "      <th>3</th>\n",
       "      <td>20180625-1</td>\n",
       "      <td>160</td>\n",
       "      <td>200</td>\n",
       "      <td>80</td>\n",
       "      <td>120</td>\n",
       "      <td>220</td>\n",
       "      <td>260</td>\n",
       "      <td>D</td>\n",
       "      <td>spiral stop</td>\n",
       "    </tr>\n",
       "    <tr>\n",
       "      <th>4</th>\n",
       "      <td>20180616-1</td>\n",
       "      <td>80</td>\n",
       "      <td>120</td>\n",
       "      <td>80</td>\n",
       "      <td>120</td>\n",
       "      <td>360</td>\n",
       "      <td>400</td>\n",
       "      <td>B</td>\n",
       "      <td>over the trajectory of vortex shedding</td>\n",
       "    </tr>\n",
       "  </tbody>\n",
       "</table>\n",
       "</div>"
      ],
      "text/plain": [
       "       sim_id  x_min  x_max  y_min  y_max  f_min  f_max  result_id  \\\n",
       "0  20180525-1    135    165     85    115    290    330          -   \n",
       "1  20180823-1     80    120     80    120    105    175          A   \n",
       "2  20180625-1    110    150     80    120    120    160          C   \n",
       "3  20180625-1    160    200     80    120    220    260          D   \n",
       "4  20180616-1     80    120     80    120    360    400          B   \n",
       "\n",
       "                               description  \n",
       "0                                  control  \n",
       "1                                  pinning  \n",
       "2                               meandering  \n",
       "3                             spiral stop   \n",
       "4   over the trajectory of vortex shedding  "
      ]
     },
     "execution_count": 939,
     "metadata": {},
     "output_type": "execute_result"
    }
   ],
   "source": [
    "df = pd.read_csv('data.roi.csv')\n",
    "df"
   ]
  },
  {
   "cell_type": "code",
   "execution_count": 940,
   "metadata": {
    "collapsed": true
   },
   "outputs": [],
   "source": [
    "thre_phase_integ = np.pi*1.5"
   ]
  },
  {
   "cell_type": "code",
   "execution_count": 941,
   "metadata": {
    "collapsed": false,
    "scrolled": true
   },
   "outputs": [
    {
     "name": "stdout",
     "output_type": "stream",
     "text": [
      "/mnt/recordings/AnalysisResult/Tomii/2018-09-04/20180823-1/x80-120_y80-120_f105-175\n",
      "('cell/xina', 201, 201)\n",
      "/mnt/recordings/AnalysisResult/Tomii/2018-09-04/20180625-1/x110-150_y80-120_f120-160\n",
      "('cell/xina', 501, 501)\n",
      "/mnt/recordings/AnalysisResult/Tomii/2018-09-04/20180625-1/x160-200_y80-120_f220-260\n",
      "('cell/xina', 501, 501)\n",
      "/mnt/recordings/AnalysisResult/Tomii/2018-09-04/20180616-1/x80-120_y80-120_f360-400\n",
      "('cell/xina', 1001, 1001)\n"
     ]
    },
    {
     "data": {
      "text/plain": [
       "<matplotlib.figure.Figure at 0x7fdd39880450>"
      ]
     },
     "metadata": {},
     "output_type": "display_data"
    }
   ],
   "source": [
    "for i, row in df.iterrows():\n",
    "    \n",
    "    if i not in range(1,5): continue\n",
    "    \n",
    "    dst_dir = os.path.join(save_dir, '{0}'.format(row['sim_id']))\n",
    "    dst_dir = os.path.join(dst_dir, 'x{0}-{1}_y{2}-{3}_f{4}-{5}'.format(\n",
    "        row.x_min,row.x_max,\n",
    "        row.y_min,row.y_max,\n",
    "        row.f_min,row.f_max,\n",
    "    ))\n",
    "    print(dst_dir)\n",
    "    #if os.path.exists(dst_dir) : shutil.rmtree(dst_dir)\n",
    "    if not os.path.exists(dst_dir) : os.makedirs(dst_dir)\n",
    "        \n",
    "    \n",
    "    sess = ElecpySession(\"/mnt/recordings/SimulationResult/\"+row.sim_id, keys=['vmem', 'cell/xina'])\n",
    "    sess.setRange(\n",
    "        x_min = row.x_min,\n",
    "        x_max = row.x_max,\n",
    "        y_min = row.y_min,\n",
    "        y_max = row.y_max\n",
    "    )\n",
    "    \n",
    "    analyzeSession(sess, save_dir=dst_dir)\n",
    "    sess.setRange(\n",
    "        f_min = row.f_min,\n",
    "        f_max = row.f_max,\n",
    "    )\n",
    "\n",
    "    p = sess.data['phase']\n",
    "    \n",
    "    ### Vmem(raw) ###\n",
    "    if False:\n",
    "        path = os.path.join(dst_dir,'vmem_raw')\n",
    "        if not os.path.exists(path) : os.mkdir(path)\n",
    "        vmin = sess.data['vmem'].min()\n",
    "        vmax = sess.data['vmem'].max()\n",
    "        for f, vmem in enumerate(sess.data['vmem']):\n",
    "            plt.imsave(\n",
    "                os.path.join(path, '{0:0>4}.png'.format(f)), \n",
    "                vmem, \n",
    "                cmap=bipolar(neutral=0, lutsize=1024),\n",
    "                vmin=vmin, vmax=vmax)\n",
    "    \n",
    "    ### 3D phase plot ###\n",
    "    if False:\n",
    "        for angle in range(4):\n",
    "\n",
    "            path = os.path.join(dst_dir,'psurf_{0}'.format(angle))\n",
    "            if not os.path.exists(path) : os.mkdir(path)\n",
    "\n",
    "            for frame in range(row.f_max-row.f_min):\n",
    "\n",
    "                plt.clf()\n",
    "                plot_phase_surface(sess, frame, angle=angle)\n",
    "                plt.savefig(os.path.join(path, '{0:0>6}.png'.format(frame)))\n",
    "\n",
    "    ### integral of time differential ###\n",
    "    if False:\n",
    "        p = sess.data['phase']\n",
    "        v = sess.data['vmem']\n",
    "        pdiff = copy.deepcopy(p)\n",
    "        for f in range(len(pdiff)):\n",
    "            if f == 0: \n",
    "                pdiff[f,:,:] = 0\n",
    "            else:\n",
    "                pdiff[f,:,:] = p[f,:,:] - p[f-1,:,:]\n",
    "        pdiff = phaseComplement(pdiff)\n",
    "        pinteg = abs(np.sum(pdiff, axis=0))\n",
    "\n",
    "        plt.clf()\n",
    "        plt.imshow(pinteg, vmin=0, cmap='gray') # vmax=2*np.pi, \n",
    "        plt.colorbar()\n",
    "        plt.savefig(os.path.join(dst_dir, 'pinteg.png'))\n",
    "    \n",
    "        pos_y, pos_x = np.where(pinteg > thre_phase_integ)\n",
    "        neg_y, neg_x = np.where(pinteg <= thre_phase_integ)\n",
    "        \n",
    "        plt.clf()\n",
    "        plt.subplot(2,2,1)\n",
    "        for y, x in zip(neg_y, neg_x):\n",
    "            if x == p.shape[2]//2:\n",
    "                plt.plot(v[:,y,x], 'b')\n",
    "                plt.ylim([v.min(), 20])\n",
    "        plt.subplot(2,2,2)\n",
    "        for y, x in zip(neg_y, neg_x):\n",
    "            if x == p.shape[2]//2:\n",
    "                plt.plot(p[:,y,x], 'b')\n",
    "        plt.subplot(2,2,3)\n",
    "        for y, x in zip(pos_y, pos_x):\n",
    "            if x == p.shape[2]//2:\n",
    "                plt.plot(v[:,y,x], 'r')\n",
    "                plt.ylim([v.min(), 20])\n",
    "        plt.subplot(2,2,4)\n",
    "        for y, x in zip(pos_y, pos_x):\n",
    "            if x == p.shape[2]//2:\n",
    "                plt.plot(p[:,y,x], 'r')\n",
    "        plt.savefig(os.path.join(dst_dir, 'border_plot.png'))\n",
    "        plt.close()\n",
    "\n",
    "    \n",
    "    ### phase graph (circular plot) ###\n",
    "    if False:\n",
    "        path = os.path.join(dst_dir,'border_plot')\n",
    "        if not os.path.exists(path) : os.mkdir(path)\n",
    "        for f in range(len(p)):\n",
    "\n",
    "            plt.figure(figsize=(5,5))\n",
    "            plt.clf()\n",
    "\n",
    "            phases = np.arange(0,2*np.pi,np.pi/1024)\n",
    "            plt.scatter( np.cos(phases), np.sin(phases), c='k', s=.02)\n",
    "\n",
    "            A = np.arange(-1.2, 1.2, 0.01)\n",
    "            plt.scatter( A, np.zeros_like(A), c='k', s=.02)\n",
    "            plt.scatter( np.zeros_like(A), A, c='k', s=.02)\n",
    "\n",
    "            pos_y, pos_x = np.where(pinteg > thre_phase_integ)\n",
    "            for y, x in zip(pos_y, pos_x):\n",
    "                if x == p.shape[2]//2:\n",
    "                    phases = p[f,y,x]\n",
    "                    plt.scatter( np.cos(phases), np.sin(phases), c='r', s=10)\n",
    "\n",
    "            neg_y, neg_x = np.where(pinteg <= thre_phase_integ)\n",
    "            for y, x in zip(neg_y, neg_x):\n",
    "                if x == p.shape[2]//2:\n",
    "                    phases = p[f,y,x]\n",
    "                    plt.scatter( np.cos(phases), np.sin(phases), c='b', s=10)\n",
    "\n",
    "            plt.axis('equal')\n",
    "            plt.axis([-1.2, 1.2, -1.2, 1.2])\n",
    "            plt.savefig(os.path.join(path, '{0:0>6}.png'.format(f)))\n",
    "            plt.close()\n",
    "\n",
    "    ### spatial phase differential ###\n",
    "    if True:\n",
    "        path = os.path.join(dst_dir,'polarity')\n",
    "        if not os.path.exists(path) : os.mkdir(path)\n",
    "\n",
    "        H = p.shape[1]\n",
    "        W = p.shape[2]\n",
    "        pdiff_x = np.zeros(( H  , W-1))\n",
    "        pdiff_y = np.zeros(( H-1, W  ))\n",
    "        plt.clf()\n",
    "        \n",
    "        for f in range(len(p)):\n",
    "\n",
    "            plt.clf()\n",
    "            fig, ax = plt.subplots(figsize=(10,10))\n",
    "            plt.axis('equal')\n",
    "            ax = plt.gca()\n",
    "            plt.axis([0, H, 0, W])\n",
    "            ax.tick_params(labelbottom=\"off\", labelleft=\"off\")\n",
    "            ax.tick_params(bottom=\"off\", left=\"off\")\n",
    "            ax.tick_params(top=\"off\", right=\"off\")\n",
    "            ax.axis(\"off\")\n",
    "            #plt.style.use('dark_background')\n",
    "\n",
    "            #plt.subplot(121)\n",
    "            #plt.imshow(p[f], cmap='jet', vmin=-np.pi, vmax=np.pi)\n",
    "            #plt.subplot(122)\n",
    "            cm = bipolar(neutral=0, lutsize=1024)\n",
    "            pdiff_y = p[f,1:,:] - p[f,:-1,:]\n",
    "            pdiff_x = p[f,:,1:] - p[f,:,:-1]\n",
    "\n",
    "            plt.plot( [0,0,W,W,0], [0,H,H,0,0], linewidth=5, color='black')\n",
    "            \n",
    "            for j in range(W-1):\n",
    "                \n",
    "                x = np.ones(H+1)*(j+1)\n",
    "                y = np.arange(H+1)\n",
    "                \n",
    "                points = np.array([x, y]).T.reshape(-1, 1, 2)\n",
    "                segments = np.concatenate([points[:-1], points[1:]], axis=1)\n",
    "                \n",
    "                lc = mcoll.LineCollection(\n",
    "                    segments, array=-np.cos(pdiff_x[::-1,j]), \n",
    "                    cmap=plt.cm.coolwarm, \n",
    "                    norm=plt.Normalize(-1.25, 1.0),\n",
    "                    linewidth=5, alpha=1.0)\n",
    "                ax.add_collection(lc)\n",
    "                \n",
    "            for i in range(H-1):\n",
    "                \n",
    "                y = np.ones(W+1)*(i+1)\n",
    "                x = np.arange(W+1)\n",
    "                \n",
    "                points = np.array([x, y]).T.reshape(-1, 1, 2)\n",
    "                segments = np.concatenate([points[:-1], points[1:]], axis=1)\n",
    "                \n",
    "                lc = mcoll.LineCollection(\n",
    "                    segments, \n",
    "                    array=-np.cos(pdiff_y[-1-i,:]), \n",
    "                    cmap=plt.cm.coolwarm, \n",
    "                    norm=plt.Normalize(-1.25, 1.0),\n",
    "                    linewidth=5, alpha=1.0)\n",
    "                ax.add_collection(lc)    \n",
    "\n",
    "            plt.savefig(\n",
    "                os.path.join(path, '{0:0>6}.png'.format(f)),\n",
    "                transparent=True, \n",
    "                bbox_inches='tight'\n",
    "            )\n",
    "            plt.close()\n",
    "        \n",
    "        \n",
    "    ### Trajectory ###\n",
    "    if False:\n",
    "        plt.clf()\n",
    "        plt.imshow(np.sum(sess.data['pv'], axis=0)>0, cmap='gray')\n",
    "        plt.colorbar()\n",
    "        plt.savefig(os.path.join(dst_dir, 'traj.png'))\n",
    "    "
   ]
  },
  {
   "cell_type": "markdown",
   "metadata": {},
   "source": [
    "## Total sodium current"
   ]
  },
  {
   "cell_type": "code",
   "execution_count": 190,
   "metadata": {
    "collapsed": false
   },
   "outputs": [
    {
     "data": {
      "text/html": [
       "<div>\n",
       "<table border=\"1\" class=\"dataframe\">\n",
       "  <thead>\n",
       "    <tr style=\"text-align: right;\">\n",
       "      <th></th>\n",
       "      <th>sim_id</th>\n",
       "      <th>x_min</th>\n",
       "      <th>x_max</th>\n",
       "      <th>y_min</th>\n",
       "      <th>y_max</th>\n",
       "      <th>f_min</th>\n",
       "      <th>f_max</th>\n",
       "      <th>result_id</th>\n",
       "      <th>description</th>\n",
       "    </tr>\n",
       "  </thead>\n",
       "  <tbody>\n",
       "    <tr>\n",
       "      <th>0</th>\n",
       "      <td>20180910-1</td>\n",
       "      <td>80</td>\n",
       "      <td>120</td>\n",
       "      <td>80</td>\n",
       "      <td>120</td>\n",
       "      <td>1050</td>\n",
       "      <td>1690</td>\n",
       "      <td>B</td>\n",
       "      <td>pinning</td>\n",
       "    </tr>\n",
       "  </tbody>\n",
       "</table>\n",
       "</div>"
      ],
      "text/plain": [
       "       sim_id  x_min  x_max  y_min  y_max  f_min  f_max  result_id  \\\n",
       "0  20180910-1     80    120     80    120   1050   1690          B   \n",
       "\n",
       "   description  \n",
       "0      pinning  "
      ]
     },
     "execution_count": 190,
     "metadata": {},
     "output_type": "execute_result"
    }
   ],
   "source": [
    "df = pd.read_csv('data.roi-Ina.csv')\n",
    "df"
   ]
  },
  {
   "cell_type": "code",
   "execution_count": 29,
   "metadata": {
    "collapsed": false
   },
   "outputs": [
    {
     "name": "stdout",
     "output_type": "stream",
     "text": [
      "/mnt/recordings/AnalysisResult/Tomii/2018-09-04/20180910-1/x80-120_y80-120_f1050-1690\n",
      "('cell/xina', 2001, 2001)\n"
     ]
    },
    {
     "data": {
      "image/png": "[encoded data removed]",
      "text/plain": [
       "<matplotlib.figure.Figure at 0x7f803ee679d0>"
      ]
     },
     "metadata": {},
     "output_type": "display_data"
    }
   ],
   "source": [
    "for i, row in df.iterrows():\n",
    "    \n",
    "    dst_dir = os.path.join(save_dir, '{0}'.format(row['sim_id']))\n",
    "    dst_dir = os.path.join(dst_dir, 'x{0}-{1}_y{2}-{3}_f{4}-{5}'.format(\n",
    "        row.x_min,row.x_max,\n",
    "        row.y_min,row.y_max,\n",
    "        row.f_min,row.f_max,\n",
    "    ))\n",
    "    print(dst_dir)\n",
    "    #if os.path.exists(dst_dir) : shutil.rmtree(dst_dir)\n",
    "    if not os.path.exists(dst_dir) : os.makedirs(dst_dir)\n",
    "        \n",
    "    \n",
    "    sess = ElecpySession(\"/mnt/recordings/SimulationResult/\"+row.sim_id, keys=['vmem', 'cell/xina'])\n",
    "    sess.setRange(\n",
    "        x_min = row.x_min,\n",
    "        x_max = row.x_max,\n",
    "        y_min = row.y_min,\n",
    "        y_max = row.y_max,\n",
    "        f_min = row.f_min,\n",
    "        f_max = row.f_max,\n",
    "    )\n",
    "\n",
    "    \n",
    "    ### Sodium current integral ###\n",
    "    \n",
    "    xina = abs(np.sum(sess.data[\"cell/xina\"], axis=0))\n",
    "    plt.clf()\n",
    "    plt.imshow(xina, cmap='gray')\n",
    "    plt.colorbar()\n",
    "    plt.savefig(os.path.join(dst_dir, 'xina.png'))\n",
    "    "
   ]
  },
  {
   "cell_type": "markdown",
   "metadata": {},
   "source": [
    "## Shift speed analysis"
   ]
  },
  {
   "cell_type": "code",
   "execution_count": 870,
   "metadata": {
    "collapsed": true
   },
   "outputs": [],
   "source": [
    "r = 5"
   ]
  },
  {
   "cell_type": "code",
   "execution_count": 942,
   "metadata": {
    "collapsed": false
   },
   "outputs": [
    {
     "data": {
      "text/html": [
       "<div>\n",
       "<table border=\"1\" class=\"dataframe\">\n",
       "  <thead>\n",
       "    <tr style=\"text-align: right;\">\n",
       "      <th></th>\n",
       "      <th>sim_id</th>\n",
       "      <th>x_min</th>\n",
       "      <th>x_max</th>\n",
       "      <th>y_min</th>\n",
       "      <th>y_max</th>\n",
       "      <th>f_min</th>\n",
       "      <th>f_max</th>\n",
       "      <th>result_id</th>\n",
       "      <th>description</th>\n",
       "    </tr>\n",
       "  </thead>\n",
       "  <tbody>\n",
       "    <tr>\n",
       "      <th>0</th>\n",
       "      <td>20180525-1</td>\n",
       "      <td>135</td>\n",
       "      <td>165</td>\n",
       "      <td>85</td>\n",
       "      <td>115</td>\n",
       "      <td>290</td>\n",
       "      <td>330</td>\n",
       "      <td>-</td>\n",
       "      <td>control</td>\n",
       "    </tr>\n",
       "    <tr>\n",
       "      <th>1</th>\n",
       "      <td>20180823-1</td>\n",
       "      <td>80</td>\n",
       "      <td>120</td>\n",
       "      <td>80</td>\n",
       "      <td>120</td>\n",
       "      <td>105</td>\n",
       "      <td>175</td>\n",
       "      <td>A</td>\n",
       "      <td>pinning</td>\n",
       "    </tr>\n",
       "    <tr>\n",
       "      <th>2</th>\n",
       "      <td>20180625-1</td>\n",
       "      <td>10</td>\n",
       "      <td>190</td>\n",
       "      <td>10</td>\n",
       "      <td>190</td>\n",
       "      <td>50</td>\n",
       "      <td>200</td>\n",
       "      <td>C</td>\n",
       "      <td>meandering</td>\n",
       "    </tr>\n",
       "    <tr>\n",
       "      <th>3</th>\n",
       "      <td>20180625-1</td>\n",
       "      <td>160</td>\n",
       "      <td>200</td>\n",
       "      <td>80</td>\n",
       "      <td>120</td>\n",
       "      <td>220</td>\n",
       "      <td>244</td>\n",
       "      <td>D</td>\n",
       "      <td>spiral stop</td>\n",
       "    </tr>\n",
       "    <tr>\n",
       "      <th>4</th>\n",
       "      <td>20180616-1</td>\n",
       "      <td>0</td>\n",
       "      <td>200</td>\n",
       "      <td>0</td>\n",
       "      <td>200</td>\n",
       "      <td>22</td>\n",
       "      <td>520</td>\n",
       "      <td>B</td>\n",
       "      <td>over the trajectory of vortex shedding</td>\n",
       "    </tr>\n",
       "  </tbody>\n",
       "</table>\n",
       "</div>"
      ],
      "text/plain": [
       "       sim_id  x_min  x_max  y_min  y_max  f_min  f_max  result_id  \\\n",
       "0  20180525-1    135    165     85    115    290    330          -   \n",
       "1  20180823-1     80    120     80    120    105    175          A   \n",
       "2  20180625-1     10    190     10    190     50    200          C   \n",
       "3  20180625-1    160    200     80    120    220    244          D   \n",
       "4  20180616-1      0    200      0    200     22    520          B   \n",
       "\n",
       "                               description  \n",
       "0                                  control  \n",
       "1                                  pinning  \n",
       "2                               meandering  \n",
       "3                             spiral stop   \n",
       "4   over the trajectory of vortex shedding  "
      ]
     },
     "execution_count": 942,
     "metadata": {},
     "output_type": "execute_result"
    }
   ],
   "source": [
    "df = pd.read_csv('data.roi-speed.csv')\n",
    "df"
   ]
  },
  {
   "cell_type": "code",
   "execution_count": 943,
   "metadata": {
    "collapsed": false,
    "scrolled": false
   },
   "outputs": [],
   "source": [
    "def lkf2d(Y):\n",
    "\n",
    "    A = np.eye(4)\n",
    "    A[0,2] = 1.\n",
    "    A[1,3] = 1.\n",
    "    B = np.eye(4)\n",
    "    Q = np.eye(4)\n",
    "    C = np.eye(4)\n",
    "    R = np.eye(4)*2.0\n",
    "    C = np.eye(4)\n",
    "    R = np.eye(4)\n",
    "\n",
    "    Sigma = np.zeros((4,4))\n",
    "    mu = Y[0]\n",
    "    M = [mu]\n",
    "\n",
    "    for i in range(1,len(Y),1):\n",
    "\n",
    "        # 推定\n",
    "        mu_ = np.dot(A, mu) #+ np.dot(B, U[i])\n",
    "        Sigma_ = Q + np.dot(np.dot(A , Sigma) , A.T)\n",
    "\n",
    "        # 更新\n",
    "        yi = Y[i][:,np.newaxis] - np.dot(C , mu_)\n",
    "        S = np.dot(np.dot(C , Sigma_), C.T) + R\n",
    "        K = np.dot(np.dot(Sigma_ , C.T) , np.linalg.inv(S))\n",
    "        mu = mu_ + np.dot( K , yi )\n",
    "        Sigma = Sigma_ - np.dot( np.dot(K , C) , Sigma_)\n",
    "        M.append(mu[:,0])\n",
    "\n",
    "    M = np.array(M)\n",
    "    return M\n"
   ]
  },
  {
   "cell_type": "code",
   "execution_count": 944,
   "metadata": {
    "collapsed": false
   },
   "outputs": [
    {
     "name": "stdout",
     "output_type": "stream",
     "text": [
      "/mnt/recordings/AnalysisResult/Tomii/2018-09-04/20180616-1/x0-200_y0-200_f22-520\n",
      "('cell/xina', 1001, 1001)\n"
     ]
    }
   ],
   "source": [
    "for i, row in df.iterrows():\n",
    "    \n",
    "    if not i in [4]: continue\n",
    "        \n",
    "    dst_dir = os.path.join(save_dir, '{0}'.format(row['sim_id']))\n",
    "    dst_dir = os.path.join(dst_dir, 'x{0}-{1}_y{2}-{3}_f{4}-{5}'.format(\n",
    "        row.x_min,row.x_max,\n",
    "        row.y_min,row.y_max,\n",
    "        row.f_min,row.f_max,\n",
    "    ))\n",
    "    print(dst_dir)\n",
    "    #if os.path.exists(dst_dir) : shutil.rmtree(dst_dir)\n",
    "    if not os.path.exists(dst_dir) : os.makedirs(dst_dir)\n",
    "\n",
    "\n",
    "    sess = ElecpySession(\"/mnt/recordings/SimulationResult/\"+row.sim_id, keys=['vmem', 'cell/xina'])\n",
    "    sess.setRange(\n",
    "        x_min = row.x_min,\n",
    "        x_max = row.x_max,\n",
    "        y_min = row.y_min,\n",
    "        y_max = row.y_max\n",
    "    )\n",
    "\n",
    "    analyzeSession(sess)\n",
    "    sess.setRange(\n",
    "        f_min = row.f_min,\n",
    "        f_max = row.f_max,\n",
    "    )"
   ]
  },
  {
   "cell_type": "code",
   "execution_count": 955,
   "metadata": {
    "collapsed": false
   },
   "outputs": [
    {
     "data": {
      "text/plain": [
       "<matplotlib.figure.Figure at 0x7fdd9cdf3d90>"
      ]
     },
     "metadata": {},
     "output_type": "display_data"
    }
   ],
   "source": [
    "pv=sess.data['pv']\n",
    "p = sess.data['phase']\n",
    "L,H,W=pv.shape\n",
    "\n",
    "traj = np.array([ np.unravel_index(im.argmax(), im.shape) for im in pv])\n",
    "tran = traj[1:,:] - traj[:-1,:]\n",
    "#speed = np.linalg.norm((tran[1:,:] + tran[:-1,:])/2., axis=1)\n",
    "\n",
    "Y = np.concatenate( (traj[:-1,:], tran ), axis=1)\n",
    "M = lkf2d(Y)\n",
    "speed = np.linalg.norm( M[:,2:], axis=1)\n",
    "\n",
    "\n",
    "## bipolarity on center\n",
    "path = os.path.join(dst_dir,'polarity_center')\n",
    "path_t = os.path.join(dst_dir,'trajectory')\n",
    "if not os.path.exists(path) : os.mkdir(path)\n",
    "if not os.path.exists(path_t) : os.mkdir(path_t)\n",
    "out = []\n",
    "for f, im in enumerate(pv):\n",
    "\n",
    "    gy, gx = traj[f,:]\n",
    "    #print((gx, gy))\n",
    "\n",
    "    if (gy-r) < 0 or (gx-r) < 0 or (gy+r) > H or (gx+r) > W or f <= 0 or f >= len(pv)-1: continue\n",
    "\n",
    "    pdiff_x = (p[f,:,gx-r+1:gx+r] - p[f,:,gx-r:gx+r-1])[gy-r:gy+r,:]\n",
    "    pdiff_y = (p[f,gy-r+1:gy+r,:] - p[f,gy-r:gy+r-1,:])[:,gx-r:gx+r]\n",
    "\n",
    "    ## mean bipolarity\n",
    "    thre = -np.cos(np.pi-.8*np.pi)\n",
    "    pdiff = np.concatenate( (pdiff_x.flatten(),pdiff_y.flatten()), axis=0)\n",
    "    B = -np.cos(pdiff)\n",
    "    l = np.mean( B )\n",
    "    out.append( [speed[f-1], l ])\n",
    "    \n",
    "    ## plot trajecory\n",
    "    plt.clf()\n",
    "    fig, ax = plt.subplots(figsize=(10,10))\n",
    "    plt.axis('equal')\n",
    "    ax = plt.gca()\n",
    "    plt.axis([0, H, 0, W])\n",
    "    #ax.tick_params(labelbottom=\"off\", labelleft=\"off\")\n",
    "    #ax.tick_params(bottom=\"off\", left=\"off\")\n",
    "    #ax.tick_params(top=\"off\", right=\"off\")\n",
    "    #ax.axis(\"off\")\n",
    "    \n",
    "    f_start = max(f-30, 0)\n",
    "    gys = traj[f_start:f, 0]\n",
    "    gxs = traj[f_start:f, 1]\n",
    "    plt.scatter(gxs, gys, \n",
    "        c = np.arange(f_start, f),\n",
    "        norm=plt.Normalize(f_start, f),\n",
    "        cmap=plt.cm.jet, \n",
    "        linewidth=1)\n",
    "\n",
    "    plt.savefig(\n",
    "        os.path.join(path_t, '{0:0>6}.png'.format(f)),\n",
    "        transparent=True, \n",
    "        bbox_inches='tight'\n",
    "    )\n",
    "    #plt.show()\n",
    "    plt.close()\n",
    "    continue\n",
    "\n",
    "\n",
    "    # plot edges\n",
    "    plt.clf()\n",
    "    fig, ax = plt.subplots(figsize=(10,10))\n",
    "    plt.axis('equal')\n",
    "    ax = plt.gca()\n",
    "    #ax = fig.add_subplot(1,1,1, axisbg='black')\n",
    "    ax.tick_params(labelbottom=\"off\", labelleft=\"off\")\n",
    "    ax.tick_params(bottom=\"off\", left=\"off\")\n",
    "    ax.tick_params(top=\"off\", right=\"off\")\n",
    "    ax.axis(\"off\")\n",
    "    plt.plot( [gx-r,gx-r,gx+r,gx+r,gx-r], [gy-r,gy+r,gy+r,gy-r,gy-r], linewidth=5, color='black')\n",
    "\n",
    "    for j in range(gx-r, gx+r-1):\n",
    "\n",
    "        x = np.ones(2*r+1)*(j+1)\n",
    "        y = np.arange(gy-r, gy+r+1, 1)\n",
    "\n",
    "        points = np.array([x, y]).T.reshape(-1, 1, 2)\n",
    "        segments = np.concatenate([points[:-1], points[1:]], axis=1)\n",
    "\n",
    "        lc = mcoll.LineCollection(\n",
    "            segments, array=-np.cos(pdiff_x[::-1,j-(gx-r)]), \n",
    "            cmap=plt.cm.coolwarm, \n",
    "            norm=plt.Normalize(-1.25, 1.0),\n",
    "            linewidth=5, alpha=1.0)\n",
    "        ax.add_collection(lc)\n",
    "\n",
    "    for i in range(gy-r, gy+r-1):\n",
    "\n",
    "        y = np.ones(2*r+1)*(i+1)\n",
    "        x = np.arange(gx-r, gx+r+1, 1)\n",
    "\n",
    "        points = np.array([x, y]).T.reshape(-1, 1, 2)\n",
    "        segments = np.concatenate([points[:-1], points[1:]], axis=1)\n",
    "\n",
    "        lc = mcoll.LineCollection(\n",
    "            segments, \n",
    "            array=-np.cos(pdiff_y[-1-(i-(gy-r)),:]), \n",
    "            cmap=plt.cm.coolwarm, \n",
    "            norm=plt.Normalize(-1.25, 1.0),\n",
    "            linewidth=5, alpha=1.0)\n",
    "        ax.add_collection(lc)    \n",
    "\n",
    "    plt.savefig(\n",
    "        os.path.join(path, '{0:0>6}.png'.format(f)),\n",
    "        transparent=True, \n",
    "        bbox_inches='tight', \n",
    "        facecolor=fig.get_facecolor(),\n",
    "    )\n",
    "    #plt.show()\n",
    "    plt.close()"
   ]
  },
  {
   "cell_type": "code",
   "execution_count": 956,
   "metadata": {
    "collapsed": false
   },
   "outputs": [
    {
     "data": {
      "text/plain": [
       "498"
      ]
     },
     "execution_count": 956,
     "metadata": {},
     "output_type": "execute_result"
    }
   ],
   "source": [
    "len(traj)"
   ]
  },
  {
   "cell_type": "code",
   "execution_count": 933,
   "metadata": {
    "collapsed": false,
    "scrolled": true
   },
   "outputs": [
    {
     "name": "stdout",
     "output_type": "stream",
     "text": [
      "nan\n"
     ]
    },
    {
     "name": "stderr",
     "output_type": "stream",
     "text": [
      "/root/.pyenv/versions/anaconda2-4.3.1/lib/python2.7/site-packages/numpy/lib/function_base.py:2487: RuntimeWarning: Degrees of freedom <= 0 for slice\n",
      "  warnings.warn(\"Degrees of freedom <= 0 for slice\", RuntimeWarning)\n",
      "/root/.pyenv/versions/anaconda2-4.3.1/lib/python2.7/site-packages/numpy/lib/function_base.py:2496: RuntimeWarning: divide by zero encountered in double_scalars\n",
      "  c *= 1. / np.float64(fact)\n",
      "/root/.pyenv/versions/anaconda2-4.3.1/lib/python2.7/site-packages/numpy/lib/function_base.py:2496: RuntimeWarning: invalid value encountered in multiply\n",
      "  c *= 1. / np.float64(fact)\n"
     ]
    },
    {
     "ename": "ValueError",
     "evalue": "On entry to DGELSD parameter number 4 had an illegal value",
     "output_type": "error",
     "traceback": [
      "\u001b[0;31m\u001b[0m",
      "\u001b[0;31mValueError\u001b[0mTraceback (most recent call last)",
      "\u001b[0;32m<ipython-input-933-6fdff2a9f98b>\u001b[0m in \u001b[0;36m<module>\u001b[0;34m()\u001b[0m\n\u001b[1;32m     17\u001b[0m \u001b[0;32mprint\u001b[0m\u001b[0;34m(\u001b[0m\u001b[0mnp\u001b[0m\u001b[0;34m.\u001b[0m\u001b[0mcorrcoef\u001b[0m\u001b[0;34m(\u001b[0m\u001b[0mx\u001b[0m\u001b[0;34m,\u001b[0m\u001b[0my\u001b[0m\u001b[0;34m)\u001b[0m\u001b[0;34m[\u001b[0m\u001b[0;36m0\u001b[0m\u001b[0;34m,\u001b[0m\u001b[0;36m1\u001b[0m\u001b[0;34m]\u001b[0m\u001b[0;34m)\u001b[0m\u001b[0;34m\u001b[0m\u001b[0m\n\u001b[1;32m     18\u001b[0m \u001b[0;34m\u001b[0m\u001b[0m\n\u001b[0;32m---> 19\u001b[0;31m \u001b[0ma\u001b[0m\u001b[0;34m,\u001b[0m \u001b[0mb\u001b[0m \u001b[0;34m=\u001b[0m \u001b[0mnp\u001b[0m\u001b[0;34m.\u001b[0m\u001b[0mpolyfit\u001b[0m\u001b[0;34m(\u001b[0m\u001b[0mx\u001b[0m\u001b[0;34m,\u001b[0m\u001b[0my\u001b[0m\u001b[0;34m,\u001b[0m\u001b[0;36m1\u001b[0m\u001b[0;34m)\u001b[0m\u001b[0;34m\u001b[0m\u001b[0m\n\u001b[0m\u001b[1;32m     20\u001b[0m \u001b[0mxs\u001b[0m \u001b[0;34m=\u001b[0m \u001b[0mnp\u001b[0m\u001b[0;34m.\u001b[0m\u001b[0marange\u001b[0m\u001b[0;34m(\u001b[0m\u001b[0mxmin\u001b[0m\u001b[0;34m,\u001b[0m \u001b[0mxmax\u001b[0m\u001b[0;34m,\u001b[0m \u001b[0;34m(\u001b[0m\u001b[0mxmax\u001b[0m\u001b[0;34m-\u001b[0m\u001b[0mxmin\u001b[0m\u001b[0;34m)\u001b[0m\u001b[0;34m*\u001b[0m\u001b[0;36m0.01\u001b[0m\u001b[0;34m)\u001b[0m\u001b[0;34m\u001b[0m\u001b[0m\n\u001b[1;32m     21\u001b[0m \u001b[0my2\u001b[0m \u001b[0;34m=\u001b[0m \u001b[0ma\u001b[0m\u001b[0;34m*\u001b[0m\u001b[0mxs\u001b[0m\u001b[0;34m+\u001b[0m\u001b[0mb\u001b[0m\u001b[0;34m\u001b[0m\u001b[0m\n",
      "\u001b[0;32m/root/.pyenv/versions/anaconda2-4.3.1/lib/python2.7/site-packages/numpy/lib/polynomial.pyc\u001b[0m in \u001b[0;36mpolyfit\u001b[0;34m(x, y, deg, rcond, full, w, cov)\u001b[0m\n\u001b[1;32m    587\u001b[0m     \u001b[0mscale\u001b[0m \u001b[0;34m=\u001b[0m \u001b[0mNX\u001b[0m\u001b[0;34m.\u001b[0m\u001b[0msqrt\u001b[0m\u001b[0;34m(\u001b[0m\u001b[0;34m(\u001b[0m\u001b[0mlhs\u001b[0m\u001b[0;34m*\u001b[0m\u001b[0mlhs\u001b[0m\u001b[0;34m)\u001b[0m\u001b[0;34m.\u001b[0m\u001b[0msum\u001b[0m\u001b[0;34m(\u001b[0m\u001b[0maxis\u001b[0m\u001b[0;34m=\u001b[0m\u001b[0;36m0\u001b[0m\u001b[0;34m)\u001b[0m\u001b[0;34m)\u001b[0m\u001b[0;34m\u001b[0m\u001b[0m\n\u001b[1;32m    588\u001b[0m     \u001b[0mlhs\u001b[0m \u001b[0;34m/=\u001b[0m \u001b[0mscale\u001b[0m\u001b[0;34m\u001b[0m\u001b[0m\n\u001b[0;32m--> 589\u001b[0;31m     \u001b[0mc\u001b[0m\u001b[0;34m,\u001b[0m \u001b[0mresids\u001b[0m\u001b[0;34m,\u001b[0m \u001b[0mrank\u001b[0m\u001b[0;34m,\u001b[0m \u001b[0ms\u001b[0m \u001b[0;34m=\u001b[0m \u001b[0mlstsq\u001b[0m\u001b[0;34m(\u001b[0m\u001b[0mlhs\u001b[0m\u001b[0;34m,\u001b[0m \u001b[0mrhs\u001b[0m\u001b[0;34m,\u001b[0m \u001b[0mrcond\u001b[0m\u001b[0;34m)\u001b[0m\u001b[0;34m\u001b[0m\u001b[0m\n\u001b[0m\u001b[1;32m    590\u001b[0m     \u001b[0mc\u001b[0m \u001b[0;34m=\u001b[0m \u001b[0;34m(\u001b[0m\u001b[0mc\u001b[0m\u001b[0;34m.\u001b[0m\u001b[0mT\u001b[0m\u001b[0;34m/\u001b[0m\u001b[0mscale\u001b[0m\u001b[0;34m)\u001b[0m\u001b[0;34m.\u001b[0m\u001b[0mT\u001b[0m  \u001b[0;31m# broadcast scale coefficients\u001b[0m\u001b[0;34m\u001b[0m\u001b[0m\n\u001b[1;32m    591\u001b[0m \u001b[0;34m\u001b[0m\u001b[0m\n",
      "\u001b[0;32m/root/.pyenv/versions/anaconda2-4.3.1/lib/python2.7/site-packages/numpy/linalg/linalg.pyc\u001b[0m in \u001b[0;36mlstsq\u001b[0;34m(a, b, rcond)\u001b[0m\n\u001b[1;32m   1917\u001b[0m         \u001b[0mwork\u001b[0m \u001b[0;34m=\u001b[0m \u001b[0mzeros\u001b[0m\u001b[0;34m(\u001b[0m\u001b[0;34m(\u001b[0m\u001b[0mlwork\u001b[0m\u001b[0;34m,\u001b[0m\u001b[0;34m)\u001b[0m\u001b[0;34m,\u001b[0m \u001b[0mt\u001b[0m\u001b[0;34m)\u001b[0m\u001b[0;34m\u001b[0m\u001b[0m\n\u001b[1;32m   1918\u001b[0m         results = lapack_routine(m, n, n_rhs, a, m, bstar, ldb, s, rcond,\n\u001b[0;32m-> 1919\u001b[0;31m                                  0, work, lwork, iwork, 0)\n\u001b[0m\u001b[1;32m   1920\u001b[0m     \u001b[0;32mif\u001b[0m \u001b[0mresults\u001b[0m\u001b[0;34m[\u001b[0m\u001b[0;34m'info'\u001b[0m\u001b[0;34m]\u001b[0m \u001b[0;34m>\u001b[0m \u001b[0;36m0\u001b[0m\u001b[0;34m:\u001b[0m\u001b[0;34m\u001b[0m\u001b[0m\n\u001b[1;32m   1921\u001b[0m         \u001b[0;32mraise\u001b[0m \u001b[0mLinAlgError\u001b[0m\u001b[0;34m(\u001b[0m\u001b[0;34m'SVD did not converge in Linear Least Squares'\u001b[0m\u001b[0;34m)\u001b[0m\u001b[0;34m\u001b[0m\u001b[0m\n",
      "\u001b[0;31mValueError\u001b[0m: On entry to DGELSD parameter number 4 had an illegal value"
     ]
    },
    {
     "data": {
      "image/png": "[encoded data removed]",
      "text/plain": [
       "<matplotlib.figure.Figure at 0x7fdd90fdab90>"
      ]
     },
     "metadata": {},
     "output_type": "display_data"
    }
   ],
   "source": [
    "## mean bipolarity vs. SW speed \n",
    "out = np.array(out)\n",
    "x = out[:,0]\n",
    "y = out[:,1]\n",
    "\n",
    "ax = plt.gca()#.set_aspect('equal', adjustable='box')\n",
    "#ax.set_aspect('equal')\n",
    "\n",
    "xmin = x.min() - (x.max()-x.min())*0.1\n",
    "xmax = x.max() + (x.max()-x.min())*0.1\n",
    "ymin = y.min() - (y.max()-y.min())*0.1\n",
    "ymax = y.max() + (y.max()-y.min())*0.1\n",
    "\n",
    "ax.axis([xmin, xmax, ymin, ymax])\n",
    "ax.scatter(x,y, c='k', s=5)\n",
    "\n",
    "print(np.corrcoef(x,y)[0,1])\n",
    "\n",
    "a, b = np.polyfit(x,y,1)\n",
    "xs = np.arange(xmin, xmax, (xmax-xmin)*0.01)\n",
    "y2 = a*xs+b\n",
    "ax.plot(xs, y2, c='r')\n",
    "\n",
    "plt.show()"
   ]
  },
  {
   "cell_type": "markdown",
   "metadata": {},
   "source": [
    "## Misc"
   ]
  },
  {
   "cell_type": "code",
   "execution_count": 14,
   "metadata": {
    "collapsed": false
   },
   "outputs": [
    {
     "data": {
      "text/plain": [
       "<matplotlib.figure.Figure at 0x7fddc73e1650>"
      ]
     },
     "metadata": {},
     "output_type": "display_data"
    },
    {
     "data": {
      "image/png": "[encoded data removed]",
      "text/plain": [
       "<matplotlib.figure.Figure at 0x7fddc73e1210>"
      ]
     },
     "metadata": {},
     "output_type": "display_data"
    }
   ],
   "source": [
    "\n",
    "plt.clf()\n",
    "\n",
    "fig, ax = plt.subplots(figsize=(5,5))\n",
    "plt.axis('equal')\n",
    "plt.axis([-1.2, 1.2, -1.2, 1.2])\n",
    "ax = plt.gca()\n",
    "ax.tick_params(labelbottom=\"off\", labelleft=\"off\")\n",
    "ax.tick_params(bottom=\"off\", left=\"off\")\n",
    "ax.tick_params(top=\"off\", right=\"off\")\n",
    "ax.axis(\"off\")\n",
    "\n",
    "phases = np.arange(0,2*np.pi,np.pi/1024)\n",
    "plt.scatter( np.cos(phases), np.sin(phases), c='k', s=.02)\n",
    "\n",
    "A = np.arange(-1.2, 1.2, 0.01)\n",
    "plt.scatter( A, np.zeros_like(A), c='k', s=.02)\n",
    "plt.scatter( np.zeros_like(A), A, c='k', s=.02)\n",
    "\n",
    "phases = np.arange(0,2*np.pi,np.pi/16)\n",
    "plt.scatter( \n",
    "    np.cos(phases), np.sin(phases), \n",
    "    c=-np.cos(phases), \n",
    "    cmap=plt.cm.coolwarm,\n",
    "    s=10)\n",
    "\n",
    "segments = np.array( [[[0,0],[np.cos(theta), np.sin(theta)]] for theta in phases], dtype=np.float64)\n",
    "lc = mcoll.LineCollection(\n",
    "    segments, array=-np.cos(phases), \n",
    "    cmap=plt.cm.coolwarm, \n",
    "    norm=plt.Normalize(-1.0, 1.0),\n",
    "    linewidth=1, alpha=1.0)\n",
    "ax.add_collection(lc)\n",
    "\n",
    "plt.show()\n",
    "\n",
    "#plt.savefig(os.path.join(path, '{0:0>6}.png'.format(f)))\n",
    "#plt.close()"
   ]
  }
 ],
 "metadata": {
  "kernelspec": {
   "display_name": "Python 2",
   "language": "python",
   "name": "python2"
  },
  "language_info": {
   "codemirror_mode": {
    "name": "ipython",
    "version": 2
   },
   "file_extension": ".py",
   "mimetype": "text/x-python",
   "name": "python",
   "nbconvert_exporter": "python",
   "pygments_lexer": "ipython2",
   "version": "2.7.13"
  }
 },
 "nbformat": 4,
 "nbformat_minor": 2
}
